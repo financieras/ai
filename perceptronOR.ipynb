{
  "nbformat": 4,
  "nbformat_minor": 0,
  "metadata": {
    "colab": {
      "provenance": [],
      "authorship_tag": "ABX9TyMCcJHXnSg4EIcUh4p+U+n9",
      "include_colab_link": true
    },
    "kernelspec": {
      "name": "python3",
      "display_name": "Python 3"
    },
    "language_info": {
      "name": "python"
    }
  },
  "cells": [
    {
      "cell_type": "markdown",
      "metadata": {
        "id": "view-in-github",
        "colab_type": "text"
      },
      "source": [
        "<a href=\"https://colab.research.google.com/github/financieras/ai/blob/main/perceptronOR.ipynb\" target=\"_parent\"><img src=\"https://colab.research.google.com/assets/colab-badge.svg\" alt=\"Open In Colab\"/></a>"
      ]
    },
    {
      "cell_type": "markdown",
      "source": [
        "# Perceptron OR"
      ],
      "metadata": {
        "id": "BY8b5C8oyvD1"
      }
    },
    {
      "cell_type": "code",
      "execution_count": 8,
      "metadata": {
        "colab": {
          "base_uri": "https://localhost:8080/"
        },
        "id": "m8nZ5klSytq2",
        "outputId": "7a1969be-dd6e-4421-e7e4-0ef879676712"
      },
      "outputs": [
        {
          "output_type": "stream",
          "name": "stdout",
          "text": [
            "[1 0 0 1 1] [1 0 1 0 1]\n",
            "[0.30998876 0.03486513 0.34055445]\n"
          ]
        }
      ],
      "source": [
        "import numpy as np\n",
        "\n",
        "np.random.seed()\n",
        "\n",
        "X1 = np.array([1,0,0,1,1])\n",
        "X2 = np.array([1,0,1,0,1])\n",
        "Y = np.array([0,1,1,1])\n",
        "print(X1, X2)\n",
        "\n",
        "b = np.random.uniform(0, 1)\n",
        "w1 = np.random.uniform(0, 1)\n",
        "w2 = np.random.uniform(0, 1)\n",
        "W = np.array([b, w1, w2])\n",
        "print(W)"
      ]
    }
  ]
}