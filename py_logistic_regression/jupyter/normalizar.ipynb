{
  "nbformat": 4,
  "nbformat_minor": 0,
  "metadata": {
    "colab": {
      "provenance": [],
      "authorship_tag": "ABX9TyOpklXm8j3j7ZQMtD2pc19Q",
      "include_colab_link": true
    },
    "kernelspec": {
      "name": "python3",
      "display_name": "Python 3"
    },
    "language_info": {
      "name": "python"
    }
  },
  "cells": [
    {
      "cell_type": "markdown",
      "metadata": {
        "id": "view-in-github",
        "colab_type": "text"
      },
      "source": [
        "<a href=\"https://colab.research.google.com/github/financieras/ai/blob/main/logistic_regression/jupyter/normalizar.ipynb\" target=\"_parent\"><img src=\"https://colab.research.google.com/assets/colab-badge.svg\" alt=\"Open In Colab\"/></a>"
      ]
    },
    {
      "cell_type": "markdown",
      "source": [
        "# Normalizar dataset\n",
        "Partimos de un archivo CSV y lo limpiamos, seleccionamos columnas y normalizamos.\n",
        "\n",
        "Los archivos de origen están en Drive y son:\n",
        "- 'datasets/dataset_train.csv'\n",
        "- 'datasets/dataset_test.csv'\n",
        "\n",
        "Los archivos están en Google Drive por lo que lo leemos y construimos un DataFrame."
      ],
      "metadata": {
        "id": "W_7P-FS-vCaa"
      }
    },
    {
      "cell_type": "code",
      "execution_count": 1,
      "metadata": {
        "colab": {
          "base_uri": "https://localhost:8080/"
        },
        "id": "h4aS4PZhuxgC",
        "outputId": "65b84bf6-d080-498f-d63f-ee081c4c6d1d"
      },
      "outputs": [
        {
          "output_type": "stream",
          "name": "stdout",
          "text": [
            "Drive already mounted at /content/drive; to attempt to forcibly remount, call drive.mount(\"/content/drive\", force_remount=True).\n"
          ]
        }
      ],
      "source": [
        "from google.colab import drive\n",
        "drive.mount('/content/drive')"
      ]
    },
    {
      "cell_type": "code",
      "source": [
        "import pandas as pd\n",
        "\n",
        "# Ruta al archivo en Google Drive\n",
        "input_file = '/content/drive/My Drive/datasets/dataset_train.csv'\n",
        "\n",
        "# Leer el archivo CSV y crear el DataFrame\n",
        "df = pd.read_csv(input_file)\n",
        "\n",
        "# Mostrar información sobre las columnas del DataFrame\n",
        "print(df.info())"
      ],
      "metadata": {
        "colab": {
          "base_uri": "https://localhost:8080/"
        },
        "id": "R9-YX6WGwMcS",
        "outputId": "bc8fad8c-85a7-4c4f-a8e4-cb34970955ce"
      },
      "execution_count": 2,
      "outputs": [
        {
          "output_type": "stream",
          "name": "stdout",
          "text": [
            "<class 'pandas.core.frame.DataFrame'>\n",
            "RangeIndex: 1600 entries, 0 to 1599\n",
            "Data columns (total 19 columns):\n",
            " #   Column                         Non-Null Count  Dtype  \n",
            "---  ------                         --------------  -----  \n",
            " 0   Index                          1600 non-null   int64  \n",
            " 1   Hogwarts House                 1600 non-null   object \n",
            " 2   First Name                     1600 non-null   object \n",
            " 3   Last Name                      1600 non-null   object \n",
            " 4   Birthday                       1600 non-null   object \n",
            " 5   Best Hand                      1600 non-null   object \n",
            " 6   Arithmancy                     1566 non-null   float64\n",
            " 7   Astronomy                      1568 non-null   float64\n",
            " 8   Herbology                      1567 non-null   float64\n",
            " 9   Defense Against the Dark Arts  1569 non-null   float64\n",
            " 10  Divination                     1561 non-null   float64\n",
            " 11  Muggle Studies                 1565 non-null   float64\n",
            " 12  Ancient Runes                  1565 non-null   float64\n",
            " 13  History of Magic               1557 non-null   float64\n",
            " 14  Transfiguration                1566 non-null   float64\n",
            " 15  Potions                        1570 non-null   float64\n",
            " 16  Care of Magical Creatures      1560 non-null   float64\n",
            " 17  Charms                         1600 non-null   float64\n",
            " 18  Flying                         1600 non-null   float64\n",
            "dtypes: float64(13), int64(1), object(5)\n",
            "memory usage: 237.6+ KB\n",
            "None\n"
          ]
        }
      ]
    },
    {
      "cell_type": "code",
      "source": [
        "# Borrar la columna 'Astronomy'\n",
        "df = df.drop(columns=['Astronomy'])"
      ],
      "metadata": {
        "id": "dkjndGXkxuly"
      },
      "execution_count": 3,
      "outputs": []
    },
    {
      "cell_type": "code",
      "source": [
        "# Convert 'Birthday' to datetime format\n",
        "df['Birthday'] = pd.to_datetime(df['Birthday'])\n",
        "\n",
        "# Convert 'Best Hand' to a binary variable (0 for Left, 1 for Right)\n",
        "df['Best Hand'] = df['Best Hand'].map({'Left': 0, 'Right': 1})\n",
        "\n",
        "# Reset the index to a continuous sequence\n",
        "df = df.reset_index(drop=True)\n",
        "\n",
        "# Remove the original 'Index' column if it exists\n",
        "if 'Index' in df.columns:\n",
        "    df = df.drop('Index', axis=1)\n",
        "\n",
        "print(df.info())"
      ],
      "metadata": {
        "colab": {
          "base_uri": "https://localhost:8080/"
        },
        "id": "x_02HydwzT00",
        "outputId": "a9da505a-c22d-4c51-e106-60c764d90ef1"
      },
      "execution_count": 4,
      "outputs": [
        {
          "output_type": "stream",
          "name": "stdout",
          "text": [
            "<class 'pandas.core.frame.DataFrame'>\n",
            "RangeIndex: 1600 entries, 0 to 1599\n",
            "Data columns (total 17 columns):\n",
            " #   Column                         Non-Null Count  Dtype         \n",
            "---  ------                         --------------  -----         \n",
            " 0   Hogwarts House                 1600 non-null   object        \n",
            " 1   First Name                     1600 non-null   object        \n",
            " 2   Last Name                      1600 non-null   object        \n",
            " 3   Birthday                       1600 non-null   datetime64[ns]\n",
            " 4   Best Hand                      1600 non-null   int64         \n",
            " 5   Arithmancy                     1566 non-null   float64       \n",
            " 6   Herbology                      1567 non-null   float64       \n",
            " 7   Defense Against the Dark Arts  1569 non-null   float64       \n",
            " 8   Divination                     1561 non-null   float64       \n",
            " 9   Muggle Studies                 1565 non-null   float64       \n",
            " 10  Ancient Runes                  1565 non-null   float64       \n",
            " 11  History of Magic               1557 non-null   float64       \n",
            " 12  Transfiguration                1566 non-null   float64       \n",
            " 13  Potions                        1570 non-null   float64       \n",
            " 14  Care of Magical Creatures      1560 non-null   float64       \n",
            " 15  Charms                         1600 non-null   float64       \n",
            " 16  Flying                         1600 non-null   float64       \n",
            "dtypes: datetime64[ns](1), float64(12), int64(1), object(3)\n",
            "memory usage: 212.6+ KB\n",
            "None\n"
          ]
        }
      ]
    },
    {
      "cell_type": "markdown",
      "source": [
        "## Normalización\n",
        "Es crucial usar EXACTAMENTE los mismos parámetros de normalización (media y desviación estándar) que se usen para los datos de entrenamiento cuando se aplique la normalización a los datos de test. No se deben calcular nuevos parámetros con los datos de test."
      ],
      "metadata": {
        "id": "DWsgM_MQNqFs"
      }
    },
    {
      "cell_type": "code",
      "source": [
        "# Calculate age based on the maximum date in Birthday column\n",
        "df['Birthday'] = pd.to_datetime(df['Birthday'])\n",
        "reference_date = df['Birthday'].max()\n",
        "df['Age'] = (reference_date - df['Birthday']).dt.days / 365.25\n",
        "\n",
        "# Remove unnecessary columns\n",
        "columns_to_drop = ['First Name', 'Last Name', 'Birthday']\n",
        "df = df.drop(columns=columns_to_drop)\n",
        "\n",
        "# Select numerical columns to normalize (including Age which is already float64)\n",
        "columns_to_normalize = df.select_dtypes(include=['float64']).columns.tolist()\n",
        "\n",
        "# Function to normalize using mean and standard deviation\n",
        "def normalize(column, mean=None, std=None):\n",
        "    \"\"\"\n",
        "    Normaliza una columna usando media y desviación estándar\n",
        "\n",
        "    Parámetros:\n",
        "    column: columna a normalizar\n",
        "    mean: media preexistente (opcional)\n",
        "    std: desviación estándar preexistente (opcional)\n",
        "\n",
        "    Retorna:\n",
        "    Si mean y std son None:\n",
        "        column_normalized, mean, std\n",
        "    Si mean y std son proporcionados:\n",
        "        column_normalized\n",
        "    \"\"\"\n",
        "    if mean is None or std is None:\n",
        "        mean = column.mean()\n",
        "        std = column.std()\n",
        "        return (column - mean) / std, mean, std\n",
        "    return (column - mean) / std\n",
        "\n",
        "# Diccionario para guardar los parámetros de normalización\n",
        "normalization_params = {}\n",
        "\n",
        "# Aplicar normalización y guardar parámetros\n",
        "for column in columns_to_normalize:\n",
        "    df[column], mean, std = normalize(df[column])\n",
        "    normalization_params[column] = {'mean': mean, 'std': std}\n",
        "\n",
        "\n",
        "# Apply one-hot encoding for Hogwarts House\n",
        "df = pd.get_dummies(df, columns=['Hogwarts House'], prefix='House', dtype=float)\n",
        "\n",
        "# Convert int values in 'Best Hand' column to float64 values\n",
        "df['Best Hand'] = df['Best Hand'].astype(float)\n",
        "\n",
        "\n",
        "print(df.info())"
      ],
      "metadata": {
        "colab": {
          "base_uri": "https://localhost:8080/"
        },
        "id": "j080C_5z015I",
        "outputId": "e4a3ed3a-0974-4c20-fa76-ee937ade8029"
      },
      "execution_count": 5,
      "outputs": [
        {
          "output_type": "stream",
          "name": "stdout",
          "text": [
            "<class 'pandas.core.frame.DataFrame'>\n",
            "RangeIndex: 1600 entries, 0 to 1599\n",
            "Data columns (total 18 columns):\n",
            " #   Column                         Non-Null Count  Dtype  \n",
            "---  ------                         --------------  -----  \n",
            " 0   Best Hand                      1600 non-null   float64\n",
            " 1   Arithmancy                     1566 non-null   float64\n",
            " 2   Herbology                      1567 non-null   float64\n",
            " 3   Defense Against the Dark Arts  1569 non-null   float64\n",
            " 4   Divination                     1561 non-null   float64\n",
            " 5   Muggle Studies                 1565 non-null   float64\n",
            " 6   Ancient Runes                  1565 non-null   float64\n",
            " 7   History of Magic               1557 non-null   float64\n",
            " 8   Transfiguration                1566 non-null   float64\n",
            " 9   Potions                        1570 non-null   float64\n",
            " 10  Care of Magical Creatures      1560 non-null   float64\n",
            " 11  Charms                         1600 non-null   float64\n",
            " 12  Flying                         1600 non-null   float64\n",
            " 13  Age                            1600 non-null   float64\n",
            " 14  House_Gryffindor               1600 non-null   float64\n",
            " 15  House_Hufflepuff               1600 non-null   float64\n",
            " 16  House_Ravenclaw                1600 non-null   float64\n",
            " 17  House_Slytherin                1600 non-null   float64\n",
            "dtypes: float64(18)\n",
            "memory usage: 225.1 KB\n",
            "None\n"
          ]
        }
      ]
    },
    {
      "cell_type": "code",
      "source": [
        "# Remove columns\n",
        "reduce_columns = ['Arithmancy', 'Divination', 'Muggle Studies', 'Ancient Runes', 'History of Magic', 'Transfiguration', 'Care of Magical Creatures']\n",
        "df = df.drop(columns=reduce_columns)\n",
        "\n",
        "print(df.info())"
      ],
      "metadata": {
        "colab": {
          "base_uri": "https://localhost:8080/"
        },
        "id": "9yelWg2h0Pka",
        "outputId": "80bd38cf-eb72-4ebc-dedf-145ae26a4403"
      },
      "execution_count": 6,
      "outputs": [
        {
          "output_type": "stream",
          "name": "stdout",
          "text": [
            "<class 'pandas.core.frame.DataFrame'>\n",
            "RangeIndex: 1600 entries, 0 to 1599\n",
            "Data columns (total 11 columns):\n",
            " #   Column                         Non-Null Count  Dtype  \n",
            "---  ------                         --------------  -----  \n",
            " 0   Best Hand                      1600 non-null   float64\n",
            " 1   Herbology                      1567 non-null   float64\n",
            " 2   Defense Against the Dark Arts  1569 non-null   float64\n",
            " 3   Potions                        1570 non-null   float64\n",
            " 4   Charms                         1600 non-null   float64\n",
            " 5   Flying                         1600 non-null   float64\n",
            " 6   Age                            1600 non-null   float64\n",
            " 7   House_Gryffindor               1600 non-null   float64\n",
            " 8   House_Hufflepuff               1600 non-null   float64\n",
            " 9   House_Ravenclaw                1600 non-null   float64\n",
            " 10  House_Slytherin                1600 non-null   float64\n",
            "dtypes: float64(11)\n",
            "memory usage: 137.6 KB\n",
            "None\n"
          ]
        }
      ]
    },
    {
      "cell_type": "code",
      "source": [
        "# Drop rows with missing data\n",
        "df = df.dropna()\n",
        "\n",
        "# Remove duplicate rows\n",
        "df = df.drop_duplicates()\n",
        "\n",
        "print(df.info())"
      ],
      "metadata": {
        "colab": {
          "base_uri": "https://localhost:8080/"
        },
        "id": "GzELn2rHy8Bx",
        "outputId": "089299f5-6940-4ace-937c-35b29d0bf164"
      },
      "execution_count": 7,
      "outputs": [
        {
          "output_type": "stream",
          "name": "stdout",
          "text": [
            "<class 'pandas.core.frame.DataFrame'>\n",
            "Index: 1508 entries, 0 to 1599\n",
            "Data columns (total 11 columns):\n",
            " #   Column                         Non-Null Count  Dtype  \n",
            "---  ------                         --------------  -----  \n",
            " 0   Best Hand                      1508 non-null   float64\n",
            " 1   Herbology                      1508 non-null   float64\n",
            " 2   Defense Against the Dark Arts  1508 non-null   float64\n",
            " 3   Potions                        1508 non-null   float64\n",
            " 4   Charms                         1508 non-null   float64\n",
            " 5   Flying                         1508 non-null   float64\n",
            " 6   Age                            1508 non-null   float64\n",
            " 7   House_Gryffindor               1508 non-null   float64\n",
            " 8   House_Hufflepuff               1508 non-null   float64\n",
            " 9   House_Ravenclaw                1508 non-null   float64\n",
            " 10  House_Slytherin                1508 non-null   float64\n",
            "dtypes: float64(11)\n",
            "memory usage: 141.4 KB\n",
            "None\n"
          ]
        }
      ]
    },
    {
      "cell_type": "markdown",
      "source": [
        "## Variables del modelo"
      ],
      "metadata": {
        "id": "4O5MtH4d45ss"
      }
    },
    {
      "cell_type": "code",
      "source": [
        "import numpy as np\n",
        "\n",
        "# 1. Crear la matriz y con todas las casas ya que estoy en un caso de clasificación multinomial\n",
        "y = df[['House_Gryffindor', 'House_Hufflepuff', 'House_Ravenclaw', 'House_Slytherin']]\n",
        "\n",
        "# 2. Seleccionar las características (X)\n",
        "X = df[['Best Hand', 'Age', 'Herbology', 'Defense Against the Dark Arts',\n",
        "        'Potions', 'Charms', 'Flying']]\n",
        "\n",
        "# 3. Agregar columna de 1's para el término de sesgo (bias)\n",
        "X = np.c_[np.ones(len(X)), X]\n",
        "\n",
        "# Convertir a arrays de numpy para operaciones más eficientes\n",
        "X = np.array(X)\n",
        "y = np.array(y)\n",
        "\n",
        "print(\"\\nPrimeros 3 valores de X:\")\n",
        "print(X[:3])\n",
        "\n",
        "print(\"\\nPrimeros 3 valores de y:\")\n",
        "print(y[:3])"
      ],
      "metadata": {
        "colab": {
          "base_uri": "https://localhost:8080/"
        },
        "id": "70cllbxx5CQg",
        "outputId": "f6dc830b-2c5f-47df-c238-61dd46feb270"
      },
      "execution_count": 8,
      "outputs": [
        {
          "output_type": "stream",
          "name": "stdout",
          "text": [
            "\n",
            "Primeros 3 valores de X:\n",
            "[[ 1.          0.         -0.65312594  0.87862839  1.01034582 -0.68618295\n",
            "   1.20455291 -0.50032993]\n",
            " [ 1.          1.         -0.33150337 -1.36568958  1.13345528  0.41246159\n",
            "  -1.00298294 -1.3869281 ]\n",
            " [ 1.          0.         -0.36979177  1.26137897  0.7766708   0.88255609\n",
            "   1.82518401  0.08667263]]\n",
            "\n",
            "Primeros 3 valores de y:\n",
            "[[0. 0. 1. 0.]\n",
            " [0. 0. 0. 1.]\n",
            " [0. 0. 1. 0.]]\n"
          ]
        }
      ]
    },
    {
      "cell_type": "markdown",
      "source": [
        "## Función Sofmax\n",
        "- Para un caso multinomial, en lugar de la función sigmoide, es recomendado usar la función softmax.  \n",
        "- La función sigmoide se usa principalmente para clasificación binaria, mientras que softmax es la generalización para múltiples clases.\n",
        "- La función softmax se define como:\n",
        "- softmax(z)_i = exp(z_i) / Σ(exp(z_j))"
      ],
      "metadata": {
        "id": "ef4XyUuU92fA"
      }
    },
    {
      "cell_type": "code",
      "source": [
        "def softmax(z):\n",
        "    \"\"\"\n",
        "    Calcula la función softmax para clasificación multinomial\n",
        "\n",
        "    Parámetros:\n",
        "    z: matriz de forma (n_muestras, n_clases)\n",
        "\n",
        "    Retorna:\n",
        "    matriz de probabilidades de forma (n_muestras, n_clases)\n",
        "    donde cada fila suma 1\n",
        "    \"\"\"\n",
        "    # Restamos el máximo para estabilidad numérica\n",
        "    # Esto evita desbordamiento en exp() con números grandes\n",
        "    z_shifted = z - np.max(z, axis=1, keepdims=True)\n",
        "\n",
        "    # Calculamos exp() de los valores desplazados\n",
        "    exp_scores = np.exp(z_shifted)\n",
        "\n",
        "    # Normalizamos dividiendo por la suma\n",
        "    return exp_scores / np.sum(exp_scores, axis=1, keepdims=True)\n",
        "\n",
        "# Podemos probar la función con algunos valores\n",
        "test_values = np.array([\n",
        "    [1, 2, 3, 4],\n",
        "    [2, 1, 0, -1],\n",
        "    [0, 0, 0, 0]\n",
        "])\n",
        "print(\"Valores de prueba:\\n\", test_values)\n",
        "print(\"\\nProbabilidades softmax:\\n\", softmax(test_values))\n",
        "print(\"\\nVerificar que cada fila suma 1:\\n\", np.sum(softmax(test_values), axis=1))"
      ],
      "metadata": {
        "colab": {
          "base_uri": "https://localhost:8080/"
        },
        "id": "BjrCX-Bl953k",
        "outputId": "689cc4d1-9dad-4c43-d451-d1825e2091e3"
      },
      "execution_count": 9,
      "outputs": [
        {
          "output_type": "stream",
          "name": "stdout",
          "text": [
            "Valores de prueba:\n",
            " [[ 1  2  3  4]\n",
            " [ 2  1  0 -1]\n",
            " [ 0  0  0  0]]\n",
            "\n",
            "Probabilidades softmax:\n",
            " [[0.0320586  0.08714432 0.23688282 0.64391426]\n",
            " [0.64391426 0.23688282 0.08714432 0.0320586 ]\n",
            " [0.25       0.25       0.25       0.25      ]]\n",
            "\n",
            "Verificar que cada fila suma 1:\n",
            " [1. 1. 1.]\n"
          ]
        }
      ]
    },
    {
      "cell_type": "markdown",
      "source": [
        "## Función de pérdida\n",
        "- Para el caso multinomial, necesitamos adaptar la función de pérdida para manejar múltiples clases.\n",
        "- La función de pérdida logarítmica multinomial también se llama cross-entropy."
      ],
      "metadata": {
        "id": "IGZxoFqe-C1H"
      }
    },
    {
      "cell_type": "code",
      "source": [
        "def compute_cost(X, y, W):\n",
        "    \"\"\"\n",
        "    Calcula la función de pérdida logarítmica (cross-entropy) para clasificación multinomial\n",
        "\n",
        "    Parámetros:\n",
        "    X: matriz de características (incluyendo columna de 1's) de forma (n_muestras, n_características)\n",
        "    y: matriz one-hot de etiquetas reales de forma (n_muestras, n_clases)\n",
        "    W: matriz de pesos de forma (n_características, n_clases)\n",
        "\n",
        "    Retorna:\n",
        "    J: valor de la función de pérdida\n",
        "    \"\"\"\n",
        "    m = X.shape[0]  # número de muestras\n",
        "\n",
        "    # Calcular predicciones\n",
        "    z = np.dot(X, W)  # (n_muestras, n_clases)\n",
        "    h = softmax(z)    # (n_muestras, n_clases)\n",
        "\n",
        "    # Calcular pérdida logarítmica\n",
        "    epsilon = 1e-15  # para evitar log(0)\n",
        "\n",
        "    # Multiplicación elemento a elemento de y real con log de predicciones\n",
        "    # y sumamos sobre todas las clases (axis=1) y todas las muestras\n",
        "    J = -(1/m) * np.sum(y * np.log(h + epsilon))\n",
        "\n",
        "    return J\n",
        "\n",
        "# Ejemplo de uso:\n",
        "# Supongamos que tenemos:\n",
        "# X: (1508, 8) - 1508 muestras, 7 características + 1 columna de unos\n",
        "# y: (1508, 4) - etiquetas one-hot para 4 casas\n",
        "# W: (8, 4) - pesos para cada característica y cada clase\n",
        "\n",
        "# Inicializar pesos aleatoriamente\n",
        "W = np.random.randn(X.shape[1], y.shape[1]) * 0.01\n",
        "\n",
        "# Calcular coste inicial\n",
        "cost = compute_cost(X, y, W)\n",
        "print(f\"Coste inicial: {cost}\")"
      ],
      "metadata": {
        "colab": {
          "base_uri": "https://localhost:8080/"
        },
        "id": "DzLfoeN5-EXL",
        "outputId": "cc014bef-145f-43ce-dd0e-cc304944cdb9"
      },
      "execution_count": 10,
      "outputs": [
        {
          "output_type": "stream",
          "name": "stdout",
          "text": [
            "Coste inicial: 1.381007705676459\n"
          ]
        }
      ]
    },
    {
      "cell_type": "markdown",
      "source": [
        "Las principales diferencias con la versión binaria son:\n",
        "- Usamos W (matriz de pesos) en lugar de theta (vector)\n",
        "- Usamos softmax en lugar de sigmoid\n",
        "- La fórmula de la pérdida es más simple porque y es one-hot encoding (solo el término positivo importa)\n",
        "- No necesitamos el término (1-y) porque las etiquetas ya están en formato one-hot\n",
        "\n",
        "Esta función de pérdida penalizará más cuando el modelo asigne probabilidades bajas a las clases correctas y nos servirá para entrenar el modelo mediante descenso por gradiente."
      ],
      "metadata": {
        "id": "c37A1_mUATDv"
      }
    },
    {
      "cell_type": "markdown",
      "source": [
        "## Descenso del Gradiente\n",
        "Para el caso multinomial, necesitamos adaptar la función de descenso del gradiente para manejar la matriz de pesos W en lugar del vector theta."
      ],
      "metadata": {
        "id": "CmOaVF4B-ObG"
      }
    },
    {
      "cell_type": "code",
      "source": [
        "def gradient_descent_multinomial(X, y, learning_rate=0.1, num_iterations=1000, epsilon=1e-8):\n",
        "    \"\"\"\n",
        "    Implementa el descenso del gradiente para regresión logística multinomial\n",
        "\n",
        "    Parámetros:\n",
        "    X: matriz de características (incluyendo columna de 1's) de forma (n_muestras, n_características)\n",
        "    y: matriz one-hot de etiquetas reales de forma (n_muestras, n_clases)\n",
        "    learning_rate: tasa de aprendizaje (alpha)\n",
        "    num_iterations: número máximo de iteraciones\n",
        "    epsilon: umbral para early stopping\n",
        "\n",
        "    Retorna:\n",
        "    W: matriz de pesos optimizada\n",
        "    cost_history: lista con el valor de la función de pérdida en cada iteración\n",
        "    \"\"\"\n",
        "    # Inicializar matriz de pesos W con valores pequeños aleatorios\n",
        "    n_features = X.shape[1]\n",
        "    n_classes = y.shape[1]\n",
        "    W = np.random.randn(n_features, n_classes) * 0.01\n",
        "\n",
        "    # Lista para guardar el historial de costes\n",
        "    cost_history = []\n",
        "\n",
        "    # Número de muestras\n",
        "    m = X.shape[0]\n",
        "\n",
        "    # Calcular coste inicial\n",
        "    prev_cost = compute_cost(X, y, W)\n",
        "    cost_history.append(prev_cost)\n",
        "\n",
        "    # Descenso del gradiente\n",
        "    for i in range(num_iterations):\n",
        "        # Calcular predicciones actuales\n",
        "        z = np.dot(X, W)\n",
        "        h = softmax(z)\n",
        "\n",
        "        # Calcular gradiente\n",
        "        # El gradiente es (1/m) * X^T * (h - y)\n",
        "        gradient = (1/m) * np.dot(X.T, (h - y))\n",
        "\n",
        "        # Actualizar pesos\n",
        "        W = W - learning_rate * gradient\n",
        "\n",
        "        # Calcular nuevo coste\n",
        "        current_cost = compute_cost(X, y, W)\n",
        "        cost_history.append(current_cost)\n",
        "\n",
        "        # Imprimir progreso cada 1000 iteraciones\n",
        "        if i % 1000 == 0:\n",
        "            print(f'Iteración {i}: Coste = {current_cost}')\n",
        "\n",
        "        # Early stopping\n",
        "        if abs(prev_cost - current_cost) < epsilon:\n",
        "            print(f'\\nConvergencia alcanzada en la iteración {i}')\n",
        "            print(f'Diferencia en coste: {abs(prev_cost - current_cost)}')\n",
        "            break\n",
        "\n",
        "        prev_cost = current_cost\n",
        "\n",
        "    return W, cost_history\n",
        "\n",
        "# Ejemplo de uso:\n",
        "# W, cost_history = gradient_descent_multinomial(X, y)"
      ],
      "metadata": {
        "id": "hBHz17HG-T0R"
      },
      "execution_count": 11,
      "outputs": []
    },
    {
      "cell_type": "markdown",
      "source": [
        "Las principales diferencias con la versión binomial son:\n",
        "- Inicializamos una matriz W en lugar de un vector theta\n",
        "- El gradiente se calcula usando la fórmula para multinomial: (1/m) * X^T * (h - y)\n",
        "    - h son las probabilidades softmax\n",
        "    - La resta (h - y) se hace sobre todas las clases\n",
        "\n",
        "No necesitamos una función compute_gradient separada, ya que el cálculo es más directo\n",
        "Todas las operaciones matriciales están adaptadas para manejar múltiples clases\n",
        "\n",
        "Para hacer predicciones con el modelo entrenado, podrías usar:"
      ],
      "metadata": {
        "id": "5nbNp69ZBXOe"
      }
    },
    {
      "cell_type": "code",
      "source": [
        "def predict(X, W):\n",
        "    \"\"\"\n",
        "    Realiza predicciones usando los pesos aprendidos\n",
        "\n",
        "    Parámetros:\n",
        "    X: matriz de características (incluyendo columna de 1's)\n",
        "    W: matriz de pesos optimizada\n",
        "\n",
        "    Retorna:\n",
        "    predicciones: matriz de probabilidades para cada clase\n",
        "    \"\"\"\n",
        "    z = np.dot(X, W)\n",
        "    return softmax(z)"
      ],
      "metadata": {
        "id": "mUal8xCmBrBt"
      },
      "execution_count": 12,
      "outputs": []
    },
    {
      "cell_type": "markdown",
      "source": [
        "podemos ejecutarlo así:"
      ],
      "metadata": {
        "id": "mlBFSKi_-gEX"
      }
    },
    {
      "cell_type": "code",
      "source": [
        "# Hiperparámetros\n",
        "learning_rate = 0.1\n",
        "num_iterations = 5_000\n",
        "\n",
        "# Ejecutar el descenso del gradiente multinomial\n",
        "W_optimal, cost_history = gradient_descent_multinomial(X, y, learning_rate, num_iterations)\n",
        "\n",
        "# Imprimir coste inicial y final\n",
        "print(f\"Coste inicial: {cost_history[0]}\")\n",
        "print(f\"Coste final: {cost_history[-1]}\")\n",
        "\n",
        "# Hacer predicciones\n",
        "probabilities = predict(X, W_optimal)\n",
        "\n",
        "# Obtener la clase predicha\n",
        "predicted_houses = np.argmax(probabilities, axis=1)\n",
        "actual_houses = np.argmax(y, axis=1)\n",
        "accuracy = np.mean(predicted_houses == actual_houses)\n",
        "print(f\"\\nPrecisión del modelo: {accuracy:.4f}\")\n",
        "\n",
        "# Visualizar la evolución del coste\n",
        "import matplotlib.pyplot as plt\n",
        "\n",
        "plt.figure(figsize=(10, 6))\n",
        "plt.plot(cost_history)\n",
        "plt.title('Evolución de la función de coste')\n",
        "plt.xlabel('Iteraciones')\n",
        "plt.ylabel('Coste')\n",
        "plt.grid(True)\n",
        "plt.show()"
      ],
      "metadata": {
        "colab": {
          "base_uri": "https://localhost:8080/",
          "height": 725
        },
        "id": "aVcsXUHu-iUV",
        "outputId": "458c5c62-d11e-4ef8-901f-8d2a7fe1ba67"
      },
      "execution_count": 13,
      "outputs": [
        {
          "output_type": "stream",
          "name": "stdout",
          "text": [
            "Iteración 0: Coste = 1.2833397241762847\n",
            "Iteración 1000: Coste = 0.11583413883510385\n",
            "Iteración 2000: Coste = 0.11171849973286227\n",
            "Iteración 3000: Coste = 0.10984503696738028\n",
            "Iteración 4000: Coste = 0.10872003758375828\n",
            "Coste inicial: 1.3737223492348898\n",
            "Coste final: 0.10792561739643632\n",
            "\n",
            "Precisión del modelo: 0.9834\n"
          ]
        },
        {
          "output_type": "display_data",
          "data": {
            "text/plain": [
              "<Figure size 1000x600 with 1 Axes>"
            ],
            "image/png": "[encoded data removed]"
          },
          "metadata": {}
        }
      ]
    },
    {
      "cell_type": "code",
      "source": [],
      "metadata": {
        "id": "urdndZkoQo8s"
      },
      "execution_count": 13,
      "outputs": []
    },
    {
      "cell_type": "markdown",
      "source": [
        "# Tratamiento de los datos de test"
      ],
      "metadata": {
        "id": "KeNh3K_UQqCO"
      }
    },
    {
      "cell_type": "markdown",
      "source": [
        "Primero cargar los datos de test:"
      ],
      "metadata": {
        "id": "lRN1njBmQ331"
      }
    },
    {
      "cell_type": "code",
      "source": [
        "# Ruta al archivo en Google Drive para test\n",
        "input_file_test = '/content/drive/My Drive/datasets/dataset_test.csv'\n",
        "\n",
        "# Leer el archivo CSV y crear el DataFrame de test\n",
        "df_test = pd.read_csv(input_file_test)"
      ],
      "metadata": {
        "id": "xICM6gJvQw0a"
      },
      "execution_count": 14,
      "outputs": []
    },
    {
      "cell_type": "markdown",
      "source": [
        "Aplicar la misma limpieza y transformaciones que hicimos en el conjunto de entrenamiento:"
      ],
      "metadata": {
        "id": "bSPKANfhQ441"
      }
    },
    {
      "cell_type": "code",
      "source": [
        "# Borrar la columna 'Astronomy'\n",
        "df_test = df_test.drop(columns=['Astronomy'])\n",
        "\n",
        "# Convert 'Birthday' to datetime format\n",
        "df_test['Birthday'] = pd.to_datetime(df_test['Birthday'])\n",
        "\n",
        "# Convert 'Best Hand' to a binary variable (0 for Left, 1 for Right)\n",
        "df_test['Best Hand'] = df_test['Best Hand'].map({'Left': 0, 'Right': 1})\n",
        "\n",
        "# Reset the index\n",
        "df_test = df_test.reset_index(drop=True)\n",
        "\n",
        "# Remove the original 'Index' column if it exists\n",
        "if 'Index' in df_test.columns:\n",
        "    df_test = df_test.drop('Index', axis=1)\n",
        "\n",
        "print(df_test.info())"
      ],
      "metadata": {
        "colab": {
          "base_uri": "https://localhost:8080/"
        },
        "id": "ZWPUPptKQ7tz",
        "outputId": "670ee433-e404-4491-f4d2-8dd7f8b64ebd"
      },
      "execution_count": 15,
      "outputs": [
        {
          "output_type": "stream",
          "name": "stdout",
          "text": [
            "<class 'pandas.core.frame.DataFrame'>\n",
            "RangeIndex: 400 entries, 0 to 399\n",
            "Data columns (total 17 columns):\n",
            " #   Column                         Non-Null Count  Dtype         \n",
            "---  ------                         --------------  -----         \n",
            " 0   Hogwarts House                 0 non-null      float64       \n",
            " 1   First Name                     400 non-null    object        \n",
            " 2   Last Name                      400 non-null    object        \n",
            " 3   Birthday                       400 non-null    datetime64[ns]\n",
            " 4   Best Hand                      400 non-null    int64         \n",
            " 5   Arithmancy                     387 non-null    float64       \n",
            " 6   Herbology                      389 non-null    float64       \n",
            " 7   Defense Against the Dark Arts  392 non-null    float64       \n",
            " 8   Divination                     394 non-null    float64       \n",
            " 9   Muggle Studies                 390 non-null    float64       \n",
            " 10  Ancient Runes                  392 non-null    float64       \n",
            " 11  History of Magic               389 non-null    float64       \n",
            " 12  Transfiguration                389 non-null    float64       \n",
            " 13  Potions                        390 non-null    float64       \n",
            " 14  Care of Magical Creatures      392 non-null    float64       \n",
            " 15  Charms                         400 non-null    float64       \n",
            " 16  Flying                         400 non-null    float64       \n",
            "dtypes: datetime64[ns](1), float64(13), int64(1), object(2)\n",
            "memory usage: 53.3+ KB\n",
            "None\n"
          ]
        }
      ]
    },
    {
      "cell_type": "markdown",
      "source": [
        "Calcular la edad usando la misma fecha de referencia que usamos en el entrenamiento:"
      ],
      "metadata": {
        "id": "u_uGP-m9RukP"
      }
    },
    {
      "cell_type": "code",
      "source": [
        "# Calculate age using the SAME reference date from training\n",
        "reference_date = df_test['Birthday'].max()  # Debería ser la misma que usamos en training\n",
        "df_test['Age'] = (reference_date - df_test['Birthday']).dt.days / 365.25\n",
        "\n",
        "# Remove unnecessary columns\n",
        "columns_to_drop = ['First Name', 'Last Name', 'Birthday', 'Hogwarts House']\n",
        "df_test = df_test.drop(columns=columns_to_drop)\n",
        "\n",
        "print(df_test.info())"
      ],
      "metadata": {
        "colab": {
          "base_uri": "https://localhost:8080/"
        },
        "id": "B3Bk6eS5RvV7",
        "outputId": "db3bf091-5aee-4bea-9391-042ba73a9401"
      },
      "execution_count": 16,
      "outputs": [
        {
          "output_type": "stream",
          "name": "stdout",
          "text": [
            "<class 'pandas.core.frame.DataFrame'>\n",
            "RangeIndex: 400 entries, 0 to 399\n",
            "Data columns (total 14 columns):\n",
            " #   Column                         Non-Null Count  Dtype  \n",
            "---  ------                         --------------  -----  \n",
            " 0   Best Hand                      400 non-null    int64  \n",
            " 1   Arithmancy                     387 non-null    float64\n",
            " 2   Herbology                      389 non-null    float64\n",
            " 3   Defense Against the Dark Arts  392 non-null    float64\n",
            " 4   Divination                     394 non-null    float64\n",
            " 5   Muggle Studies                 390 non-null    float64\n",
            " 6   Ancient Runes                  392 non-null    float64\n",
            " 7   History of Magic               389 non-null    float64\n",
            " 8   Transfiguration                389 non-null    float64\n",
            " 9   Potions                        390 non-null    float64\n",
            " 10  Care of Magical Creatures      392 non-null    float64\n",
            " 11  Charms                         400 non-null    float64\n",
            " 12  Flying                         400 non-null    float64\n",
            " 13  Age                            400 non-null    float64\n",
            "dtypes: float64(13), int64(1)\n",
            "memory usage: 43.9 KB\n",
            "None\n"
          ]
        }
      ]
    },
    {
      "cell_type": "markdown",
      "source": [
        "Eliminar las mismas columnas que eliminamos en el entrenamiento:"
      ],
      "metadata": {
        "id": "cug7pPvFR3cq"
      }
    },
    {
      "cell_type": "code",
      "source": [
        "# Remove columns\n",
        "reduce_columns = ['Arithmancy', 'Divination', 'Muggle Studies', 'Ancient Runes',\n",
        "                 'History of Magic', 'Transfiguration', 'Care of Magical Creatures']\n",
        "df_test = df_test.drop(columns=reduce_columns)\n",
        "\n",
        "print(df_test.info())"
      ],
      "metadata": {
        "colab": {
          "base_uri": "https://localhost:8080/"
        },
        "id": "0fv9-A8vR5Pf",
        "outputId": "7f89169d-d96d-433e-a57c-b3c0ea01123b"
      },
      "execution_count": 17,
      "outputs": [
        {
          "output_type": "stream",
          "name": "stdout",
          "text": [
            "<class 'pandas.core.frame.DataFrame'>\n",
            "RangeIndex: 400 entries, 0 to 399\n",
            "Data columns (total 7 columns):\n",
            " #   Column                         Non-Null Count  Dtype  \n",
            "---  ------                         --------------  -----  \n",
            " 0   Best Hand                      400 non-null    int64  \n",
            " 1   Herbology                      389 non-null    float64\n",
            " 2   Defense Against the Dark Arts  392 non-null    float64\n",
            " 3   Potions                        390 non-null    float64\n",
            " 4   Charms                         400 non-null    float64\n",
            " 5   Flying                         400 non-null    float64\n",
            " 6   Age                            400 non-null    float64\n",
            "dtypes: float64(6), int64(1)\n",
            "memory usage: 22.0 KB\n",
            "None\n"
          ]
        }
      ]
    },
    {
      "cell_type": "markdown",
      "source": [
        "Eliminar filas con valores nulos y duplicados:"
      ],
      "metadata": {
        "id": "Os9l-ekFR94g"
      }
    },
    {
      "cell_type": "code",
      "source": [
        "# Drop rows with missing data\n",
        "df_test = df_test.dropna()\n",
        "\n",
        "# Remove duplicate rows\n",
        "df_test = df_test.drop_duplicates()\n",
        "\n",
        "print(df_test.info())"
      ],
      "metadata": {
        "colab": {
          "base_uri": "https://localhost:8080/"
        },
        "id": "sgwkc_0qSAkB",
        "outputId": "6bc22797-b20f-459b-f27a-890d88b4c653"
      },
      "execution_count": 18,
      "outputs": [
        {
          "output_type": "stream",
          "name": "stdout",
          "text": [
            "<class 'pandas.core.frame.DataFrame'>\n",
            "Index: 372 entries, 0 to 398\n",
            "Data columns (total 7 columns):\n",
            " #   Column                         Non-Null Count  Dtype  \n",
            "---  ------                         --------------  -----  \n",
            " 0   Best Hand                      372 non-null    int64  \n",
            " 1   Herbology                      372 non-null    float64\n",
            " 2   Defense Against the Dark Arts  372 non-null    float64\n",
            " 3   Potions                        372 non-null    float64\n",
            " 4   Charms                         372 non-null    float64\n",
            " 5   Flying                         372 non-null    float64\n",
            " 6   Age                            372 non-null    float64\n",
            "dtypes: float64(6), int64(1)\n",
            "memory usage: 23.2 KB\n",
            "None\n"
          ]
        }
      ]
    },
    {
      "cell_type": "markdown",
      "source": [
        "## Normalización de los datos de test\n",
        "- Normalizar los datos de test usando los parámetros (media y desviación estándar) que guardamos del conjunto de entrenamiento.\n",
        "- Esto es crucial porque debemos aplicar exactamente la misma transformación que aplicamos a los datos de entrenamiento."
      ],
      "metadata": {
        "id": "8pcVGQ-0X5K0"
      }
    },
    {
      "cell_type": "code",
      "source": [
        "# Convertir Best Hand a float64 como hicimos en training\n",
        "df_test['Best Hand'] = df_test['Best Hand'].astype(float)\n",
        "\n",
        "# Normalizar usando los parámetros guardados de training\n",
        "for column in df_test.columns:\n",
        "    if column in normalization_params:\n",
        "        mean = normalization_params[column]['mean']\n",
        "        std = normalization_params[column]['std']\n",
        "        df_test[column] = normalize(df_test[column], mean, std)\n",
        "\n",
        "print(\"\\nPrimeros 3 registros después de la normalización:\")\n",
        "print(df_test.head(3))"
      ],
      "metadata": {
        "colab": {
          "base_uri": "https://localhost:8080/"
        },
        "id": "QLqSuvxrYHB1",
        "outputId": "468e2f02-8026-4680-bd88-032b69ccf00b"
      },
      "execution_count": 19,
      "outputs": [
        {
          "output_type": "stream",
          "name": "stdout",
          "text": [
            "\n",
            "Primeros 3 registros después de la normalización:\n",
            "   Best Hand  Herbology  Defense Against the Dark Arts   Potions    Charms  \\\n",
            "0        1.0   0.360013                      -1.260955 -0.724744 -0.126065   \n",
            "1        0.0   0.349486                       0.785819  0.814602  1.375558   \n",
            "2        0.0  -1.403671                      -0.540051 -1.302330 -1.095106   \n",
            "\n",
            "     Flying       Age  \n",
            "0 -0.364411 -1.719458  \n",
            "1 -0.493877  0.897554  \n",
            "2  1.825147  0.418949  \n"
          ]
        }
      ]
    },
    {
      "cell_type": "markdown",
      "source": [
        "## Preparar los datos de test\n",
        "Necesitaremos preparar los datos en el formato correcto para hacer las predicciones:"
      ],
      "metadata": {
        "id": "sgpmSXuMYOyZ"
      }
    },
    {
      "cell_type": "code",
      "source": [
        "# Preparar X_test (agregar columna de 1's para el término de sesgo)\n",
        "X_test = df_test[['Best Hand', 'Age', 'Herbology', 'Defense Against the Dark Arts',\n",
        "                  'Potions', 'Charms', 'Flying']]\n",
        "X_test = np.c_[np.ones(len(X_test)), X_test]\n",
        "X_test = np.array(X_test)\n",
        "\n",
        "print(\"\\nForma de X_test:\", X_test.shape)"
      ],
      "metadata": {
        "colab": {
          "base_uri": "https://localhost:8080/"
        },
        "id": "C10G2zl9YWX8",
        "outputId": "8cd9678f-a41c-4050-e3dd-8041b5ac402f"
      },
      "execution_count": 20,
      "outputs": [
        {
          "output_type": "stream",
          "name": "stdout",
          "text": [
            "\n",
            "Forma de X_test: (372, 8)\n"
          ]
        }
      ]
    },
    {
      "cell_type": "markdown",
      "source": [
        "## Predicciones con los datos de test\n",
        "Ahora podemos usar la función predict que ya teníamos y los pesos óptimos (W_optimal) para hacer las predicciones."
      ],
      "metadata": {
        "id": "QoZLQA-FYiBv"
      }
    },
    {
      "cell_type": "code",
      "source": [
        "# Hacer predicciones usando los pesos óptimos del entrenamiento\n",
        "probabilities = predict(X_test, W_optimal)\n",
        "\n",
        "# Obtener la clase predicha (la casa con mayor probabilidad)\n",
        "predicted_houses = np.argmax(probabilities, axis=1)\n",
        "\n",
        "# Convertir los índices a nombres de casas\n",
        "house_names = ['Gryffindor', 'Hufflepuff', 'Ravenclaw', 'Slytherin']\n",
        "predictions = [house_names[idx] for idx in predicted_houses]\n",
        "\n",
        "# Mostrar algunas predicciones\n",
        "print(\"\\nPrimeras 5 predicciones:\")\n",
        "for i in range(5):\n",
        "    print(f\"Estudiante {i+1}:\")\n",
        "    print(f\"Casa predicha: {predictions[i]}\")\n",
        "    print(f\"Probabilidades: Gryffindor: {probabilities[i][0]:.3f}, Hufflepuff: {probabilities[i][1]:.3f}, \"\n",
        "          f\"Ravenclaw: {probabilities[i][2]:.3f}, Slytherin: {probabilities[i][3]:.3f}\\n\")"
      ],
      "metadata": {
        "colab": {
          "base_uri": "https://localhost:8080/"
        },
        "id": "5Mm3pyuwYzLb",
        "outputId": "882ef4e6-d4ee-43c1-df63-22621da076ca"
      },
      "execution_count": 21,
      "outputs": [
        {
          "output_type": "stream",
          "name": "stdout",
          "text": [
            "\n",
            "Primeras 5 predicciones:\n",
            "Estudiante 1:\n",
            "Casa predicha: Hufflepuff\n",
            "Probabilidades: Gryffindor: 0.007, Hufflepuff: 0.985, Ravenclaw: 0.007, Slytherin: 0.001\n",
            "\n",
            "Estudiante 2:\n",
            "Casa predicha: Ravenclaw\n",
            "Probabilidades: Gryffindor: 0.012, Hufflepuff: 0.013, Ravenclaw: 0.944, Slytherin: 0.031\n",
            "\n",
            "Estudiante 3:\n",
            "Casa predicha: Gryffindor\n",
            "Probabilidades: Gryffindor: 0.997, Hufflepuff: 0.001, Ravenclaw: 0.001, Slytherin: 0.002\n",
            "\n",
            "Estudiante 4:\n",
            "Casa predicha: Hufflepuff\n",
            "Probabilidades: Gryffindor: 0.025, Hufflepuff: 0.932, Ravenclaw: 0.034, Slytherin: 0.009\n",
            "\n",
            "Estudiante 5:\n",
            "Casa predicha: Slytherin\n",
            "Probabilidades: Gryffindor: 0.000, Hufflepuff: 0.001, Ravenclaw: 0.000, Slytherin: 0.998\n",
            "\n"
          ]
        }
      ]
    },
    {
      "cell_type": "code",
      "source": [
        "# Crear DataFrame directamente con las predicciones\n",
        "predictions_df = pd.DataFrame(predictions, columns=['Hogwarts House'])\n",
        "\n",
        "# Añadir la columna Index como primera columna\n",
        "predictions_df.insert(0, 'Index', range(len(predictions)))\n",
        "\n",
        "# Guardar en CSV\n",
        "predictions_df.to_csv('houses.csv', index=False)\n",
        "\n",
        "# Verificar el contenido del archivo mostrando las 10 primeras líneas\n",
        "# Contenido del archivo houses.csv (primeras líneas)\n",
        "with open('houses.csv', 'r') as file:\n",
        "    for i, line in enumerate(file):\n",
        "        if i < 12:  # Solo las primeras 10 líneas\n",
        "            print(line.strip())  # strip() elimina los saltos de línea extra"
      ],
      "metadata": {
        "colab": {
          "base_uri": "https://localhost:8080/"
        },
        "id": "gEvjrLv4aj5Z",
        "outputId": "ff5f34dc-b186-4d33-b448-43d283d8b4ae"
      },
      "execution_count": 25,
      "outputs": [
        {
          "output_type": "stream",
          "name": "stdout",
          "text": [
            "Index,Hogwarts House\n",
            "0,Hufflepuff\n",
            "1,Ravenclaw\n",
            "2,Gryffindor\n",
            "3,Hufflepuff\n",
            "4,Slytherin\n",
            "5,Ravenclaw\n",
            "6,Hufflepuff\n",
            "7,Ravenclaw\n",
            "8,Hufflepuff\n",
            "9,Hufflepuff\n",
            "10,Slytherin\n"
          ]
        }
      ]
    }
  ]
}