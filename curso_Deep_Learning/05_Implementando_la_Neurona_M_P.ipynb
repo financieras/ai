{
  "nbformat": 4,
  "nbformat_minor": 0,
  "metadata": {
    "colab": {
      "provenance": [],
      "authorship_tag": "ABX9TyOxAsCeIO69DsI7arwuac0N",
      "include_colab_link": true
    },
    "kernelspec": {
      "name": "python3",
      "display_name": "Python 3"
    },
    "language_info": {
      "name": "python"
    }
  },
  "cells": [
    {
      "cell_type": "markdown",
      "metadata": {
        "id": "view-in-github",
        "colab_type": "text"
      },
      "source": [
        "<a href=\"https://colab.research.google.com/github/financieras/ai/blob/main/curso_Deep_Learning/05_Implementando_la_Neurona_M_P.ipynb\" target=\"_parent\"><img src=\"https://colab.research.google.com/assets/colab-badge.svg\" alt=\"Open In Colab\"/></a>"
      ]
    },
    {
      "cell_type": "markdown",
      "source": [
        "# Implementación de la neurona de McCulloch y Pitts\n"
      ],
      "metadata": {
        "id": "e0Mb1nRBXnUm"
      }
    },
    {
      "cell_type": "code",
      "execution_count": 5,
      "metadata": {
        "colab": {
          "base_uri": "https://localhost:8080/"
        },
        "id": "RUaY04SSXhHs",
        "outputId": "6dcb20a3-b1f3-4912-b72f-9ee254f85c4b"
      },
      "outputs": [
        {
          "output_type": "execute_result",
          "data": {
            "text/plain": [
              "array([False, False,  True,  True])"
            ]
          },
          "metadata": {},
          "execution_count": 5
        }
      ],
      "source": [
        "import numpy as np\n",
        "\n",
        "class MPneuron:\n",
        "    def __init__(self):\n",
        "        self.threshold = None\n",
        "    def model(self, x):\n",
        "        # input: [1,0,1,0]  [x1, x2, ..., xn]\n",
        "        z = sum(x)\n",
        "        a = z - self.threshold\n",
        "        return a >= 0\n",
        "\n",
        "    def predict(self, X):\n",
        "        # input: [[1,0,1,0], [1,1,0,1]]\n",
        "        Y = []\n",
        "        for x in X:\n",
        "            result = self.model(x)\n",
        "            Y.append(result)\n",
        "        return np.array(Y)\n",
        "\n",
        "# Instanciamos la neurona\n",
        "mp_neuron = MPneuron()\n",
        "\n",
        "# Establecemos el threshold\n",
        "mp_neuron.threshold = 3\n",
        "\n",
        "# Evaluamos diferenetes casos de uso\n",
        "mp_neuron.predict([[1,0,0,0], [1,0,0,1], [1,1,1,0], [1,1,1,1]])"
      ]
    }
  ]
}