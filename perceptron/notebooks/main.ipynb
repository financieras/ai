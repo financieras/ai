{
 "cells": [
  {
   "cell_type": "markdown",
   "id": "ce3c61b8-2237-46ae-82e5-fa4cb460d291",
   "metadata": {},
   "source": [
    "# Proyecto de Aprendizaje Automático\n",
    "## Perceptrón Multicapa\n",
    "Este proyecto es una introducción a las redes neuronales artificiales: con la implementación de perceptrones multicapa.  \n",
    "Se utilizan los datos del Wisconsin Breast Cancer Dataset (WBCD)."
   ]
  },
  {
   "cell_type": "markdown",
   "id": "b2fcd25b-c64e-4ae4-a1e4-cb35398001fa",
   "metadata": {},
   "source": [
    "## Estructura del proyecto\n",
    "\n",
    "### data/\n",
    "- data.csv\n",
    "\n",
    "\n",
    "### notebooks/\n",
    "0. main.ipynb\n",
    "1. data_preprocessing.ipynb\n",
    "2. graphical_analysis.ipynb\n",
    "3. neural_network_functions.ipynb\n",
    "4. forward_backward_propagation.ipynb\n",
    "5. training_loop.ipynb\n",
    "\n",
    "### src/\n",
    "- ft_functions.py\n",
    "\n",
    "### output/\n",
    "- "
   ]
  },
  {
   "cell_type": "markdown",
   "id": "39965a23-56d2-49a9-922b-e3cad9ae06fa",
   "metadata": {},
   "source": [
    "## Contenido de los Notebooks"
   ]
  },
  {
   "cell_type": "code",
   "execution_count": null,
   "id": "be8e73d5-dd07-457a-8319-4d2cc5b00f7e",
   "metadata": {},
   "outputs": [],
   "source": []
  }
 ],
 "metadata": {
  "kernelspec": {
   "display_name": "Python 3 (ipykernel)",
   "language": "python",
   "name": "python3"
  },
  "language_info": {
   "codemirror_mode": {
    "name": "ipython",
    "version": 3
   },
   "file_extension": ".py",
   "mimetype": "text/x-python",
   "name": "python",
   "nbconvert_exporter": "python",
   "pygments_lexer": "ipython3",
   "version": "3.12.2"
  }
 },
 "nbformat": 4,
 "nbformat_minor": 5
}
