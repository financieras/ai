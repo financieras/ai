{
 "cells": [
  {
   "cell_type": "markdown",
   "id": "cccdb5fb-c4d0-4a4d-b240-30118a77dc62",
   "metadata": {},
   "source": [
    "# Preprocesamiento de los datos"
   ]
  },
  {
   "cell_type": "code",
   "execution_count": 1,
   "id": "a46bf17b-7370-47f0-9dd3-646f124b1a7b",
   "metadata": {},
   "outputs": [],
   "source": [
    "import numpy as np\n",
    "import pandas as pd\n",
    "import matplotlib.pyplot as plt\n",
    "import seaborn as sns\n",
    "from tabulate import tabulate"
   ]
  },
  {
   "cell_type": "markdown",
   "id": "b8ada629-f25a-4f12-b397-0bac810db1b1",
   "metadata": {},
   "source": [
    "## Cargar los datos del archivo `data.csv"
   ]
  },
  {
   "cell_type": "markdown",
   "id": "1b1e32f5-ab86-4b49-924d-98a7ef0d77e2",
   "metadata": {},
   "source": [
    "### Leer el Dataset"
   ]
  },
  {
   "cell_type": "code",
   "execution_count": 2,
   "id": "55eebbed-ff2d-4559-8d86-4c7766374797",
   "metadata": {},
   "outputs": [],
   "source": [
    "# Cargar el dataset desde el archivo CSV\n",
    "file_path = \"../data/data.csv\"\n",
    "df = pd.read_csv(file_path, header=None)"
   ]
  },
  {
   "cell_type": "markdown",
   "id": "680be7e0-839a-4e1e-989c-9de9620777a2",
   "metadata": {},
   "source": [
    "## Valores faltantes en el DataFrame"
   ]
  },
  {
   "cell_type": "code",
   "execution_count": 3,
   "id": "f73966b6-2b51-4c4d-8875-070b722360e2",
   "metadata": {},
   "outputs": [
    {
     "name": "stdout",
     "output_type": "stream",
     "text": [
      "Valores faltantes por columna:\n",
      "0     0\n",
      "1     0\n",
      "2     0\n",
      "3     0\n",
      "4     0\n",
      "5     0\n",
      "6     0\n",
      "7     0\n",
      "8     0\n",
      "9     0\n",
      "10    0\n",
      "11    0\n",
      "12    0\n",
      "13    0\n",
      "14    0\n",
      "15    0\n",
      "16    0\n",
      "17    0\n",
      "18    0\n",
      "19    0\n",
      "20    0\n",
      "21    0\n",
      "22    0\n",
      "23    0\n",
      "24    0\n",
      "25    0\n",
      "26    0\n",
      "27    0\n",
      "28    0\n",
      "29    0\n",
      "30    0\n",
      "31    0\n",
      "dtype: int64\n",
      "\n",
      "No hay valores faltantes en el dataset.\n"
     ]
    }
   ],
   "source": [
    "# Verificar si hay o no valores faltantes en cada columna\n",
    "missing_values = df.isnull().sum()\n",
    "\n",
    "# Mostrar el número de valores faltantes por columna\n",
    "print(\"Valores faltantes por columna:\")\n",
    "print(missing_values)\n",
    "\n",
    "# Verificar si hay alguna columna con valores faltantes\n",
    "if missing_values.any():\n",
    "    print(\"\\n¡Advertencia! Hay columnas con valores faltantes en el dataset.\")\n",
    "else:\n",
    "    print(\"\\nNo hay valores faltantes en el dataset.\")"
   ]
  },
  {
   "cell_type": "markdown",
   "id": "6f1e8f7f-e325-4fe8-8d9f-0082f8e1f4a0",
   "metadata": {},
   "source": [
    "## Nombre de las 30 características\n",
    "\n",
    "| **Mean**     |                |                             | I     | **Error**    |                |                             | I     | **Worst**    |                  |                                |\n",
    "|--------------|----------------|-----------------------------|-------|--------------|----------------|-----------------------------|-------|--------------|------------------|--------------------------------|\n",
    "| Nombre Corto | Característica | Nombre de la Característica | **I** | Nombre Corto | Característica | Nombre de la Característica | **I** | Nombre Corto | Característica   | Nombre de la Característica    |\n",
    "|--------------|----------------|-----------------------------|       |--------------|----------------|-----------------------------|       |--------------|------------------|--------------------------------|\n",
    "| feat01       | feature01      | mean radius                 | **I** | feat11       | feature11      | radius error                | **I** |  feat21      | feature21        | worst radius                   |\n",
    "| feat02       | feature02      | mean texture                | **I** | feat12       | feature12      | texture error               | **I** |  feat22      | feature22        | worst texture                  |\n",
    "| feat03       | feature03      | mean perimeter              | **I** | feat13       | feature13      | perimeter error             | **I** |  feat23      | feature23        | worst perimeter                |\n",
    "| feat04       | feature04      | mean area                   | **I** | feat14       | feature14      | area error                  | **I** |  feat24      | feature24        | worst area                     |\n",
    "| feat05       | feature05      | mean smoothness             | **I** | feat15       | feature15      | smoothness error            | **I** |  feat25      | feature25        | worst smoothness               |\n",
    "| feat06       | feature06      | mean compactness            | **I** | feat16       | feature16      | compactness error           | **I** |  feat26      | feature26        | worst compactness              |\n",
    "| feat07       | feature07      | mean concavity              | **I** | feat17       | feature17      | concavity error             | **I** |  feat27      | feature27        | worst concavity                |\n",
    "| feat08       | feature08      | mean concave points         | **I** | feat18       | feature18      | concave points error        | **I** |  feat28      | feature28        | worst concave points           |\n",
    "| feat09       | feature09      | mean symmetry               | **I** | feat19       | feature19      | symmetry error              | **I** |  feat29      | feature29        | worst symmetry                 |\n",
    "| feat10       | feature10      | mean fractal dimension      | **I** | feat20       | feature20      | fractal dimension error     | **I** |  feat30      | feature30        | worst fractal dimension        |"
   ]
  },
  {
   "cell_type": "code",
   "execution_count": 4,
   "id": "dd361526-1943-454b-a770-0aaa72747855",
   "metadata": {},
   "outputs": [
    {
     "ename": "ValueError",
     "evalue": "Length mismatch: Expected axis has 31 elements, new values have 2 elements",
     "output_type": "error",
     "traceback": [
      "\u001b[0;31m---------------------------------------------------------------------------\u001b[0m",
      "\u001b[0;31mValueError\u001b[0m                                Traceback (most recent call last)",
      "Cell \u001b[0;32mIn[4], line 8\u001b[0m\n\u001b[1;32m      5\u001b[0m df \u001b[38;5;241m=\u001b[39m df\u001b[38;5;241m.\u001b[39mdrop([\u001b[38;5;241m0\u001b[39m], axis\u001b[38;5;241m=\u001b[39m\u001b[38;5;241m1\u001b[39m)  \u001b[38;5;66;03m# Eliminar columna ID\u001b[39;00m\n\u001b[1;32m      7\u001b[0m \u001b[38;5;66;03m# Asignar nombres cortos a las columnas de características\u001b[39;00m\n\u001b[0;32m----> 8\u001b[0m \u001b[43mdf\u001b[49m\u001b[38;5;241;43m.\u001b[39;49m\u001b[43mcolumns\u001b[49m \u001b[38;5;241m=\u001b[39m (\u001b[38;5;124m'\u001b[39m\u001b[38;5;124mdiagnosis\u001b[39m\u001b[38;5;124m'\u001b[39m, feature_names)\n\u001b[1;32m     10\u001b[0m \u001b[38;5;66;03m# Mostrar los primeros registros en formato tabla\u001b[39;00m\n\u001b[1;32m     11\u001b[0m \u001b[38;5;28mprint\u001b[39m(\u001b[38;5;124m\"\u001b[39m\u001b[38;5;130;01m\\n\u001b[39;00m\u001b[38;5;124mPrimeros registros del dataset:\u001b[39m\u001b[38;5;130;01m\\n\u001b[39;00m\u001b[38;5;124m\"\u001b[39m)\n",
      "File \u001b[0;32m~/Documents/github/ai/env/lib/python3.12/site-packages/pandas/core/generic.py:6313\u001b[0m, in \u001b[0;36mNDFrame.__setattr__\u001b[0;34m(self, name, value)\u001b[0m\n\u001b[1;32m   6311\u001b[0m \u001b[38;5;28;01mtry\u001b[39;00m:\n\u001b[1;32m   6312\u001b[0m     \u001b[38;5;28mobject\u001b[39m\u001b[38;5;241m.\u001b[39m\u001b[38;5;21m__getattribute__\u001b[39m(\u001b[38;5;28mself\u001b[39m, name)\n\u001b[0;32m-> 6313\u001b[0m     \u001b[38;5;28;01mreturn\u001b[39;00m \u001b[38;5;28;43mobject\u001b[39;49m\u001b[38;5;241;43m.\u001b[39;49m\u001b[38;5;21;43m__setattr__\u001b[39;49m\u001b[43m(\u001b[49m\u001b[38;5;28;43mself\u001b[39;49m\u001b[43m,\u001b[49m\u001b[43m \u001b[49m\u001b[43mname\u001b[49m\u001b[43m,\u001b[49m\u001b[43m \u001b[49m\u001b[43mvalue\u001b[49m\u001b[43m)\u001b[49m\n\u001b[1;32m   6314\u001b[0m \u001b[38;5;28;01mexcept\u001b[39;00m \u001b[38;5;167;01mAttributeError\u001b[39;00m:\n\u001b[1;32m   6315\u001b[0m     \u001b[38;5;28;01mpass\u001b[39;00m\n",
      "File \u001b[0;32mproperties.pyx:69\u001b[0m, in \u001b[0;36mpandas._libs.properties.AxisProperty.__set__\u001b[0;34m()\u001b[0m\n",
      "File \u001b[0;32m~/Documents/github/ai/env/lib/python3.12/site-packages/pandas/core/generic.py:814\u001b[0m, in \u001b[0;36mNDFrame._set_axis\u001b[0;34m(self, axis, labels)\u001b[0m\n\u001b[1;32m    809\u001b[0m \u001b[38;5;250m\u001b[39m\u001b[38;5;124;03m\"\"\"\u001b[39;00m\n\u001b[1;32m    810\u001b[0m \u001b[38;5;124;03mThis is called from the cython code when we set the `index` attribute\u001b[39;00m\n\u001b[1;32m    811\u001b[0m \u001b[38;5;124;03mdirectly, e.g. `series.index = [1, 2, 3]`.\u001b[39;00m\n\u001b[1;32m    812\u001b[0m \u001b[38;5;124;03m\"\"\"\u001b[39;00m\n\u001b[1;32m    813\u001b[0m labels \u001b[38;5;241m=\u001b[39m ensure_index(labels)\n\u001b[0;32m--> 814\u001b[0m \u001b[38;5;28;43mself\u001b[39;49m\u001b[38;5;241;43m.\u001b[39;49m\u001b[43m_mgr\u001b[49m\u001b[38;5;241;43m.\u001b[39;49m\u001b[43mset_axis\u001b[49m\u001b[43m(\u001b[49m\u001b[43maxis\u001b[49m\u001b[43m,\u001b[49m\u001b[43m \u001b[49m\u001b[43mlabels\u001b[49m\u001b[43m)\u001b[49m\n\u001b[1;32m    815\u001b[0m \u001b[38;5;28mself\u001b[39m\u001b[38;5;241m.\u001b[39m_clear_item_cache()\n",
      "File \u001b[0;32m~/Documents/github/ai/env/lib/python3.12/site-packages/pandas/core/internals/managers.py:238\u001b[0m, in \u001b[0;36mBaseBlockManager.set_axis\u001b[0;34m(self, axis, new_labels)\u001b[0m\n\u001b[1;32m    236\u001b[0m \u001b[38;5;28;01mdef\u001b[39;00m\u001b[38;5;250m \u001b[39m\u001b[38;5;21mset_axis\u001b[39m(\u001b[38;5;28mself\u001b[39m, axis: AxisInt, new_labels: Index) \u001b[38;5;241m-\u001b[39m\u001b[38;5;241m>\u001b[39m \u001b[38;5;28;01mNone\u001b[39;00m:\n\u001b[1;32m    237\u001b[0m     \u001b[38;5;66;03m# Caller is responsible for ensuring we have an Index object.\u001b[39;00m\n\u001b[0;32m--> 238\u001b[0m     \u001b[38;5;28;43mself\u001b[39;49m\u001b[38;5;241;43m.\u001b[39;49m\u001b[43m_validate_set_axis\u001b[49m\u001b[43m(\u001b[49m\u001b[43maxis\u001b[49m\u001b[43m,\u001b[49m\u001b[43m \u001b[49m\u001b[43mnew_labels\u001b[49m\u001b[43m)\u001b[49m\n\u001b[1;32m    239\u001b[0m     \u001b[38;5;28mself\u001b[39m\u001b[38;5;241m.\u001b[39maxes[axis] \u001b[38;5;241m=\u001b[39m new_labels\n",
      "File \u001b[0;32m~/Documents/github/ai/env/lib/python3.12/site-packages/pandas/core/internals/base.py:98\u001b[0m, in \u001b[0;36mDataManager._validate_set_axis\u001b[0;34m(self, axis, new_labels)\u001b[0m\n\u001b[1;32m     95\u001b[0m     \u001b[38;5;28;01mpass\u001b[39;00m\n\u001b[1;32m     97\u001b[0m \u001b[38;5;28;01melif\u001b[39;00m new_len \u001b[38;5;241m!=\u001b[39m old_len:\n\u001b[0;32m---> 98\u001b[0m     \u001b[38;5;28;01mraise\u001b[39;00m \u001b[38;5;167;01mValueError\u001b[39;00m(\n\u001b[1;32m     99\u001b[0m         \u001b[38;5;124mf\u001b[39m\u001b[38;5;124m\"\u001b[39m\u001b[38;5;124mLength mismatch: Expected axis has \u001b[39m\u001b[38;5;132;01m{\u001b[39;00mold_len\u001b[38;5;132;01m}\u001b[39;00m\u001b[38;5;124m elements, new \u001b[39m\u001b[38;5;124m\"\u001b[39m\n\u001b[1;32m    100\u001b[0m         \u001b[38;5;124mf\u001b[39m\u001b[38;5;124m\"\u001b[39m\u001b[38;5;124mvalues have \u001b[39m\u001b[38;5;132;01m{\u001b[39;00mnew_len\u001b[38;5;132;01m}\u001b[39;00m\u001b[38;5;124m elements\u001b[39m\u001b[38;5;124m\"\u001b[39m\n\u001b[1;32m    101\u001b[0m     )\n",
      "\u001b[0;31mValueError\u001b[0m: Length mismatch: Expected axis has 31 elements, new values have 2 elements"
     ]
    }
   ],
   "source": [
    "# Crear nombres cortos para las características\n",
    "feature_names = [f'feat{str(i+1).zfill(2)}' for i in range(30)]\n",
    "\n",
    "# Separar el ID, diagnóstico y características. El ID no aporta información.\n",
    "df = df.drop([0], axis=1)  # Eliminar columna ID\n",
    "\n",
    "# Asignar nombres cortos a las columnas de características\n",
    "df.columns = ('diagnosis', feature_names)\n",
    "\n",
    "# Mostrar los primeros registros en formato tabla\n",
    "print(\"\\nPrimeros registros del dataset:\\n\")\n",
    "print(tabulate(df.head(21), headers='keys', tablefmt='rst', showindex=True, floatfmt='.4f'))"
   ]
  }
 ],
 "metadata": {
  "kernelspec": {
   "display_name": "Python 3 (ipykernel)",
   "language": "python",
   "name": "python3"
  },
  "language_info": {
   "codemirror_mode": {
    "name": "ipython",
    "version": 3
   },
   "file_extension": ".py",
   "mimetype": "text/x-python",
   "name": "python",
   "nbconvert_exporter": "python",
   "pygments_lexer": "ipython3",
   "version": "3.12.2"
  }
 },
 "nbformat": 4,
 "nbformat_minor": 5
}
