{
  "nbformat": 4,
  "nbformat_minor": 0,
  "metadata": {
    "colab": {
      "provenance": [],
      "authorship_tag": "ABX9TyNE9QwFY/Ne9S6ZK5yeZBWt",
      "include_colab_link": true
    },
    "kernelspec": {
      "name": "python3",
      "display_name": "Python 3"
    },
    "language_info": {
      "name": "python"
    }
  },
  "cells": [
    {
      "cell_type": "markdown",
      "metadata": {
        "id": "view-in-github",
        "colab_type": "text"
      },
      "source": [
        "<a href=\"https://colab.research.google.com/github/financieras/ai/blob/main/logistic_regression/jupyter/prediccion.ipynb\" target=\"_parent\"><img src=\"https://colab.research.google.com/assets/colab-badge.svg\" alt=\"Open In Colab\"/></a>"
      ]
    },
    {
      "cell_type": "markdown",
      "source": [
        "# Logistic Regession\n",
        "Proceso completo de entrenamiento y predicción con datos de test (salvo estadística descriptiva y gráficos)."
      ],
      "metadata": {
        "id": "wpUliCmEOXkp"
      }
    },
    {
      "cell_type": "markdown",
      "source": [
        "## Normalizar dataset\n",
        "Partimos de un archivo CSV y lo limpiamos, seleccionamos columnas y normalizamos.\n",
        "\n",
        "Los archivos de origen están en Drive y son:\n",
        "- 'datasets/dataset_train.csv'\n",
        "- 'datasets/dataset_test.csv'\n",
        "\n",
        "Los archivos están en Google Drive por lo que lo leemos y construimos un DataFrame. En esta primera fase vamos a trabajar solo con los datos de entrenamiento."
      ],
      "metadata": {
        "id": "W_7P-FS-vCaa"
      }
    },
    {
      "cell_type": "code",
      "execution_count": 1,
      "metadata": {
        "colab": {
          "base_uri": "https://localhost:8080/"
        },
        "id": "h4aS4PZhuxgC",
        "outputId": "9fe0aae9-2dbb-4fad-9b32-78ed265ef493"
      },
      "outputs": [
        {
          "output_type": "stream",
          "name": "stdout",
          "text": [
            "Drive already mounted at /content/drive; to attempt to forcibly remount, call drive.mount(\"/content/drive\", force_remount=True).\n"
          ]
        }
      ],
      "source": [
        "from google.colab import drive\n",
        "drive.mount('/content/drive')"
      ]
    },
    {
      "cell_type": "code",
      "source": [
        "import pandas as pd\n",
        "\n",
        "# Ruta al archivo en Google Drive\n",
        "input_file = '/content/drive/My Drive/datasets/dataset_train.csv'\n",
        "\n",
        "# Leer el archivo CSV y crear el DataFrame\n",
        "df = pd.read_csv(input_file)\n",
        "\n",
        "# Mostrar información sobre las columnas del DataFrame\n",
        "print(df.info())"
      ],
      "metadata": {
        "colab": {
          "base_uri": "https://localhost:8080/"
        },
        "id": "R9-YX6WGwMcS",
        "outputId": "352a18e0-125c-4892-91d3-026754b004de"
      },
      "execution_count": 2,
      "outputs": [
        {
          "output_type": "stream",
          "name": "stdout",
          "text": [
            "<class 'pandas.core.frame.DataFrame'>\n",
            "RangeIndex: 1600 entries, 0 to 1599\n",
            "Data columns (total 19 columns):\n",
            " #   Column                         Non-Null Count  Dtype  \n",
            "---  ------                         --------------  -----  \n",
            " 0   Index                          1600 non-null   int64  \n",
            " 1   Hogwarts House                 1600 non-null   object \n",
            " 2   First Name                     1600 non-null   object \n",
            " 3   Last Name                      1600 non-null   object \n",
            " 4   Birthday                       1600 non-null   object \n",
            " 5   Best Hand                      1600 non-null   object \n",
            " 6   Arithmancy                     1566 non-null   float64\n",
            " 7   Astronomy                      1568 non-null   float64\n",
            " 8   Herbology                      1567 non-null   float64\n",
            " 9   Defense Against the Dark Arts  1569 non-null   float64\n",
            " 10  Divination                     1561 non-null   float64\n",
            " 11  Muggle Studies                 1565 non-null   float64\n",
            " 12  Ancient Runes                  1565 non-null   float64\n",
            " 13  History of Magic               1557 non-null   float64\n",
            " 14  Transfiguration                1566 non-null   float64\n",
            " 15  Potions                        1570 non-null   float64\n",
            " 16  Care of Magical Creatures      1560 non-null   float64\n",
            " 17  Charms                         1600 non-null   float64\n",
            " 18  Flying                         1600 non-null   float64\n",
            "dtypes: float64(13), int64(1), object(5)\n",
            "memory usage: 237.6+ KB\n",
            "None\n"
          ]
        }
      ]
    },
    {
      "cell_type": "code",
      "source": [
        "# Borrar la columna 'Astronomy'\n",
        "df = df.drop(columns=['Astronomy'])"
      ],
      "metadata": {
        "id": "dkjndGXkxuly"
      },
      "execution_count": 3,
      "outputs": []
    },
    {
      "cell_type": "code",
      "source": [
        "# Convert 'Birthday' to datetime format\n",
        "df['Birthday'] = pd.to_datetime(df['Birthday'])\n",
        "\n",
        "# Convert 'Best Hand' to a binary variable (0 for Left, 1 for Right)\n",
        "df['Best Hand'] = df['Best Hand'].map({'Left': 0, 'Right': 1})\n",
        "\n",
        "# Reset the index to a continuous sequence\n",
        "df = df.reset_index(drop=True)\n",
        "\n",
        "# Remove the original 'Index' column if it exists\n",
        "if 'Index' in df.columns:\n",
        "    df = df.drop('Index', axis=1)\n",
        "\n",
        "print(df.info())"
      ],
      "metadata": {
        "colab": {
          "base_uri": "https://localhost:8080/"
        },
        "id": "x_02HydwzT00",
        "outputId": "28b70dd2-e9cb-4c40-f058-3a5d1c10806f"
      },
      "execution_count": 4,
      "outputs": [
        {
          "output_type": "stream",
          "name": "stdout",
          "text": [
            "<class 'pandas.core.frame.DataFrame'>\n",
            "RangeIndex: 1600 entries, 0 to 1599\n",
            "Data columns (total 17 columns):\n",
            " #   Column                         Non-Null Count  Dtype         \n",
            "---  ------                         --------------  -----         \n",
            " 0   Hogwarts House                 1600 non-null   object        \n",
            " 1   First Name                     1600 non-null   object        \n",
            " 2   Last Name                      1600 non-null   object        \n",
            " 3   Birthday                       1600 non-null   datetime64[ns]\n",
            " 4   Best Hand                      1600 non-null   int64         \n",
            " 5   Arithmancy                     1566 non-null   float64       \n",
            " 6   Herbology                      1567 non-null   float64       \n",
            " 7   Defense Against the Dark Arts  1569 non-null   float64       \n",
            " 8   Divination                     1561 non-null   float64       \n",
            " 9   Muggle Studies                 1565 non-null   float64       \n",
            " 10  Ancient Runes                  1565 non-null   float64       \n",
            " 11  History of Magic               1557 non-null   float64       \n",
            " 12  Transfiguration                1566 non-null   float64       \n",
            " 13  Potions                        1570 non-null   float64       \n",
            " 14  Care of Magical Creatures      1560 non-null   float64       \n",
            " 15  Charms                         1600 non-null   float64       \n",
            " 16  Flying                         1600 non-null   float64       \n",
            "dtypes: datetime64[ns](1), float64(12), int64(1), object(3)\n",
            "memory usage: 212.6+ KB\n",
            "None\n"
          ]
        }
      ]
    },
    {
      "cell_type": "markdown",
      "source": [
        "## Normalización\n",
        "Es crucial usar EXACTAMENTE los mismos parámetros de normalización (media y desviación estándar) que se usen para los datos de entrenamiento cuando se aplique la normalización a los datos de test. No se deben calcular nuevos parámetros con los datos de test."
      ],
      "metadata": {
        "id": "DWsgM_MQNqFs"
      }
    },
    {
      "cell_type": "code",
      "source": [
        "# Calculate age based on the maximum date in Birthday column\n",
        "df['Birthday'] = pd.to_datetime(df['Birthday'])\n",
        "reference_date = df['Birthday'].max()\n",
        "df['Age'] = (reference_date - df['Birthday']).dt.days / 365.25\n",
        "\n",
        "# Remove unnecessary columns\n",
        "columns_to_drop = ['First Name', 'Last Name', 'Birthday']\n",
        "df = df.drop(columns=columns_to_drop)\n",
        "\n",
        "# Select numerical columns to normalize (including Age which is already float64)\n",
        "columns_to_normalize = df.select_dtypes(include=['float64']).columns.tolist()\n",
        "\n",
        "# Function to normalize using mean and standard deviation\n",
        "def normalize(column, mean=None, std=None):\n",
        "    \"\"\"\n",
        "    Normaliza una columna usando media y desviación estándar\n",
        "\n",
        "    Parámetros:\n",
        "    column: columna a normalizar\n",
        "    mean: media preexistente (opcional)\n",
        "    std: desviación estándar preexistente (opcional)\n",
        "\n",
        "    Retorna:\n",
        "    Si mean y std son None:\n",
        "        column_normalized, mean, std\n",
        "    Si mean y std son proporcionados:\n",
        "        column_normalized\n",
        "    \"\"\"\n",
        "    if mean is None or std is None:\n",
        "        mean = column.mean()\n",
        "        std = column.std()\n",
        "        return (column - mean) / std, mean, std\n",
        "    return (column - mean) / std\n",
        "\n",
        "# Diccionario para guardar los parámetros de normalización\n",
        "normalization_params = {}\n",
        "\n",
        "# Aplicar normalización y guardar parámetros\n",
        "for column in columns_to_normalize:\n",
        "    df[column], mean, std = normalize(df[column])\n",
        "    normalization_params[column] = {'mean': mean, 'std': std}\n",
        "\n",
        "\n",
        "# Apply one-hot encoding for Hogwarts House\n",
        "df = pd.get_dummies(df, columns=['Hogwarts House'], prefix='House', dtype=float)\n",
        "\n",
        "# Convert int values in 'Best Hand' column to float64 values\n",
        "df['Best Hand'] = df['Best Hand'].astype(float)\n",
        "\n",
        "\n",
        "print(df.info())"
      ],
      "metadata": {
        "colab": {
          "base_uri": "https://localhost:8080/"
        },
        "id": "j080C_5z015I",
        "outputId": "46fda3c0-5bf4-4be8-d3e9-49153d2850b3"
      },
      "execution_count": 5,
      "outputs": [
        {
          "output_type": "stream",
          "name": "stdout",
          "text": [
            "<class 'pandas.core.frame.DataFrame'>\n",
            "RangeIndex: 1600 entries, 0 to 1599\n",
            "Data columns (total 18 columns):\n",
            " #   Column                         Non-Null Count  Dtype  \n",
            "---  ------                         --------------  -----  \n",
            " 0   Best Hand                      1600 non-null   float64\n",
            " 1   Arithmancy                     1566 non-null   float64\n",
            " 2   Herbology                      1567 non-null   float64\n",
            " 3   Defense Against the Dark Arts  1569 non-null   float64\n",
            " 4   Divination                     1561 non-null   float64\n",
            " 5   Muggle Studies                 1565 non-null   float64\n",
            " 6   Ancient Runes                  1565 non-null   float64\n",
            " 7   History of Magic               1557 non-null   float64\n",
            " 8   Transfiguration                1566 non-null   float64\n",
            " 9   Potions                        1570 non-null   float64\n",
            " 10  Care of Magical Creatures      1560 non-null   float64\n",
            " 11  Charms                         1600 non-null   float64\n",
            " 12  Flying                         1600 non-null   float64\n",
            " 13  Age                            1600 non-null   float64\n",
            " 14  House_Gryffindor               1600 non-null   float64\n",
            " 15  House_Hufflepuff               1600 non-null   float64\n",
            " 16  House_Ravenclaw                1600 non-null   float64\n",
            " 17  House_Slytherin                1600 non-null   float64\n",
            "dtypes: float64(18)\n",
            "memory usage: 225.1 KB\n",
            "None\n"
          ]
        }
      ]
    },
    {
      "cell_type": "code",
      "source": [
        "# Remove columns\n",
        "reduce_columns = ['Arithmancy', 'Divination', 'Muggle Studies', 'Ancient Runes', 'History of Magic', 'Transfiguration', 'Care of Magical Creatures']\n",
        "df = df.drop(columns=reduce_columns)\n",
        "\n",
        "print(df.info())"
      ],
      "metadata": {
        "colab": {
          "base_uri": "https://localhost:8080/"
        },
        "id": "9yelWg2h0Pka",
        "outputId": "e06eb025-d027-416d-9d1f-c02438a3cb55"
      },
      "execution_count": 6,
      "outputs": [
        {
          "output_type": "stream",
          "name": "stdout",
          "text": [
            "<class 'pandas.core.frame.DataFrame'>\n",
            "RangeIndex: 1600 entries, 0 to 1599\n",
            "Data columns (total 11 columns):\n",
            " #   Column                         Non-Null Count  Dtype  \n",
            "---  ------                         --------------  -----  \n",
            " 0   Best Hand                      1600 non-null   float64\n",
            " 1   Herbology                      1567 non-null   float64\n",
            " 2   Defense Against the Dark Arts  1569 non-null   float64\n",
            " 3   Potions                        1570 non-null   float64\n",
            " 4   Charms                         1600 non-null   float64\n",
            " 5   Flying                         1600 non-null   float64\n",
            " 6   Age                            1600 non-null   float64\n",
            " 7   House_Gryffindor               1600 non-null   float64\n",
            " 8   House_Hufflepuff               1600 non-null   float64\n",
            " 9   House_Ravenclaw                1600 non-null   float64\n",
            " 10  House_Slytherin                1600 non-null   float64\n",
            "dtypes: float64(11)\n",
            "memory usage: 137.6 KB\n",
            "None\n"
          ]
        }
      ]
    },
    {
      "cell_type": "code",
      "source": [
        "# Drop rows with missing data\n",
        "df = df.dropna()\n",
        "\n",
        "# Remove duplicate rows\n",
        "df = df.drop_duplicates()\n",
        "\n",
        "print(df.info())"
      ],
      "metadata": {
        "colab": {
          "base_uri": "https://localhost:8080/"
        },
        "id": "GzELn2rHy8Bx",
        "outputId": "ddd784b1-d8b0-4af5-d1b4-eb16ea4bfed1"
      },
      "execution_count": 7,
      "outputs": [
        {
          "output_type": "stream",
          "name": "stdout",
          "text": [
            "<class 'pandas.core.frame.DataFrame'>\n",
            "Index: 1508 entries, 0 to 1599\n",
            "Data columns (total 11 columns):\n",
            " #   Column                         Non-Null Count  Dtype  \n",
            "---  ------                         --------------  -----  \n",
            " 0   Best Hand                      1508 non-null   float64\n",
            " 1   Herbology                      1508 non-null   float64\n",
            " 2   Defense Against the Dark Arts  1508 non-null   float64\n",
            " 3   Potions                        1508 non-null   float64\n",
            " 4   Charms                         1508 non-null   float64\n",
            " 5   Flying                         1508 non-null   float64\n",
            " 6   Age                            1508 non-null   float64\n",
            " 7   House_Gryffindor               1508 non-null   float64\n",
            " 8   House_Hufflepuff               1508 non-null   float64\n",
            " 9   House_Ravenclaw                1508 non-null   float64\n",
            " 10  House_Slytherin                1508 non-null   float64\n",
            "dtypes: float64(11)\n",
            "memory usage: 141.4 KB\n",
            "None\n"
          ]
        }
      ]
    },
    {
      "cell_type": "markdown",
      "source": [
        "## Variables del modelo"
      ],
      "metadata": {
        "id": "4O5MtH4d45ss"
      }
    },
    {
      "cell_type": "code",
      "source": [
        "import numpy as np\n",
        "\n",
        "# 1. Crear la matriz y con todas las casas ya que estoy en un caso de clasificación multinomial\n",
        "y = df[['House_Gryffindor', 'House_Hufflepuff', 'House_Ravenclaw', 'House_Slytherin']]\n",
        "\n",
        "# 2. Seleccionar las características (X)\n",
        "X = df[['Best Hand', 'Age', 'Herbology', 'Defense Against the Dark Arts',\n",
        "        'Potions', 'Charms', 'Flying']]\n",
        "\n",
        "# 3. Agregar columna de 1's para el término de sesgo (bias)\n",
        "X = np.c_[np.ones(len(X)), X]\n",
        "\n",
        "# Convertir a arrays de numpy para operaciones más eficientes\n",
        "X = np.array(X)\n",
        "y = np.array(y)\n",
        "\n",
        "print(\"\\nPrimeros 3 valores de X:\")\n",
        "print(X[:3])\n",
        "\n",
        "print(\"\\nPrimeros 3 valores de y:\")\n",
        "print(y[:3])"
      ],
      "metadata": {
        "colab": {
          "base_uri": "https://localhost:8080/"
        },
        "id": "70cllbxx5CQg",
        "outputId": "f60f3127-70b0-4325-9940-1e8dd02f9674"
      },
      "execution_count": 8,
      "outputs": [
        {
          "output_type": "stream",
          "name": "stdout",
          "text": [
            "\n",
            "Primeros 3 valores de X:\n",
            "[[ 1.          0.         -0.65312594  0.87862839  1.01034582 -0.68618295\n",
            "   1.20455291 -0.50032993]\n",
            " [ 1.          1.         -0.33150337 -1.36568958  1.13345528  0.41246159\n",
            "  -1.00298294 -1.3869281 ]\n",
            " [ 1.          0.         -0.36979177  1.26137897  0.7766708   0.88255609\n",
            "   1.82518401  0.08667263]]\n",
            "\n",
            "Primeros 3 valores de y:\n",
            "[[0. 0. 1. 0.]\n",
            " [0. 0. 0. 1.]\n",
            " [0. 0. 1. 0.]]\n"
          ]
        }
      ]
    },
    {
      "cell_type": "markdown",
      "source": [
        "## Función Sofmax\n",
        "- Para un caso multinomial, en lugar de la función sigmoide, es recomendado usar la función softmax.  \n",
        "- La función sigmoide se usa principalmente para clasificación binaria, mientras que softmax es la generalización para múltiples clases.\n",
        "- La función softmax se define como:\n",
        "- softmax(z)_i = exp(z_i) / Σ(exp(z_j))"
      ],
      "metadata": {
        "id": "ef4XyUuU92fA"
      }
    },
    {
      "cell_type": "code",
      "source": [
        "def softmax(z):\n",
        "    \"\"\"\n",
        "    Calcula la función softmax para clasificación multinomial\n",
        "\n",
        "    Parámetros:\n",
        "    z: matriz de forma (n_muestras, n_clases)\n",
        "\n",
        "    Retorna:\n",
        "    matriz de probabilidades de forma (n_muestras, n_clases)\n",
        "    donde cada fila suma 1\n",
        "    \"\"\"\n",
        "    # Restamos el máximo para estabilidad numérica\n",
        "    # Esto evita desbordamiento en exp() con números grandes\n",
        "    z_shifted = z - np.max(z, axis=1, keepdims=True)\n",
        "\n",
        "    # Calculamos exp() de los valores desplazados\n",
        "    exp_scores = np.exp(z_shifted)\n",
        "\n",
        "    # Normalizamos dividiendo por la suma\n",
        "    return exp_scores / np.sum(exp_scores, axis=1, keepdims=True)\n",
        "\n",
        "# Podemos probar la función con algunos valores\n",
        "test_values = np.array([\n",
        "    [1, 2, 3, 4],\n",
        "    [2, 1, 0, -1],\n",
        "    [0, 0, 0, 0]\n",
        "])\n",
        "print(\"Valores de prueba:\\n\", test_values)\n",
        "print(\"\\nProbabilidades softmax:\\n\", softmax(test_values))\n",
        "print(\"\\nVerificar que cada fila suma 1:\\n\", np.sum(softmax(test_values), axis=1))"
      ],
      "metadata": {
        "colab": {
          "base_uri": "https://localhost:8080/"
        },
        "id": "BjrCX-Bl953k",
        "outputId": "ead01955-36a9-45c6-f3a4-1e4c03403bff"
      },
      "execution_count": 9,
      "outputs": [
        {
          "output_type": "stream",
          "name": "stdout",
          "text": [
            "Valores de prueba:\n",
            " [[ 1  2  3  4]\n",
            " [ 2  1  0 -1]\n",
            " [ 0  0  0  0]]\n",
            "\n",
            "Probabilidades softmax:\n",
            " [[0.0320586  0.08714432 0.23688282 0.64391426]\n",
            " [0.64391426 0.23688282 0.08714432 0.0320586 ]\n",
            " [0.25       0.25       0.25       0.25      ]]\n",
            "\n",
            "Verificar que cada fila suma 1:\n",
            " [1. 1. 1.]\n"
          ]
        }
      ]
    },
    {
      "cell_type": "markdown",
      "source": [
        "## Función de pérdida\n",
        "- Para el caso multinomial, necesitamos adaptar la función de pérdida para manejar múltiples clases.\n",
        "- La función de pérdida logarítmica multinomial también se llama cross-entropy."
      ],
      "metadata": {
        "id": "IGZxoFqe-C1H"
      }
    },
    {
      "cell_type": "code",
      "source": [
        "def compute_cost(X, y, W):\n",
        "    \"\"\"\n",
        "    Calcula la función de pérdida logarítmica (cross-entropy) para clasificación multinomial\n",
        "\n",
        "    Parámetros:\n",
        "    X: matriz de características (incluyendo columna de 1's) de forma (n_muestras, n_características)\n",
        "    y: matriz one-hot de etiquetas reales de forma (n_muestras, n_clases)\n",
        "    W: matriz de pesos de forma (n_características, n_clases)\n",
        "\n",
        "    Retorna:\n",
        "    J: valor de la función de pérdida\n",
        "    \"\"\"\n",
        "    m = X.shape[0]  # número de muestras\n",
        "\n",
        "    # Calcular predicciones\n",
        "    z = np.dot(X, W)  # (n_muestras, n_clases)\n",
        "    h = softmax(z)    # (n_muestras, n_clases)\n",
        "\n",
        "    # Calcular pérdida logarítmica\n",
        "    epsilon = 1e-15  # para evitar log(0)\n",
        "\n",
        "    # Multiplicación elemento a elemento de y real con log de predicciones\n",
        "    # y sumamos sobre todas las clases (axis=1) y todas las muestras\n",
        "    J = -(1/m) * np.sum(y * np.log(h + epsilon))\n",
        "\n",
        "    return J\n",
        "\n",
        "# Ejemplo de uso:\n",
        "# Supongamos que tenemos:\n",
        "# X: (1508, 8) - 1508 muestras, 7 características + 1 columna de unos\n",
        "# y: (1508, 4) - etiquetas one-hot para 4 casas\n",
        "# W: (8, 4) - pesos para cada característica y cada clase\n",
        "\n",
        "# Inicializar pesos aleatoriamente\n",
        "W = np.random.randn(X.shape[1], y.shape[1]) * 0.01\n",
        "\n",
        "# Calcular coste inicial\n",
        "cost = compute_cost(X, y, W)\n",
        "print(f\"Coste inicial: {cost}\")"
      ],
      "metadata": {
        "colab": {
          "base_uri": "https://localhost:8080/"
        },
        "id": "DzLfoeN5-EXL",
        "outputId": "8cbb1bb4-cc43-4b34-b445-90e03fb5d39d"
      },
      "execution_count": 10,
      "outputs": [
        {
          "output_type": "stream",
          "name": "stdout",
          "text": [
            "Coste inicial: 1.3883844709926232\n"
          ]
        }
      ]
    },
    {
      "cell_type": "markdown",
      "source": [
        "Las principales diferencias con la versión binaria son:\n",
        "- Usamos W (matriz de pesos) en lugar de theta (vector)\n",
        "- Usamos softmax en lugar de sigmoid\n",
        "- La fórmula de la pérdida es más simple porque y es one-hot encoding (solo el término positivo importa)\n",
        "- No necesitamos el término (1-y) porque las etiquetas ya están en formato one-hot\n",
        "\n",
        "Esta función de pérdida penalizará más cuando el modelo asigne probabilidades bajas a las clases correctas y nos servirá para entrenar el modelo mediante descenso por gradiente."
      ],
      "metadata": {
        "id": "c37A1_mUATDv"
      }
    },
    {
      "cell_type": "markdown",
      "source": [
        "## Descenso del Gradiente\n",
        "Para el caso multinomial, necesitamos adaptar la función de descenso del gradiente para manejar la matriz de pesos W en lugar del vector theta."
      ],
      "metadata": {
        "id": "CmOaVF4B-ObG"
      }
    },
    {
      "cell_type": "code",
      "source": [
        "def gradient_descent_multinomial(X, y, learning_rate=0.1, num_iterations=1000, epsilon=1e-8):\n",
        "    \"\"\"\n",
        "    Implementa el descenso del gradiente para regresión logística multinomial\n",
        "\n",
        "    Parámetros:\n",
        "    X: matriz de características (incluyendo columna de 1's) de forma (n_muestras, n_características)\n",
        "    y: matriz one-hot de etiquetas reales de forma (n_muestras, n_clases)\n",
        "    learning_rate: tasa de aprendizaje (alpha)\n",
        "    num_iterations: número máximo de iteraciones\n",
        "    epsilon: umbral para early stopping\n",
        "\n",
        "    Retorna:\n",
        "    W: matriz de pesos optimizada\n",
        "    cost_history: lista con el valor de la función de pérdida en cada iteración\n",
        "    \"\"\"\n",
        "    # Inicializar matriz de pesos W con valores pequeños aleatorios\n",
        "    n_features = X.shape[1]\n",
        "    n_classes = y.shape[1]\n",
        "    W = np.random.randn(n_features, n_classes) * 0.01\n",
        "\n",
        "    # Lista para guardar el historial de costes\n",
        "    cost_history = []\n",
        "\n",
        "    # Número de muestras\n",
        "    m = X.shape[0]\n",
        "\n",
        "    # Calcular coste inicial\n",
        "    prev_cost = compute_cost(X, y, W)\n",
        "    cost_history.append(prev_cost)\n",
        "\n",
        "    # Descenso del gradiente\n",
        "    for i in range(num_iterations):\n",
        "        # Calcular predicciones actuales\n",
        "        z = np.dot(X, W)\n",
        "        h = softmax(z)\n",
        "\n",
        "        # Calcular gradiente\n",
        "        # El gradiente es (1/m) * X^T * (h - y)\n",
        "        gradient = (1/m) * np.dot(X.T, (h - y))\n",
        "\n",
        "        # Actualizar pesos\n",
        "        W = W - learning_rate * gradient\n",
        "\n",
        "        # Calcular nuevo coste\n",
        "        current_cost = compute_cost(X, y, W)\n",
        "        cost_history.append(current_cost)\n",
        "\n",
        "        # Imprimir progreso cada 1000 iteraciones\n",
        "        if i % 1000 == 0:\n",
        "            print(f'Iteración {i}: Coste = {current_cost}')\n",
        "\n",
        "        # Early stopping\n",
        "        if abs(prev_cost - current_cost) < epsilon:\n",
        "            print(f'\\nConvergencia alcanzada en la iteración {i}')\n",
        "            print(f'Diferencia en coste: {abs(prev_cost - current_cost)}')\n",
        "            break\n",
        "\n",
        "        prev_cost = current_cost\n",
        "\n",
        "    return W, cost_history\n",
        "\n",
        "# Ejemplo de uso:\n",
        "# W, cost_history = gradient_descent_multinomial(X, y)"
      ],
      "metadata": {
        "id": "hBHz17HG-T0R"
      },
      "execution_count": 11,
      "outputs": []
    },
    {
      "cell_type": "markdown",
      "source": [
        "Las principales diferencias con la versión binomial son:\n",
        "- Inicializamos una matriz W en lugar de un vector theta\n",
        "- El gradiente se calcula usando la fórmula para multinomial: (1/m) * X^T * (h - y)\n",
        "    - h son las probabilidades softmax\n",
        "    - La resta (h - y) se hace sobre todas las clases\n",
        "\n",
        "No necesitamos una función compute_gradient separada, ya que el cálculo es más directo\n",
        "Todas las operaciones matriciales están adaptadas para manejar múltiples clases\n",
        "\n",
        "Para hacer predicciones con el modelo entrenado, podrías usar:"
      ],
      "metadata": {
        "id": "5nbNp69ZBXOe"
      }
    },
    {
      "cell_type": "code",
      "source": [
        "def predict(X, W):\n",
        "    \"\"\"\n",
        "    Realiza predicciones usando los pesos aprendidos\n",
        "\n",
        "    Parámetros:\n",
        "    X: matriz de características (incluyendo columna de 1's)\n",
        "    W: matriz de pesos optimizada\n",
        "\n",
        "    Retorna:\n",
        "    predicciones: matriz de probabilidades para cada clase\n",
        "    \"\"\"\n",
        "    z = np.dot(X, W)\n",
        "    return softmax(z)"
      ],
      "metadata": {
        "id": "mUal8xCmBrBt"
      },
      "execution_count": 12,
      "outputs": []
    },
    {
      "cell_type": "markdown",
      "source": [
        "podemos ejecutarlo así:"
      ],
      "metadata": {
        "id": "mlBFSKi_-gEX"
      }
    },
    {
      "cell_type": "code",
      "source": [
        "# Hiperparámetros\n",
        "learning_rate = 0.1\n",
        "num_iterations = 5_000\n",
        "\n",
        "# Ejecutar el descenso del gradiente multinomial\n",
        "W_optimal, cost_history = gradient_descent_multinomial(X, y, learning_rate, num_iterations)\n",
        "\n",
        "# Imprimir coste inicial y final\n",
        "print(f\"Coste inicial: {cost_history[0]}\")\n",
        "print(f\"Coste final: {cost_history[-1]}\")\n",
        "\n",
        "# Hacer predicciones\n",
        "probabilities = predict(X, W_optimal)\n",
        "\n",
        "# Obtener la clase predicha\n",
        "predicted_houses = np.argmax(probabilities, axis=1)\n",
        "actual_houses = np.argmax(y, axis=1)\n",
        "accuracy = np.mean(predicted_houses == actual_houses)\n",
        "print(f\"\\nPrecisión del modelo: {accuracy:.4f}\")\n",
        "\n",
        "# Visualizar la evolución del coste\n",
        "import matplotlib.pyplot as plt\n",
        "\n",
        "plt.figure(figsize=(10, 6))\n",
        "plt.plot(cost_history)\n",
        "plt.title('Evolución de la función de coste')\n",
        "plt.xlabel('Iteraciones')\n",
        "plt.ylabel('Coste')\n",
        "plt.grid(True)\n",
        "plt.show()"
      ],
      "metadata": {
        "colab": {
          "base_uri": "https://localhost:8080/",
          "height": 725
        },
        "id": "aVcsXUHu-iUV",
        "outputId": "dbae4693-592d-4edd-c9bb-1a275b412e9e"
      },
      "execution_count": 13,
      "outputs": [
        {
          "output_type": "stream",
          "name": "stdout",
          "text": [
            "Iteración 0: Coste = 1.2784162846377933\n",
            "Iteración 1000: Coste = 0.11580846486949116\n",
            "Iteración 2000: Coste = 0.11169811045218087\n",
            "Iteración 3000: Coste = 0.10982765402311696\n",
            "Iteración 4000: Coste = 0.10870494480604345\n",
            "Coste inicial: 1.36877507087773\n",
            "Coste final: 0.10791250314891968\n",
            "\n",
            "Precisión del modelo: 0.9834\n"
          ]
        },
        {
          "output_type": "display_data",
          "data": {
            "text/plain": [
              "<Figure size 1000x600 with 1 Axes>"
            ],
            "image/png": "[encoded data removed]"
          },
          "metadata": {}
        }
      ]
    },
    {
      "cell_type": "code",
      "source": [],
      "metadata": {
        "id": "urdndZkoQo8s"
      },
      "execution_count": 13,
      "outputs": []
    },
    {
      "cell_type": "markdown",
      "source": [
        "# Tratamiento de los datos de test"
      ],
      "metadata": {
        "id": "KeNh3K_UQqCO"
      }
    },
    {
      "cell_type": "markdown",
      "source": [
        "Primero cargar los datos de test:"
      ],
      "metadata": {
        "id": "lRN1njBmQ331"
      }
    },
    {
      "cell_type": "code",
      "source": [
        "import pandas as pd\n",
        "\n",
        "# Ruta al archivo en Google Drive para test\n",
        "input_file_test = '/content/drive/My Drive/datasets/dataset_test.csv'\n",
        "\n",
        "# Leer el archivo CSV y crear el DataFrame de test\n",
        "df_test = pd.read_csv(input_file_test)\n",
        "\n",
        "print(df_test.info())"
      ],
      "metadata": {
        "colab": {
          "base_uri": "https://localhost:8080/"
        },
        "id": "xICM6gJvQw0a",
        "outputId": "86f77d8f-3ed4-4d2b-c838-92a1a421b8c6"
      },
      "execution_count": 14,
      "outputs": [
        {
          "output_type": "stream",
          "name": "stdout",
          "text": [
            "<class 'pandas.core.frame.DataFrame'>\n",
            "RangeIndex: 400 entries, 0 to 399\n",
            "Data columns (total 19 columns):\n",
            " #   Column                         Non-Null Count  Dtype  \n",
            "---  ------                         --------------  -----  \n",
            " 0   Index                          400 non-null    int64  \n",
            " 1   Hogwarts House                 0 non-null      float64\n",
            " 2   First Name                     400 non-null    object \n",
            " 3   Last Name                      400 non-null    object \n",
            " 4   Birthday                       400 non-null    object \n",
            " 5   Best Hand                      400 non-null    object \n",
            " 6   Arithmancy                     387 non-null    float64\n",
            " 7   Astronomy                      387 non-null    float64\n",
            " 8   Herbology                      389 non-null    float64\n",
            " 9   Defense Against the Dark Arts  392 non-null    float64\n",
            " 10  Divination                     394 non-null    float64\n",
            " 11  Muggle Studies                 390 non-null    float64\n",
            " 12  Ancient Runes                  392 non-null    float64\n",
            " 13  History of Magic               389 non-null    float64\n",
            " 14  Transfiguration                389 non-null    float64\n",
            " 15  Potions                        390 non-null    float64\n",
            " 16  Care of Magical Creatures      392 non-null    float64\n",
            " 17  Charms                         400 non-null    float64\n",
            " 18  Flying                         400 non-null    float64\n",
            "dtypes: float64(14), int64(1), object(4)\n",
            "memory usage: 59.5+ KB\n",
            "None\n"
          ]
        }
      ]
    },
    {
      "cell_type": "markdown",
      "source": [
        "## Procesamiento de los datos de `test`\n",
        "Comentario para la posterior: Imputación de datos faltantes\n",
        "\n",
        "Vamos a tratar los datos de test igual que los datos de entrenamiento salvo que no vamos a eliminar columnas de las asignaturas, ni siguiera eliminaremos 'Astronomy' ya que aprovecharemos esta información para realizar la imputación de los datos faltantes usando regresión múltiple.\n",
        "\n",
        "El caso de 'Astronomy' es importante ya que mantiene con 'Defense Against the Dark Arts' una correlación perfecta con r=-1, lo cual nos ayudará a imputar bastantes datos con precisión total. Simplemnete dividiendo entre -100 los catos de 'Astronomy' se obtienen los datos de 'Defense Against the Dark Arts'.\n",
        "\n"
      ],
      "metadata": {
        "id": "r92_co67PfYp"
      }
    },
    {
      "cell_type": "code",
      "source": [
        "# Convert 'Birthday' to datetime format\n",
        "df_test['Birthday'] = pd.to_datetime(df_test['Birthday'])\n",
        "\n",
        "# Convert 'Best Hand' to a binary variable (0 for Left, 1 for Right)\n",
        "df_test['Best Hand'] = df_test['Best Hand'].map({'Left': 0, 'Right': 1})\n",
        "\n",
        "\n",
        "# Remove unnecessary columns\n",
        "columns_to_drop = ['First Name', 'Last Name', 'Birthday', 'Hogwarts House']\n",
        "df_test = df_test.drop(columns=columns_to_drop)\n",
        "\n",
        "print(df_test.info())"
      ],
      "metadata": {
        "colab": {
          "base_uri": "https://localhost:8080/"
        },
        "id": "8xFcLkUwQJ-D",
        "outputId": "f97d68ca-f6d5-4a9c-e271-2c604199e9a5"
      },
      "execution_count": 15,
      "outputs": [
        {
          "output_type": "stream",
          "name": "stdout",
          "text": [
            "<class 'pandas.core.frame.DataFrame'>\n",
            "RangeIndex: 400 entries, 0 to 399\n",
            "Data columns (total 15 columns):\n",
            " #   Column                         Non-Null Count  Dtype  \n",
            "---  ------                         --------------  -----  \n",
            " 0   Index                          400 non-null    int64  \n",
            " 1   Best Hand                      400 non-null    int64  \n",
            " 2   Arithmancy                     387 non-null    float64\n",
            " 3   Astronomy                      387 non-null    float64\n",
            " 4   Herbology                      389 non-null    float64\n",
            " 5   Defense Against the Dark Arts  392 non-null    float64\n",
            " 6   Divination                     394 non-null    float64\n",
            " 7   Muggle Studies                 390 non-null    float64\n",
            " 8   Ancient Runes                  392 non-null    float64\n",
            " 9   History of Magic               389 non-null    float64\n",
            " 10  Transfiguration                389 non-null    float64\n",
            " 11  Potions                        390 non-null    float64\n",
            " 12  Care of Magical Creatures      392 non-null    float64\n",
            " 13  Charms                         400 non-null    float64\n",
            " 14  Flying                         400 non-null    float64\n",
            "dtypes: float64(13), int64(2)\n",
            "memory usage: 47.0 KB\n",
            "None\n"
          ]
        }
      ]
    },
    {
      "cell_type": "markdown",
      "source": [
        "## Normalización de los datos de test\n",
        "- Normalizar los datos de test usando los parámetros (media y desviación estándar) que guardamos del conjunto de entrenamiento.\n",
        "- Esto es crucial porque debemos aplicar exactamente la misma transformación que aplicamos a los datos de entrenamiento."
      ],
      "metadata": {
        "id": "8pcVGQ-0X5K0"
      }
    },
    {
      "cell_type": "code",
      "source": [
        "# Convertir Best Hand a float64 como hicimos en training\n",
        "df_test['Best Hand'] = df_test['Best Hand'].astype(float)\n",
        "\n",
        "# Normalizar usando los parámetros guardados de training\n",
        "for column in df_test.columns:\n",
        "    if column in normalization_params:\n",
        "        mean = normalization_params[column]['mean']\n",
        "        std = normalization_params[column]['std']\n",
        "        df_test[column] = normalize(df_test[column], mean, std)\n",
        "\n",
        "print(\"\\nPrimeros 3 registros después de la normalización:\")\n",
        "print(df_test.head(3))"
      ],
      "metadata": {
        "colab": {
          "base_uri": "https://localhost:8080/"
        },
        "id": "QLqSuvxrYHB1",
        "outputId": "468e2f02-8026-4680-bd88-032b69ccf00b"
      },
      "execution_count": null,
      "outputs": [
        {
          "output_type": "stream",
          "name": "stdout",
          "text": [
            "\n",
            "Primeros 3 registros después de la normalización:\n",
            "   Best Hand  Herbology  Defense Against the Dark Arts   Potions    Charms  \\\n",
            "0        1.0   0.360013                      -1.260955 -0.724744 -0.126065   \n",
            "1        0.0   0.349486                       0.785819  0.814602  1.375558   \n",
            "2        0.0  -1.403671                      -0.540051 -1.302330 -1.095106   \n",
            "\n",
            "     Flying       Age  \n",
            "0 -0.364411 -1.719458  \n",
            "1 -0.493877  0.897554  \n",
            "2  1.825147  0.418949  \n"
          ]
        }
      ]
    }
  ]
}