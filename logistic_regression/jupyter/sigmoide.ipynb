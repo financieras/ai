{
  "nbformat": 4,
  "nbformat_minor": 0,
  "metadata": {
    "colab": {
      "provenance": [],
      "authorship_tag": "ABX9TyMb+bvtur+IsnwFdrEQIz18",
      "include_colab_link": true
    },
    "kernelspec": {
      "name": "python3",
      "display_name": "Python 3"
    },
    "language_info": {
      "name": "python"
    }
  },
  "cells": [
    {
      "cell_type": "markdown",
      "metadata": {
        "id": "view-in-github",
        "colab_type": "text"
      },
      "source": [
        "<a href=\"https://colab.research.google.com/github/financieras/ai/blob/main/logistic_regression/jupyter/sigmoide.ipynb\" target=\"_parent\"><img src=\"https://colab.research.google.com/assets/colab-badge.svg\" alt=\"Open In Colab\"/></a>"
      ]
    },
    {
      "cell_type": "code",
      "execution_count": 3,
      "metadata": {
        "colab": {
          "base_uri": "https://localhost:8080/"
        },
        "id": "McHolnR8JTXN",
        "outputId": "f4e1d17f-c8fa-4fe7-afbf-a9b3329a60f7"
      },
      "outputs": [
        {
          "output_type": "stream",
          "name": "stdout",
          "text": [
            "<class 'pandas.core.frame.DataFrame'>\n",
            "RangeIndex: 1277 entries, 0 to 1276\n",
            "Data columns (total 8 columns):\n",
            " #   Column                         Non-Null Count  Dtype  \n",
            "---  ------                         --------------  -----  \n",
            " 0   Best Hand                      1277 non-null   float64\n",
            " 1   Age                            1277 non-null   float64\n",
            " 2   House_Gryffindor               1277 non-null   float64\n",
            " 3   Herbology                      1277 non-null   float64\n",
            " 4   Defense Against the Dark Arts  1277 non-null   float64\n",
            " 5   Potions                        1277 non-null   float64\n",
            " 6   Charms                         1277 non-null   float64\n",
            " 7   Flying                         1277 non-null   float64\n",
            "dtypes: float64(8)\n",
            "memory usage: 79.9 KB\n"
          ]
        }
      ],
      "source": [
        "import pandas as pd\n",
        "\n",
        "# Cargar el CSV\n",
        "df = pd.read_csv('dataset_normalized_lite5.csv')\n",
        "\n",
        "# Eliminar las columnas especificadas\n",
        "columns_to_drop = ['House_Hufflepuff', 'House_Ravenclaw', 'House_Slytherin']\n",
        "df = df.drop(columns=columns_to_drop)\n",
        "\n",
        "df.info()"
      ]
    },
    {
      "cell_type": "code",
      "source": [
        "import numpy as np\n",
        "\n",
        "# 1. Separar variable objetivo (y) de características (X)\n",
        "y = df['House_Gryffindor']\n",
        "\n",
        "# 2. Seleccionar las características (excluyendo House_Gryffindor)\n",
        "X = df[['Best Hand', 'Age', 'Herbology', 'Defense Against the Dark Arts',\n",
        "        'Potions', 'Charms', 'Flying']]\n",
        "\n",
        "# 3. Agregar columna de 1's para el término de sesgo (bias)\n",
        "X = np.c_[np.ones(len(X)), X]\n",
        "\n",
        "# Convertir a arrays de numpy para operaciones más eficientes\n",
        "X = np.array(X)\n",
        "y = np.array(y)\n",
        "\n",
        "# Las dimensiones deberían ser:\n",
        "# X: (1277, 8) - 1277 muestras, 8 características (incluyendo el bias)\n",
        "# y: (1277,) - 1277 etiquetas"
      ],
      "metadata": {
        "id": "NC3iJgN3Quun"
      },
      "execution_count": 4,
      "outputs": []
    },
    {
      "cell_type": "code",
      "source": [
        "# Comprobar dimensiones\n",
        "print(\"Dimensiones de X:\", X.shape)\n",
        "print(\"Dimensiones de y:\", y.shape)\n",
        "\n",
        "# También puedes ver las primeras filas para verificar que la estructura es correcta\n",
        "print(\"\\nPrimeras 3 filas de X (mostrando el término de bias en la primera columna):\")\n",
        "print(X[:3])\n",
        "\n",
        "print(\"\\nPrimeros 3 valores de y:\")\n",
        "print(y[:3])"
      ],
      "metadata": {
        "colab": {
          "base_uri": "https://localhost:8080/"
        },
        "id": "e0gdmCiwRDqi",
        "outputId": "f074c468-1f19-4061-f589-19cbd163200d"
      },
      "execution_count": 5,
      "outputs": [
        {
          "output_type": "stream",
          "name": "stdout",
          "text": [
            "Dimensiones de X: (1277, 8)\n",
            "Dimensiones de y: (1277,)\n",
            "\n",
            "Primeras 3 filas de X (mostrando el término de bias en la primera columna):\n",
            "[[ 1.          0.         -0.63083413  0.86662781  1.0214988  -0.7028287\n",
            "   1.19791313 -0.50609606]\n",
            " [ 1.          1.         -0.30779955 -1.37601754  1.14449275  0.41221315\n",
            "  -1.01037058 -1.3935865 ]\n",
            " [ 1.          0.         -0.34625605  1.24909314  0.78804302  0.88932382\n",
            "   1.81875448  0.08149725]]\n",
            "\n",
            "Primeros 3 valores de y:\n",
            "[0. 0. 0.]\n"
          ]
        }
      ]
    },
    {
      "cell_type": "markdown",
      "source": [
        "vamos a implementar la función sigmoide. Esta función es crucial en la regresión logística ya que transforma cualquier número real en un valor entre 0 y 1, que podemos interpretar como una probabilidad.\n",
        "python"
      ],
      "metadata": {
        "id": "Vv7DqHOARu6I"
      }
    },
    {
      "cell_type": "code",
      "source": [
        "def sigmoid(z):\n",
        "    \"\"\"\n",
        "    Calcula la función sigmoide: σ(z) = 1/(1 + e^(-z))\n",
        "\n",
        "    Parámetros:\n",
        "    z: puede ser un número real, vector o matriz\n",
        "\n",
        "    Retorna:\n",
        "    Valor de la función sigmoide\n",
        "    \"\"\"\n",
        "    # Usamos np.clip para evitar desbordamiento numérico\n",
        "    # Limitamos los valores a [-250, 250] para evitar warnings de overflow\n",
        "    z_safe = np.clip(z, -250, 250)\n",
        "    return 1.0 / (1.0 + np.exp(-z_safe))\n",
        "\n",
        "# Podemos probar la función con algunos valores para verificar que funciona correctamente\n",
        "test_values = np.array([-10, -1, 0, 1, 10])\n",
        "print(\"Valores de prueba:\", test_values)\n",
        "print(\"Valores sigmoide:\", sigmoid(test_values))"
      ],
      "metadata": {
        "colab": {
          "base_uri": "https://localhost:8080/"
        },
        "id": "j28Xg9XIRwOu",
        "outputId": "1e93254b-eaed-4f35-b6c6-4761808f8439"
      },
      "execution_count": 6,
      "outputs": [
        {
          "output_type": "stream",
          "name": "stdout",
          "text": [
            "Valores de prueba: [-10  -1   0   1  10]\n",
            "Valores sigmoide: [4.53978687e-05 2.68941421e-01 5.00000000e-01 7.31058579e-01\n",
            " 9.99954602e-01]\n"
          ]
        }
      ]
    },
    {
      "cell_type": "markdown",
      "source": [
        "## Función de pérdida\n",
        "Vamos a implementar la función de pérdida logarítmica (log loss) para regresión logística.\n",
        "Para cada observación, la función de pérdida es:\n",
        "\n",
        "Si y = 1: -log(h(x))\n",
        "Si y = 0: -log(1 - h(x))\n",
        "\n",
        "Donde h(x) es nuestra predicción (la salida de la función sigmoide).\n",
        "Esto se puede escribir de forma compacta para todo el conjunto de datos como:\n",
        "J(θ) = -(1/m) * Σ [y * log(h(x)) + (1-y) * log(1-h(x))]\n",
        "Donde:\n",
        "\n",
        "m es el número de observaciones (1277 en nuestro caso)\n",
        "y son los valores reales\n",
        "h(x) son las predicciones (después de aplicar la sigmoide)\n",
        "Σ representa la suma sobre todas las observaciones"
      ],
      "metadata": {
        "id": "TC8o7w9ZWSXh"
      }
    },
    {
      "cell_type": "code",
      "source": [
        "def compute_cost(X, y, theta):\n",
        "    \"\"\"\n",
        "    Calcula la función de pérdida logarítmica\n",
        "\n",
        "    Parámetros:\n",
        "    X: matriz de características (incluyendo columna de 1's)\n",
        "    y: vector de etiquetas reales\n",
        "    theta: vector de parámetros\n",
        "\n",
        "    Retorna:\n",
        "    J: valor de la función de pérdida\n",
        "    \"\"\"\n",
        "    m = len(y)\n",
        "\n",
        "    # Calcular predicciones\n",
        "    z = np.dot(X, theta)\n",
        "    h = sigmoid(z)\n",
        "\n",
        "    # Calcular pérdida logarítmica\n",
        "    # Añadimos un pequeño valor epsilon para evitar log(0)\n",
        "    epsilon = 1e-15\n",
        "    J = -(1/m) * np.sum(y * np.log(h + epsilon) + (1-y) * np.log(1 - h + epsilon))\n",
        "\n",
        "    return J"
      ],
      "metadata": {
        "id": "wUgKhGVuWS7c"
      },
      "execution_count": 7,
      "outputs": []
    },
    {
      "cell_type": "markdown",
      "source": [
        "Esta implementación:\n",
        "\n",
        "Calcula z = X·θ\n",
        "Aplica la función sigmoide para obtener h(x)\n",
        "Calcula la pérdida logarítmica\n",
        "Incluye un pequeño valor epsilon para evitar problemas numéricos con log(0)"
      ],
      "metadata": {
        "id": "-oLhXQQJWSUf"
      }
    }
  ]
}