{
  "nbformat": 4,
  "nbformat_minor": 0,
  "metadata": {
    "colab": {
      "provenance": [],
      "authorship_tag": "ABX9TyN7kp/0Rg6gV1etpiPrQ58W"
    },
    "kernelspec": {
      "name": "python3",
      "display_name": "Python 3"
    },
    "language_info": {
      "name": "python"
    }
  },
  "cells": [
    {
      "cell_type": "markdown",
      "source": [
        "# Regresión logística\n",
        "Se trata de resolver un problema de clasificación (selección) donde la variable dependiente $y$ es nominal (categórica) y las variables independientes $x_1, x_2, ...,x_n$ está formada por datos que pueden ser numéricos (float, int) o binarios.\n",
        "\n",
        "Tipos:\n",
        "1. Binomial: la variable dependiente $y$ tiene solo dos categorías (clasificación binaria)\n",
        "2. Multinomial: $y$ tiene más de dos categorías\n",
        "\n",
        "El modelo:\n",
        "- Predice las probabilidades de pertenecer a cada categoría de la variable dependiente $y$ en función de los valores de las variables independientes.\n",
        "- No requiere que las variables independientes sean estadísticamente independientes entre sí\n",
        "- Variables independientes pueden ser continuas o categóricas.\n",
        "    - Las variables cuantitativas se incluyen directamente en el modelo.\n",
        "    - Las variables cualitativas deben ser tratadas:\n",
        "        1. Si son dicotómicas, se codifican como 0 (ausencia) y 1 (presencia).\n",
        "        2. Si tienen más de dos categorías, se transforman en variables dummy (ficticias o de diseño).\n",
        "\n"
      ],
      "metadata": {
        "id": "djpzu0LsC5VI"
      }
    }
  ]
}