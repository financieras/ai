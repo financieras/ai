{
  "nbformat": 4,
  "nbformat_minor": 0,
  "metadata": {
    "colab": {
      "provenance": [],
      "authorship_tag": "ABX9TyMAmf/BvhIac5fWR2DeK+Wg",
      "include_colab_link": true
    },
    "kernelspec": {
      "name": "python3",
      "display_name": "Python 3"
    },
    "language_info": {
      "name": "python"
    }
  },
  "cells": [
    {
      "cell_type": "markdown",
      "metadata": {
        "id": "view-in-github",
        "colab_type": "text"
      },
      "source": [
        "<a href=\"https://colab.research.google.com/github/financieras/ai/blob/main/logistic_regression/jupyter/ft_functions.ipynb\" target=\"_parent\"><img src=\"https://colab.research.google.com/assets/colab-badge.svg\" alt=\"Open In Colab\"/></a>"
      ]
    },
    {
      "cell_type": "markdown",
      "source": [
        "# Funciones\n",
        "Programamos las funciones que luego usaremos desde otro notebook."
      ],
      "metadata": {
        "id": "epGXbuureU_P"
      }
    },
    {
      "cell_type": "markdown",
      "source": [
        "## Funciones de estadística descriptiva"
      ],
      "metadata": {
        "id": "JQueUPC8ed0C"
      }
    },
    {
      "cell_type": "code",
      "source": [
        "import math\n",
        "import numpy as np\n",
        "\n",
        "###### FUNCTIONS FOR DESCRIPTIVE STATISTICS ######\n",
        "\n",
        "def ft_count(data):\n",
        "    \"\"\"Calculate the number of non-null observations.\"\"\"\n",
        "    return sum(1 for x in data if x is not None and not math.isnan(x))\n",
        "\n",
        "def ft_mean(data):\n",
        "    \"\"\"Calculate the arithmetic mean of the data.\"\"\"\n",
        "    clean_data = [x for x in data if x is not None and not math.isnan(x)]\n",
        "    return float('nan') if not clean_data else sum(clean_data) / len(clean_data)\n",
        "\n",
        "def ft_std(data):\n",
        "    \"\"\"Calculate the standard deviation of the data.\"\"\"\n",
        "    clean_data = [x for x in data if x is not None and not math.isnan(x)]\n",
        "    if len(clean_data) < 2:\n",
        "        return float('nan')\n",
        "    mean = ft_mean(clean_data)\n",
        "    return math.sqrt(sum((x - mean) ** 2 for x in clean_data) / (len(clean_data) - 1))\n",
        "\n",
        "def ft_min(data):\n",
        "    \"\"\"Find the minimum value in the data.\"\"\"\n",
        "    clean_data = [x for x in data if x is not None and not math.isnan(x)]\n",
        "    return float('nan') if not clean_data else min(clean_data)\n",
        "\n",
        "def ft_max(data):\n",
        "    \"\"\"Find the maximum value in the data.\"\"\"\n",
        "    clean_data = [x for x in data if x is not None and not math.isnan(x)]\n",
        "    return float('nan') if not clean_data else max(clean_data)\n",
        "\n",
        "def ft_percentile(data, q):\n",
        "    \"\"\"Calculate the qth percentile of the data.\"\"\"\n",
        "    clean_data = sorted([x for x in data if x is not None and not math.isnan(x)])\n",
        "    if not clean_data:\n",
        "        return float('nan')\n",
        "    if len(clean_data) == 1:\n",
        "        return clean_data[0]\n",
        "    position = (len(clean_data) - 1) * q\n",
        "    floor, ceil = math.floor(position), math.ceil(position)\n",
        "    if floor == ceil:\n",
        "        return clean_data[int(position)]\n",
        "    d0 = clean_data[floor] * (ceil - position)\n",
        "    d1 = clean_data[ceil] * (position - floor)\n",
        "    return d0 + d1\n",
        "\n",
        "def ft_median(data):\n",
        "    \"\"\"Calculate the median (50th percentile) of the data.\"\"\"\n",
        "    return ft_percentile(data, 0.5)\n",
        "\n",
        "def ft_iqr(data):\n",
        "    \"\"\"Calculate the Interquartile Range (IQR) of the data.\"\"\"\n",
        "    q75, q25 = ft_percentile(data, 0.75), ft_percentile(data, 0.25)\n",
        "    return float('nan') if math.isnan(q75) or math.isnan(q25) else q75 - q25\n",
        "\n",
        "def ft_skewness(data):\n",
        "    \"\"\"Calculate the skewness of the data.\"\"\"\n",
        "    clean_data = [x for x in data if x is not None and not math.isnan(x)]\n",
        "    if len(clean_data) < 3:\n",
        "        return float('nan')\n",
        "    mean, std = ft_mean(clean_data), ft_std(clean_data)\n",
        "    if std == 0:\n",
        "        return float('nan')\n",
        "    m3 = sum((x - mean) ** 3 for x in clean_data) / len(clean_data)\n",
        "    return m3 / (std ** 3)\n",
        "\n",
        "def ft_kurtosis(data):\n",
        "    \"\"\"Calculate the kurtosis of the data.\"\"\"\n",
        "    clean_data = [x for x in data if x is not None and not math.isnan(x)]\n",
        "    if len(clean_data) < 4:\n",
        "        return float('nan')\n",
        "    mean, std = ft_mean(clean_data), ft_std(clean_data)\n",
        "    if std == 0:\n",
        "        return float('nan')\n",
        "    m4 = sum((x - mean) ** 4 for x in clean_data) / len(clean_data)\n",
        "    return (m4 / (std ** 4)) - 3\n",
        "\n",
        "def ft_cv(data):\n",
        "    \"\"\"Calculate the Coefficient of Variation (CV) of the data.\"\"\"\n",
        "    mean, std = ft_mean(data), ft_std(data)\n",
        "    return float('nan') if mean == 0 or math.isnan(mean) or math.isnan(std) else abs(std / mean)"
      ],
      "metadata": {
        "id": "Df9WVXmBehaj"
      },
      "execution_count": null,
      "outputs": []
    }
  ]
}