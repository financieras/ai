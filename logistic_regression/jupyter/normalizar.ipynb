{
  "nbformat": 4,
  "nbformat_minor": 0,
  "metadata": {
    "colab": {
      "provenance": [],
      "authorship_tag": "ABX9TyMV2S+Pu0VkbpoLgLwePDOs",
      "include_colab_link": true
    },
    "kernelspec": {
      "name": "python3",
      "display_name": "Python 3"
    },
    "language_info": {
      "name": "python"
    }
  },
  "cells": [
    {
      "cell_type": "markdown",
      "metadata": {
        "id": "view-in-github",
        "colab_type": "text"
      },
      "source": [
        "<a href=\"https://colab.research.google.com/github/financieras/ai/blob/main/logistic_regression/jupyter/normalizar.ipynb\" target=\"_parent\"><img src=\"https://colab.research.google.com/assets/colab-badge.svg\" alt=\"Open In Colab\"/></a>"
      ]
    },
    {
      "cell_type": "markdown",
      "source": [
        "# Normalizar dataset\n",
        "Partimos de un archivo CSV y lo limpiamos, seleccionamos columnas y normalizamos.\n",
        "\n",
        "Los archivos de origen están en Drive y son:\n",
        "- 'datasets/dataset_train.csv'\n",
        "- 'datasets/dataset_test.csv'\n",
        "\n",
        "Los archivos están en Google Drive por lo que lo leemos y construimos un DataFrame."
      ],
      "metadata": {
        "id": "W_7P-FS-vCaa"
      }
    },
    {
      "cell_type": "code",
      "execution_count": 1,
      "metadata": {
        "colab": {
          "base_uri": "https://localhost:8080/"
        },
        "id": "h4aS4PZhuxgC",
        "outputId": "b234b651-eda1-44fd-cfc3-7e865eda6d2d"
      },
      "outputs": [
        {
          "output_type": "stream",
          "name": "stdout",
          "text": [
            "Drive already mounted at /content/drive; to attempt to forcibly remount, call drive.mount(\"/content/drive\", force_remount=True).\n"
          ]
        }
      ],
      "source": [
        "from google.colab import drive\n",
        "drive.mount('/content/drive')"
      ]
    },
    {
      "cell_type": "code",
      "source": [
        "import pandas as pd\n",
        "\n",
        "# Ruta al archivo en Google Drive\n",
        "input_file = '/content/drive/My Drive/datasets/dataset_train.csv'\n",
        "\n",
        "# Leer el archivo CSV y crear el DataFrame\n",
        "df = pd.read_csv(input_file)\n",
        "\n",
        "# Mostrar información sobre las columnas del DataFrame\n",
        "print(df.info())"
      ],
      "metadata": {
        "colab": {
          "base_uri": "https://localhost:8080/"
        },
        "id": "R9-YX6WGwMcS",
        "outputId": "5c36e02c-1601-4a84-b1ee-30b72a14e495"
      },
      "execution_count": 2,
      "outputs": [
        {
          "output_type": "stream",
          "name": "stdout",
          "text": [
            "<class 'pandas.core.frame.DataFrame'>\n",
            "RangeIndex: 1600 entries, 0 to 1599\n",
            "Data columns (total 19 columns):\n",
            " #   Column                         Non-Null Count  Dtype  \n",
            "---  ------                         --------------  -----  \n",
            " 0   Index                          1600 non-null   int64  \n",
            " 1   Hogwarts House                 1600 non-null   object \n",
            " 2   First Name                     1600 non-null   object \n",
            " 3   Last Name                      1600 non-null   object \n",
            " 4   Birthday                       1600 non-null   object \n",
            " 5   Best Hand                      1600 non-null   object \n",
            " 6   Arithmancy                     1566 non-null   float64\n",
            " 7   Astronomy                      1568 non-null   float64\n",
            " 8   Herbology                      1567 non-null   float64\n",
            " 9   Defense Against the Dark Arts  1569 non-null   float64\n",
            " 10  Divination                     1561 non-null   float64\n",
            " 11  Muggle Studies                 1565 non-null   float64\n",
            " 12  Ancient Runes                  1565 non-null   float64\n",
            " 13  History of Magic               1557 non-null   float64\n",
            " 14  Transfiguration                1566 non-null   float64\n",
            " 15  Potions                        1570 non-null   float64\n",
            " 16  Care of Magical Creatures      1560 non-null   float64\n",
            " 17  Charms                         1600 non-null   float64\n",
            " 18  Flying                         1600 non-null   float64\n",
            "dtypes: float64(13), int64(1), object(5)\n",
            "memory usage: 237.6+ KB\n",
            "None\n"
          ]
        }
      ]
    },
    {
      "cell_type": "code",
      "source": [
        "# Borrar la columna 'Astronomy'\n",
        "df = df.drop(columns=['Astronomy'])"
      ],
      "metadata": {
        "id": "dkjndGXkxuly"
      },
      "execution_count": 3,
      "outputs": []
    },
    {
      "cell_type": "code",
      "source": [
        "# Convert 'Birthday' to datetime format\n",
        "df['Birthday'] = pd.to_datetime(df['Birthday'])\n",
        "\n",
        "# Convert 'Best Hand' to a binary variable (0 for Left, 1 for Right)\n",
        "df['Best Hand'] = df['Best Hand'].map({'Left': 0, 'Right': 1})\n",
        "\n",
        "# Reset the index to a continuous sequence\n",
        "df = df.reset_index(drop=True)\n",
        "\n",
        "# Remove the original 'Index' column if it exists\n",
        "if 'Index' in df.columns:\n",
        "    df = df.drop('Index', axis=1)\n",
        "\n",
        "print(df.info())"
      ],
      "metadata": {
        "colab": {
          "base_uri": "https://localhost:8080/"
        },
        "id": "x_02HydwzT00",
        "outputId": "3a1ced8b-866e-4083-92bf-cbc8b5c1b5fc"
      },
      "execution_count": 4,
      "outputs": [
        {
          "output_type": "stream",
          "name": "stdout",
          "text": [
            "<class 'pandas.core.frame.DataFrame'>\n",
            "RangeIndex: 1600 entries, 0 to 1599\n",
            "Data columns (total 17 columns):\n",
            " #   Column                         Non-Null Count  Dtype         \n",
            "---  ------                         --------------  -----         \n",
            " 0   Hogwarts House                 1600 non-null   object        \n",
            " 1   First Name                     1600 non-null   object        \n",
            " 2   Last Name                      1600 non-null   object        \n",
            " 3   Birthday                       1600 non-null   datetime64[ns]\n",
            " 4   Best Hand                      1600 non-null   int64         \n",
            " 5   Arithmancy                     1566 non-null   float64       \n",
            " 6   Herbology                      1567 non-null   float64       \n",
            " 7   Defense Against the Dark Arts  1569 non-null   float64       \n",
            " 8   Divination                     1561 non-null   float64       \n",
            " 9   Muggle Studies                 1565 non-null   float64       \n",
            " 10  Ancient Runes                  1565 non-null   float64       \n",
            " 11  History of Magic               1557 non-null   float64       \n",
            " 12  Transfiguration                1566 non-null   float64       \n",
            " 13  Potions                        1570 non-null   float64       \n",
            " 14  Care of Magical Creatures      1560 non-null   float64       \n",
            " 15  Charms                         1600 non-null   float64       \n",
            " 16  Flying                         1600 non-null   float64       \n",
            "dtypes: datetime64[ns](1), float64(12), int64(1), object(3)\n",
            "memory usage: 212.6+ KB\n",
            "None\n"
          ]
        }
      ]
    },
    {
      "cell_type": "code",
      "source": [
        "# Calculate age based on the maximum date in Birthday column\n",
        "df['Birthday'] = pd.to_datetime(df['Birthday'])\n",
        "reference_date = df['Birthday'].max()\n",
        "df['Age'] = (reference_date - df['Birthday']).dt.days / 365.25\n",
        "\n",
        "# Remove unnecessary columns\n",
        "columns_to_drop = ['First Name', 'Last Name', 'Birthday']\n",
        "df = df.drop(columns=columns_to_drop)\n",
        "\n",
        "# Select numerical columns to normalize (including Age which is already float64)\n",
        "columns_to_normalize = df.select_dtypes(include=['float64']).columns.tolist()\n",
        "\n",
        "# Function to normalize using mean and standard deviation\n",
        "def normalize(column):\n",
        "    mean = column.mean()\n",
        "    std = column.std()\n",
        "    return (column - mean) / std\n",
        "\n",
        "# Apply normalization to the selected columns\n",
        "df[columns_to_normalize] = df[columns_to_normalize].apply(normalize)\n",
        "\n",
        "# Apply one-hot encoding for Hogwarts House\n",
        "df = pd.get_dummies(df, columns=['Hogwarts House'], prefix='House', dtype=float)\n",
        "\n",
        "# Convert int values in 'Best Hand' column to float64 values\n",
        "df['Best Hand'] = df['Best Hand'].astype(float)\n",
        "\n",
        "\n",
        "print(df.info())"
      ],
      "metadata": {
        "colab": {
          "base_uri": "https://localhost:8080/"
        },
        "id": "j080C_5z015I",
        "outputId": "9b7de6c7-c70c-4d8d-a029-44e6101f8934"
      },
      "execution_count": 5,
      "outputs": [
        {
          "output_type": "stream",
          "name": "stdout",
          "text": [
            "<class 'pandas.core.frame.DataFrame'>\n",
            "RangeIndex: 1600 entries, 0 to 1599\n",
            "Data columns (total 18 columns):\n",
            " #   Column                         Non-Null Count  Dtype  \n",
            "---  ------                         --------------  -----  \n",
            " 0   Best Hand                      1600 non-null   float64\n",
            " 1   Arithmancy                     1566 non-null   float64\n",
            " 2   Herbology                      1567 non-null   float64\n",
            " 3   Defense Against the Dark Arts  1569 non-null   float64\n",
            " 4   Divination                     1561 non-null   float64\n",
            " 5   Muggle Studies                 1565 non-null   float64\n",
            " 6   Ancient Runes                  1565 non-null   float64\n",
            " 7   History of Magic               1557 non-null   float64\n",
            " 8   Transfiguration                1566 non-null   float64\n",
            " 9   Potions                        1570 non-null   float64\n",
            " 10  Care of Magical Creatures      1560 non-null   float64\n",
            " 11  Charms                         1600 non-null   float64\n",
            " 12  Flying                         1600 non-null   float64\n",
            " 13  Age                            1600 non-null   float64\n",
            " 14  House_Gryffindor               1600 non-null   float64\n",
            " 15  House_Hufflepuff               1600 non-null   float64\n",
            " 16  House_Ravenclaw                1600 non-null   float64\n",
            " 17  House_Slytherin                1600 non-null   float64\n",
            "dtypes: float64(18)\n",
            "memory usage: 225.1 KB\n",
            "None\n"
          ]
        }
      ]
    },
    {
      "cell_type": "code",
      "source": [
        "# Drop rows with missing data\n",
        "df = df.dropna()\n",
        "\n",
        "# Remove duplicate rows\n",
        "df = df.drop_duplicates()"
      ],
      "metadata": {
        "id": "GzELn2rHy8Bx"
      },
      "execution_count": 6,
      "outputs": []
    }
  ]
}