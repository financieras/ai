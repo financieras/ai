{
 "cells": [
  {
   "cell_type": "markdown",
   "id": "14c9631e-8b7c-45d8-8a2b-e002c38f0020",
   "metadata": {},
   "source": [
    "# Entrenamiento del modelo\n",
    "- Utilizaremos el algoritmo de Descenso del Gradiente por lotes (GD batch).\n",
    "- Este es el primero de tres algoritmos que usaremos para efectuar versiones alternativas del entrenamiento:\n",
    "    1. ✅ GD por lotes (logreg_train.ipynb)\n",
    "    2. ✅ SGD (logreg_sgd_train.ipynb)\n",
    "    3. ✅ Mini-Batch GD (logreg_minibatch_train.ipynb) "
   ]
  },
  {
   "cell_type": "code",
   "execution_count": 1,
   "id": "e9d79b0c-3189-405e-ab3b-8f4f2279b1d0",
   "metadata": {},
   "outputs": [],
   "source": [
    "import pandas as pd\n",
    "import numpy as np\n",
    "import matplotlib.pyplot as plt\n",
    "import json\n",
    "import sys\n",
    "sys.path.append('..')  # Añade el directorio padre (logistic_regression) al path\n",
    "from src.ft_functions import (softmax, compute_cost, gradient_descent_multinomial, \n",
    "                        predict)"
   ]
  },
  {
   "cell_type": "markdown",
   "id": "c21281b1-7d7f-4fc6-a0bc-c34f0808d973",
   "metadata": {},
   "source": [
    "### Leemos el DataSet de entrenamiento normalizado"
   ]
  },
  {
   "cell_type": "code",
   "execution_count": 2,
   "id": "03389736-cbe1-416b-8eca-d12a7472a16c",
   "metadata": {},
   "outputs": [],
   "source": [
    "# Para el entrenamiento solo necesitamos el Dataset train\n",
    "df = pd.read_csv('../datasets/normal_train.csv')"
   ]
  },
  {
   "cell_type": "markdown",
   "id": "635c261c-e201-4073-94f6-0e7cda691341",
   "metadata": {
    "id": "4O5MtH4d45ss"
   },
   "source": [
    "## Variables del modelo"
   ]
  },
  {
   "cell_type": "code",
   "execution_count": 3,
   "id": "7ca433fb-e5af-4c93-94d4-8bbc4468179e",
   "metadata": {
    "colab": {
     "base_uri": "https://localhost:8080/"
    },
    "id": "70cllbxx5CQg",
    "outputId": "78871ca5-0463-4229-bfe3-ee960e7550a0"
   },
   "outputs": [
    {
     "name": "stdout",
     "output_type": "stream",
     "text": [
      "\n",
      "Primeros 3 valores de X:\n",
      "[[ 1.          0.         -0.64873035  0.87996722  1.00749409 -0.69816049\n",
      "   1.19974009 -0.4992794 ]\n",
      " [ 1.          1.         -0.32740279 -1.36481614  1.13059639  0.40759206\n",
      "  -1.00452861 -1.38645949]\n",
      " [ 1.          0.         -0.36565607  1.26279717  0.77383265  0.88072797\n",
      "   1.81945265  0.08810844]]\n",
      "\n",
      "Primeros 3 valores de y:\n",
      "[[0. 0. 1. 0.]\n",
      " [0. 0. 0. 1.]\n",
      " [0. 0. 1. 0.]]\n"
     ]
    }
   ],
   "source": [
    "# 1. Crear la matriz y con todas las casas ya que estoy en un caso de clasificación multinomial\n",
    "y = df[['House_Gryffindor', 'House_Hufflepuff', 'House_Ravenclaw', 'House_Slytherin']]\n",
    "\n",
    "# 2. Seleccionar las características (X)\n",
    "X = df[['Best Hand', 'Age', 'Herbology', 'Defense Against the Dark Arts',\n",
    "        'Potions', 'Charms', 'Flying']]\n",
    "\n",
    "# 3. Agregar columna de 1's para el término de sesgo (bias)\n",
    "X = np.c_[np.ones(len(X)), X]\n",
    "\n",
    "# Convertir a arrays de numpy para operaciones más eficientes\n",
    "X = np.array(X)\n",
    "y = np.array(y)\n",
    "\n",
    "print(\"\\nPrimeros 3 valores de X:\")\n",
    "print(X[:3])\n",
    "\n",
    "print(\"\\nPrimeros 3 valores de y:\")\n",
    "print(y[:3])"
   ]
  },
  {
   "cell_type": "markdown",
   "id": "09579687-e389-4b7a-bceb-298a296a51ba",
   "metadata": {
    "id": "ef4XyUuU92fA"
   },
   "source": [
    "## Función Sofmax\n",
    "- Para un caso multinomial, en lugar de la función sigmoide, es recomendado usar la función softmax.  \n",
    "- La función sigmoide se usa principalmente para clasificación binaria, mientras que softmax es la generalización para múltiples clases.\n",
    "- La función softmax se define como:\n",
    "- softmax(z)_i = exp(z_i) / Σ(exp(z_j))\n",
    "\n",
    "```python\n",
    "def softmax(z):\n",
    "    \"\"\"\n",
    "    Calcula la función softmax para clasificación multinomial\n",
    "\n",
    "    Parámetros:\n",
    "    z: matriz de forma (n_muestras, n_clases)\n",
    "\n",
    "    Retorna:\n",
    "    matriz de probabilidades de forma (n_muestras, n_clases)\n",
    "    donde cada fila suma 1\n",
    "    \"\"\"\n",
    "    # Restamos el máximo para estabilidad numérica\n",
    "    # Esto evita desbordamiento en exp() con números grandes\n",
    "    z_shifted = z - np.max(z, axis=1, keepdims=True)\n",
    "\n",
    "    # Calculamos exp() de los valores desplazados\n",
    "    exp_scores = np.exp(z_shifted)\n",
    "\n",
    "    # Normalizamos dividiendo por la suma\n",
    "    return exp_scores / np.sum(exp_scores, axis=1, keepdims=True)\n",
    "```"
   ]
  },
  {
   "cell_type": "code",
   "execution_count": 4,
   "id": "d01f058f-a64c-4446-8d03-576ce4981159",
   "metadata": {},
   "outputs": [
    {
     "name": "stdout",
     "output_type": "stream",
     "text": [
      "Valores de prueba:\n",
      " [[ 1  2  3  4]\n",
      " [ 2  1  0 -1]\n",
      " [ 0  0  0  0]]\n",
      "\n",
      "Probabilidades softmax:\n",
      " [[0.0320586  0.08714432 0.23688282 0.64391426]\n",
      " [0.64391426 0.23688282 0.08714432 0.0320586 ]\n",
      " [0.25       0.25       0.25       0.25      ]]\n",
      "\n",
      "Verificar que cada fila suma 1:\n",
      " [1. 1. 1.]\n"
     ]
    }
   ],
   "source": [
    "# Podemos probar la función con algunos valores\n",
    "test_values = np.array([\n",
    "    [1, 2, 3, 4],\n",
    "    [2, 1, 0, -1],\n",
    "    [0, 0, 0, 0]\n",
    "])\n",
    "print(\"Valores de prueba:\\n\", test_values)\n",
    "print(\"\\nProbabilidades softmax:\\n\", softmax(test_values))\n",
    "print(\"\\nVerificar que cada fila suma 1:\\n\", np.sum(softmax(test_values), axis=1))"
   ]
  },
  {
   "cell_type": "markdown",
   "id": "dc37a2d5-9be2-4a4f-b60b-8829fa00de27",
   "metadata": {
    "id": "IGZxoFqe-C1H"
   },
   "source": [
    "## Función de pérdida\n",
    "- Para el caso multinomial, necesitamos adaptar la función de pérdida para manejar múltiples clases.\n",
    "- La función de pérdida logarítmica multinomial también se llama cross-entropy.\n",
    "\n",
    "```python\n",
    "def compute_cost(X, y, W):\n",
    "    \"\"\"\n",
    "    Calcula la función de pérdida logarítmica (cross-entropy) para clasificación multinomial\n",
    "\n",
    "    Parámetros:\n",
    "    X: matriz de características (incluyendo columna de 1's) de forma (n_muestras, n_características)\n",
    "    y: matriz one-hot de etiquetas reales de forma (n_muestras, n_clases)\n",
    "    W: matriz de pesos de forma (n_características, n_clases)\n",
    "\n",
    "    Retorna:\n",
    "    J: valor de la función de pérdida\n",
    "    \"\"\"\n",
    "    m = X.shape[0]  # número de muestras\n",
    "\n",
    "    # Calcular predicciones\n",
    "    z = np.dot(X, W)  # (n_muestras, n_clases)\n",
    "    h = softmax(z)    # (n_muestras, n_clases)\n",
    "\n",
    "    # Calcular pérdida logarítmica\n",
    "    epsilon = 1e-15  # para evitar log(0)\n",
    "\n",
    "    # Multiplicación elemento a elemento de y real con log de predicciones\n",
    "    # y sumamos sobre todas las clases (axis=1) y todas las muestras\n",
    "    J = -(1/m) * np.sum(y * np.log(h + epsilon))\n",
    "\n",
    "    return J\n",
    "\n",
    "# Ejemplo de uso:\n",
    "# Supongamos que tenemos:\n",
    "# X: (1508, 8) - 1508 muestras, 7 características + 1 columna de unos\n",
    "# y: (1508, 4) - etiquetas one-hot para 4 casas\n",
    "# W: (8, 4) - pesos para cada característica y cada clase\n",
    "```"
   ]
  },
  {
   "cell_type": "markdown",
   "id": "ba702cd1-c2d0-4112-a9eb-4b33be288dec",
   "metadata": {},
   "source": [
    "### Principales diferencias con la versión binaria\n",
    "- Usamos W (matriz de pesos) en lugar de theta (vector)\n",
    "- Usamos softmax en lugar de sigmoid\n",
    "- La fórmula de la pérdida es más simple porque y es one-hot encoding (solo el término positivo importa)\n",
    "- No necesitamos el término (1-y) porque las etiquetas ya están en formato one-hot\n",
    "\n",
    "Esta función de pérdida penalizará más cuando el modelo asigne probabilidades bajas a las clases correctas y nos servirá para entrenar el modelo mediante descenso por gradiente."
   ]
  },
  {
   "cell_type": "markdown",
   "id": "8be7bc58-13ce-460c-85d9-4b15f043ec20",
   "metadata": {},
   "source": [
    "### Pesos iniciales aleatorios y Coste inicial"
   ]
  },
  {
   "cell_type": "code",
   "execution_count": 5,
   "id": "70d2ba9d-5103-4cc5-b639-2a39c45a2851",
   "metadata": {
    "colab": {
     "base_uri": "https://localhost:8080/"
    },
    "id": "DzLfoeN5-EXL",
    "outputId": "9a9dfa9f-41c8-4acf-bf0e-0b07e6c081b0"
   },
   "outputs": [
    {
     "name": "stdout",
     "output_type": "stream",
     "text": [
      "Coste inicial: 1.3991286955397424\n"
     ]
    }
   ],
   "source": [
    "# Inicializar pesos aleatoriamente\n",
    "W = np.random.randn(X.shape[1], y.shape[1]) * 0.01\n",
    "\n",
    "# Calcular coste inicial\n",
    "cost = compute_cost(X, y, W)\n",
    "print(f\"Coste inicial: {cost}\")"
   ]
  },
  {
   "cell_type": "markdown",
   "id": "f4a2ee63-cd72-46d4-9bfe-5327425b96bb",
   "metadata": {},
   "source": [
    "## Descenso del Gradiente\n",
    "Para el caso multinomial, necesitamos adaptar la función de descenso del gradiente para manejar la matriz de pesos W en lugar del vector theta.\n",
    "\n",
    "```python\n",
    "def gradient_descent_multinomial(X, y, learning_rate=0.1, num_iterations=1000, epsilon=1e-8):\n",
    "    \"\"\"\n",
    "    Implementa el descenso del gradiente para regresión logística multinomial\n",
    "\n",
    "    Parámetros:\n",
    "    X: matriz de características (incluyendo columna de 1's) de forma (n_muestras, n_características)\n",
    "    y: matriz one-hot de etiquetas reales de forma (n_muestras, n_clases)\n",
    "    learning_rate: tasa de aprendizaje (alpha)\n",
    "    num_iterations: número máximo de iteraciones\n",
    "    epsilon: umbral para early stopping\n",
    "\n",
    "    Retorna:\n",
    "    W: matriz de pesos optimizada\n",
    "    cost_history: lista con el valor de la función de pérdida en cada iteración\n",
    "    \"\"\"\n",
    "    # Inicializar matriz de pesos W con valores pequeños aleatorios\n",
    "    n_features = X.shape[1]\n",
    "    n_classes = y.shape[1]\n",
    "    W = np.random.randn(n_features, n_classes) * 0.01\n",
    "\n",
    "    # Lista para guardar el historial de costes\n",
    "    cost_history = []\n",
    "\n",
    "    # Número de muestras\n",
    "    m = X.shape[0]\n",
    "\n",
    "    # Calcular coste inicial\n",
    "    prev_cost = compute_cost(X, y, W)\n",
    "    cost_history.append(prev_cost)\n",
    "\n",
    "    # Descenso del gradiente\n",
    "    for i in range(num_iterations):\n",
    "        # Calcular predicciones actuales\n",
    "        z = np.dot(X, W)\n",
    "        h = softmax(z)\n",
    "\n",
    "        # Calcular gradiente\n",
    "        # El gradiente es (1/m) * X^T * (h - y)\n",
    "        gradient = (1/m) * np.dot(X.T, (h - y))\n",
    "\n",
    "        # Actualizar pesos\n",
    "        W = W - learning_rate * gradient\n",
    "\n",
    "        # Calcular nuevo coste\n",
    "        current_cost = compute_cost(X, y, W)\n",
    "        cost_history.append(current_cost)\n",
    "\n",
    "        # Imprimir progreso cada 1000 iteraciones\n",
    "        if i % 1000 == 0:\n",
    "            print(f'Iteración {i}: Coste = {current_cost}')\n",
    "\n",
    "        # Early stopping\n",
    "        if abs(prev_cost - current_cost) < epsilon:\n",
    "            print(f'\\nConvergencia alcanzada en la iteración {i}')\n",
    "            print(f'Diferencia en coste: {abs(prev_cost - current_cost)}')\n",
    "            break\n",
    "\n",
    "        prev_cost = current_cost\n",
    "\n",
    "    return W, cost_history\n",
    "\n",
    "# Ejemplo de uso:\n",
    "# W, cost_history = gradient_descent_multinomial(X, y)\n",
    "```"
   ]
  },
  {
   "cell_type": "markdown",
   "id": "c35323bd-f6df-4d43-8df1-50b8deca99d0",
   "metadata": {},
   "source": [
    "Las principales diferencias con la versión binomial son:\n",
    "- Inicializamos una matriz W en lugar de un vector theta\n",
    "- El gradiente se calcula usando la fórmula para multinomial: (1/m) * X^T * (h - y)\n",
    "    - h son las probabilidades softmax\n",
    "    - La resta (h - y) se hace sobre todas las clases\n",
    "\n",
    "No necesitamos una función compute_gradient separada, ya que el cálculo es más directo.  \n",
    "Todas las operaciones matriciales están adaptadas para manejar múltiples clases."
   ]
  },
  {
   "cell_type": "markdown",
   "id": "7f5ab847-e2d8-4e32-92fc-765dc08000de",
   "metadata": {},
   "source": [
    "## Función predict\n",
    "\n",
    "```python\n",
    "def predict(X, W):\n",
    "    \"\"\"\n",
    "    Realiza predicciones usando los pesos aprendidos\n",
    "\n",
    "    Parámetros:\n",
    "    X: matriz de características (incluyendo columna de 1's)\n",
    "    W: matriz de pesos optimizada\n",
    "\n",
    "    Retorna:\n",
    "    predicciones: matriz de probabilidades para cada clase\n",
    "    \"\"\"\n",
    "    z = np.dot(X, W)\n",
    "    return softmax(z)\n",
    "```"
   ]
  },
  {
   "cell_type": "markdown",
   "id": "ae5eec36-353c-45d1-8da8-0f0b1209fbc7",
   "metadata": {
    "id": "CmOaVF4B-ObG"
   },
   "source": [
    "## Entrenamiento del modelo"
   ]
  },
  {
   "cell_type": "markdown",
   "id": "20a2aaf3-350f-42bb-a254-fb6613c47d38",
   "metadata": {
    "id": "5nbNp69ZBXOe"
   },
   "source": [
    "Para hacer predicciones con el modelo entrenado, podrías usar la función predict:"
   ]
  },
  {
   "cell_type": "markdown",
   "id": "e97ecbdd-1005-4207-8615-426acedc7a3a",
   "metadata": {
    "id": "mlBFSKi_-gEX"
   },
   "source": [
    "podemos ejecutarlo así:"
   ]
  },
  {
   "cell_type": "code",
   "execution_count": 6,
   "id": "6a063006-8e14-4e7b-bf44-9b9815896f53",
   "metadata": {
    "colab": {
     "base_uri": "https://localhost:8080/",
     "height": 623
    },
    "id": "aVcsXUHu-iUV",
    "outputId": "6422201a-5f12-4541-9a2e-c7375531044b"
   },
   "outputs": [
    {
     "name": "stdout",
     "output_type": "stream",
     "text": [
      "Iteración 0: Coste = 1.296908853160122\n",
      "Iteración 1000: Coste = 0.11876633573217209\n",
      "Iteración 2000: Coste = 0.11445598312315597\n",
      "Iteración 3000: Coste = 0.11240571301882683\n",
      "Iteración 4000: Coste = 0.1111371097615007\n",
      "Coste inicial: 1.3886290629638023\n",
      "Coste final: 0.11022865701773188\n",
      "\n",
      "Precisión del modelo: 0.9831\n"
     ]
    }
   ],
   "source": [
    "# Hiperparámetros\n",
    "learning_rate = 0.1\n",
    "num_iterations = 5_000\n",
    "\n",
    "# Ejecutar el descenso del gradiente multinomial\n",
    "W_optimal, cost_history = gradient_descent_multinomial(X, y, learning_rate, num_iterations)\n",
    "\n",
    "# Imprimir coste inicial y final\n",
    "print(f\"Coste inicial: {cost_history[0]}\")\n",
    "print(f\"Coste final: {cost_history[-1]}\")\n",
    "\n",
    "# Hacer predicciones\n",
    "probabilities = predict(X, W_optimal)\n",
    "\n",
    "# Obtener la clase predicha\n",
    "predicted_houses = np.argmax(probabilities, axis=1)\n",
    "actual_houses = np.argmax(y, axis=1)\n",
    "accuracy = np.mean(predicted_houses == actual_houses)\n",
    "print(f\"\\nPrecisión del modelo: {accuracy:.4f}\")"
   ]
  },
  {
   "cell_type": "markdown",
   "id": "944ed829-7641-4f90-a938-80285a9b6571",
   "metadata": {},
   "source": [
    "## Visualización de la evolución del coste"
   ]
  },
  {
   "cell_type": "code",
   "execution_count": 7,
   "id": "c7ac751f-b024-4e90-98e1-c17b4d948001",
   "metadata": {},
   "outputs": [
    {
     "data": {
      "image/png": "[encoded data removed]",
      "text/plain": [
       "<Figure size 1000x600 with 1 Axes>"
      ]
     },
     "metadata": {},
     "output_type": "display_data"
    }
   ],
   "source": [
    "plt.figure(figsize=(10, 6))\n",
    "plt.plot(cost_history)\n",
    "plt.title('Evolución de la función de coste')\n",
    "plt.xlabel('Iteraciones')\n",
    "plt.ylabel('Coste')\n",
    "plt.grid(True)\n",
    "plt.show()"
   ]
  },
  {
   "cell_type": "markdown",
   "id": "a624444d-9d19-48a2-ba9a-68aaaae2654b",
   "metadata": {},
   "source": [
    "## Visualizar pesos para cada característica"
   ]
  },
  {
   "cell_type": "code",
   "execution_count": 8,
   "id": "61cd0411-86ac-460d-8115-e1bca0376ba6",
   "metadata": {},
   "outputs": [
    {
     "data": {
      "image/png": "[encoded data removed]",
      "text/plain": [
       "<Figure size 1200x800 with 2 Axes>"
      ]
     },
     "metadata": {},
     "output_type": "display_data"
    }
   ],
   "source": [
    "# visualiza la importancia de las diferentes características (features)\n",
    "feature_names = ['Bias', 'Best Hand', 'Age', 'Herbology', 'Defense', 'Potions', 'Charms', 'Flying']\n",
    "house_names = ['Gryffindor', 'Hufflepuff', 'Ravenclaw', 'Slytherin']\n",
    "\n",
    "plt.figure(figsize=(12, 8))\n",
    "plt.imshow(W_optimal.T, aspect='auto')\n",
    "plt.colorbar()\n",
    "plt.xticks(range(len(feature_names)), feature_names, rotation=45)\n",
    "plt.yticks(range(len(house_names)), house_names)\n",
    "plt.title('Importancia de características por casa')\n",
    "plt.tight_layout()\n",
    "plt.show()"
   ]
  },
  {
   "cell_type": "markdown",
   "id": "cd84bf14-4c73-4981-b951-335498d8ce1f",
   "metadata": {},
   "source": [
    "## Grabación de los pesos óptimos"
   ]
  },
  {
   "cell_type": "code",
   "execution_count": 9,
   "id": "eb025ad5-3bd3-453b-a9cf-4e7410f31b4e",
   "metadata": {},
   "outputs": [],
   "source": [
    "def save_weights(W, output_file='../output/model_weights.json'):\n",
    "    \"\"\"\n",
    "    Guarda los pesos del modelo en formato JSON\n",
    "    \n",
    "    Parámetros:\n",
    "    W: matriz de pesos numpy del modelo\n",
    "    output_dir: directorio donde guardar el archivo\n",
    "    \"\"\"    \n",
    "    # Convertir matriz de pesos numpy a lista\n",
    "    weights = W.tolist()\n",
    "    \n",
    "    # Guardar en JSON\n",
    "    with open(output_file, 'w') as f:\n",
    "        json.dump(weights, f)\n",
    "\n",
    "\n"
   ]
  },
  {
   "cell_type": "markdown",
   "id": "a79234ae-38f4-410a-8bcf-a8528df23026",
   "metadata": {},
   "source": [
    "### Guardar pesos óptimos\n",
    "Después del entrenamiento"
   ]
  },
  {
   "cell_type": "code",
   "execution_count": 10,
   "id": "c8a61258-cb82-4244-a022-5c05f77c7fea",
   "metadata": {},
   "outputs": [],
   "source": [
    "# Ejecuta la función\n",
    "save_weights(W_optimal)"
   ]
  }
 ],
 "metadata": {
  "kernelspec": {
   "display_name": "Python 3 (ipykernel)",
   "language": "python",
   "name": "python3"
  },
  "language_info": {
   "codemirror_mode": {
    "name": "ipython",
    "version": 3
   },
   "file_extension": ".py",
   "mimetype": "text/x-python",
   "name": "python",
   "nbconvert_exporter": "python",
   "pygments_lexer": "ipython3",
   "version": "3.12.2"
  }
 },
 "nbformat": 4,
 "nbformat_minor": 5
}
