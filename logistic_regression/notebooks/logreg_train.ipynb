{
 "cells": [
  {
   "cell_type": "markdown",
   "id": "14c9631e-8b7c-45d8-8a2b-e002c38f0020",
   "metadata": {},
   "source": [
    "# Entrenamiento del modelo"
   ]
  },
  {
   "cell_type": "code",
   "execution_count": 1,
   "id": "da827cef-76ca-48ea-8f17-0853d1a94226",
   "metadata": {},
   "outputs": [],
   "source": [
    "import numpy as np\n",
    "import pandas as pd\n",
    "import os\n",
    "import json\n",
    "import sys\n",
    "sys.path.append('..')  # Añade el directorio padre (logistic_regression) al path\n",
    "from src.ft_functions import *"
   ]
  },
  {
   "cell_type": "code",
   "execution_count": 2,
   "id": "c4af2c8e-18b0-4c0f-bae8-a9dc32adf6b7",
   "metadata": {},
   "outputs": [],
   "source": [
    "class LogisticRegressionTrainer:\n",
    "    def __init__(self, learning_rate=0.01, max_iterations=1000, tolerance=1e-4):\n",
    "        self.learning_rate = learning_rate\n",
    "        self.max_iterations = max_iterations\n",
    "        self.tolerance = tolerance\n",
    "        self.weights = {}\n",
    "        \n",
    "    def train_one_vs_all(self, X, y, house):\n",
    "        \"\"\"Train a single binary classifier for one house vs all others\"\"\"\n",
    "        n_features = X.shape[1]\n",
    "        weights = np.zeros(n_features)\n",
    "        y_binary = prepare_one_vs_all(y, house)\n",
    "        \n",
    "        prev_loss = float('inf')\n",
    "        \n",
    "        for iteration in range(self.max_iterations):\n",
    "            # Forward pass\n",
    "            y_pred = sigmoid(np.dot(X, weights))\n",
    "            \n",
    "            # Calculate loss\n",
    "            current_loss = binary_cross_entropy(y_binary, y_pred)\n",
    "            \n",
    "            # Check convergence\n",
    "            if abs(prev_loss - current_loss) < self.tolerance:\n",
    "                break\n",
    "                \n",
    "            # Compute gradients and update weights\n",
    "            gradients = binary_gradient(X, y_binary, y_pred)\n",
    "            weights -= self.learning_rate * gradients\n",
    "            \n",
    "            prev_loss = current_loss\n",
    "            \n",
    "        return weights\n",
    "    \n",
    "    def train(self, X, houses):\n",
    "        \"\"\"Train all binary classifiers\"\"\"\n",
    "        unique_houses = ['Gryffindor', 'Hufflepuff', 'Ravenclaw', 'Slytherin']\n",
    "        \n",
    "        for house in unique_houses:\n",
    "            print(f\"Training classifier for {house}...\")\n",
    "            self.weights[house] = self.train_one_vs_all(X, houses, house)\n",
    "            \n",
    "        return self.weights"
   ]
  },
  {
   "cell_type": "markdown",
   "id": "c21281b1-7d7f-4fc6-a0bc-c34f0808d973",
   "metadata": {},
   "source": [
    "### Leemos el DataSet de entrenamiento normalizado"
   ]
  },
  {
   "cell_type": "code",
   "execution_count": 3,
   "id": "07e1f603-0dbf-4e79-82ee-07fa29e70e2f",
   "metadata": {},
   "outputs": [],
   "source": [
    "data = pd.read_csv('../datasets/normal_train.csv')"
   ]
  },
  {
   "cell_type": "code",
   "execution_count": 4,
   "id": "3d89f42c-e7f2-430a-8f5b-7c37d64b32db",
   "metadata": {},
   "outputs": [],
   "source": [
    "# Separar características y etiquetas\n",
    "# Excluimos las columnas de casas\n",
    "feature_columns = ['Herbology', 'Defense Against the Dark Arts', \n",
    "                   'Potions', 'Charms', 'Flying', 'Best Hand', 'Age']\n",
    "\n",
    "X = data[feature_columns].values"
   ]
  },
  {
   "cell_type": "code",
   "execution_count": 5,
   "id": "0c1fd32d-7a3f-4351-87a4-3fab6922bc65",
   "metadata": {},
   "outputs": [
    {
     "name": "stdout",
     "output_type": "stream",
     "text": [
      "Training model...\n",
      "Training classifier for Gryffindor...\n",
      "Training classifier for Hufflepuff...\n",
      "Training classifier for Ravenclaw...\n",
      "Training classifier for Slytherin...\n",
      "Saving weights...\n",
      "Weights saved to ../output/model_weights.json\n"
     ]
    }
   ],
   "source": [
    "\n",
    "\n",
    "# Crear vector de casas\n",
    "houses = np.where(data['House_Gryffindor'] == 1, 'Gryffindor',\n",
    "         np.where(data['House_Hufflepuff'] == 1, 'Hufflepuff',\n",
    "         np.where(data['House_Ravenclaw'] == 1, 'Ravenclaw', 'Slytherin')))\n",
    "\n",
    "# Entrenar modelo\n",
    "print(\"Training model...\")\n",
    "trainer = LogisticRegressionTrainer(\n",
    "    learning_rate=0.01,\n",
    "    max_iterations=1000,\n",
    "    tolerance=1e-4\n",
    ")\n",
    "\n",
    "weights = trainer.train(X, houses)\n",
    "\n",
    "# Convertir los pesos a un formato serializable\n",
    "weights_dict = {\n",
    "    house: weights[house].tolist() for house in weights\n",
    "}\n",
    "\n",
    "# Guardar pesos en formato JSON\n",
    "weights_path = '../output/model_weights.json'\n",
    "print(\"Saving weights...\")\n",
    "with open(weights_path, 'w') as f:\n",
    "    json.dump(weights_dict, f, indent=4)\n",
    "print(f\"Weights saved to {weights_path}\")"
   ]
  },
  {
   "cell_type": "code",
   "execution_count": null,
   "id": "b3307e82-c269-4479-aabf-48125b33a44d",
   "metadata": {},
   "outputs": [],
   "source": []
  }
 ],
 "metadata": {
  "kernelspec": {
   "display_name": "Python 3 (ipykernel)",
   "language": "python",
   "name": "python3"
  },
  "language_info": {
   "codemirror_mode": {
    "name": "ipython",
    "version": 3
   },
   "file_extension": ".py",
   "mimetype": "text/x-python",
   "name": "python",
   "nbconvert_exporter": "python",
   "pygments_lexer": "ipython3",
   "version": "3.12.2"
  }
 },
 "nbformat": 4,
 "nbformat_minor": 5
}
