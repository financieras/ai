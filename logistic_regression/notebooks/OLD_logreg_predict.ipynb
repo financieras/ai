{
 "cells": [
  {
   "cell_type": "markdown",
   "id": "3addca4e-d45d-42f3-b389-418ddedffd4c",
   "metadata": {},
   "source": [
    "# Predicción con los datos de test"
   ]
  },
  {
   "cell_type": "markdown",
   "id": "cd7b5e04-5b9b-4a35-994d-c2a46450c69c",
   "metadata": {},
   "source": [
    "### Leemos el DataSet de entrenamiento normalizado"
   ]
  },
  {
   "cell_type": "code",
   "execution_count": 2,
   "id": "2f06af61-268b-4f12-96ae-8ecb1edf1004",
   "metadata": {},
   "outputs": [],
   "source": [
    "import pandas as pd\n",
    "import numpy as np"
   ]
  },
  {
   "cell_type": "code",
   "execution_count": 3,
   "id": "730283be-60e8-41dc-a255-1cc659f3e6bd",
   "metadata": {},
   "outputs": [],
   "source": [
    "# Ahora solo necesitamos el Dataset de test\n",
    "df_test = pd.read_csv('../datasets/normal_test.csv')"
   ]
  },
  {
   "cell_type": "markdown",
   "id": "ae2ba0ff-52cc-46f2-b687-decb874c4999",
   "metadata": {},
   "source": [
    "## Preparar los datos de test\n",
    "Preparar X_test seleccionando solo las columnas usadas en entrenamiento y añadiendo el término de sesgo.\n",
    "\n",
    "Necesitaremos preparar los datos en el formato correcto para hacer las predicciones:"
   ]
  },
  {
   "cell_type": "code",
   "execution_count": 4,
   "id": "c272946f-5bd4-48b4-a119-4000329212ac",
   "metadata": {},
   "outputs": [
    {
     "name": "stdout",
     "output_type": "stream",
     "text": [
      "\n",
      "Forma de X_test: (400, 8)\n"
     ]
    }
   ],
   "source": [
    "# Preparar X_test (agregar columna de 1's para el término de sesgo)\n",
    "X_test = df_test[['Best Hand', 'Age', 'Herbology', 'Defense Against the Dark Arts',\n",
    "                  'Potions', 'Charms', 'Flying']]\n",
    "X_test = np.c_[np.ones(len(X_test)), X_test]\n",
    "X_test = np.array(X_test)\n",
    "\n",
    "print(\"\\nForma de X_test:\", X_test.shape)"
   ]
  },
  {
   "cell_type": "markdown",
   "id": "7c442e03-e704-46e8-9945-3552bc90607b",
   "metadata": {},
   "source": [
    "## Recuperar los pesos óptimos\n",
    "Ahora podemos usar la función predict que ya teníamos y los pesos óptimos (W_optimal) para hacer las predicciones."
   ]
  },
  {
   "cell_type": "code",
   "execution_count": 5,
   "id": "2993151e-cc2e-4190-b442-d0c251e72321",
   "metadata": {},
   "outputs": [
    {
     "name": "stdout",
     "output_type": "stream",
     "text": [
      "Forma de la matriz de pesos: (8, 4)\n"
     ]
    }
   ],
   "source": [
    "import json\n",
    "import sys\n",
    "sys.path.append('..')\n",
    "\n",
    "# Cargar los pesos desde el archivo JSON\n",
    "with open('../output/model_weights.json', 'r') as file:\n",
    "    W = np.array(json.load(file))\n",
    "\n",
    "print(\"Forma de la matriz de pesos:\", W.shape)"
   ]
  },
  {
   "cell_type": "code",
   "execution_count": null,
   "id": "0cc00d03-a7b4-485e-8d39-eee75bbde870",
   "metadata": {},
   "outputs": [],
   "source": []
  }
 ],
 "metadata": {
  "kernelspec": {
   "display_name": "Python 3 (ipykernel)",
   "language": "python",
   "name": "python3"
  },
  "language_info": {
   "codemirror_mode": {
    "name": "ipython",
    "version": 3
   },
   "file_extension": ".py",
   "mimetype": "text/x-python",
   "name": "python",
   "nbconvert_exporter": "python",
   "pygments_lexer": "ipython3",
   "version": "3.12.2"
  }
 },
 "nbformat": 4,
 "nbformat_minor": 5
}
