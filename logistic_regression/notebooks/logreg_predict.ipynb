{
 "cells": [
  {
   "cell_type": "markdown",
   "id": "3addca4e-d45d-42f3-b389-418ddedffd4c",
   "metadata": {},
   "source": [
    "# Predicción con los datos de test"
   ]
  },
  {
   "cell_type": "markdown",
   "id": "cd7b5e04-5b9b-4a35-994d-c2a46450c69c",
   "metadata": {},
   "source": [
    "### Leemos el DataSet de entrenamiento normalizado"
   ]
  },
  {
   "cell_type": "code",
   "execution_count": 1,
   "id": "2f06af61-268b-4f12-96ae-8ecb1edf1004",
   "metadata": {},
   "outputs": [],
   "source": [
    "import pandas as pd\n",
    "import numpy as np\n",
    "import json\n",
    "import sys\n",
    "sys.path.append('..')  # Añade el directorio padre (logistic_regression) al path\n",
    "from src.ft_functions import predict"
   ]
  },
  {
   "cell_type": "markdown",
   "id": "9ce48503-0992-47fe-ae3b-ba29e6dc83ec",
   "metadata": {},
   "source": [
    "## Cargar datos de test normalizados"
   ]
  },
  {
   "cell_type": "code",
   "execution_count": 2,
   "id": "730283be-60e8-41dc-a255-1cc659f3e6bd",
   "metadata": {},
   "outputs": [],
   "source": [
    "# Ahora solo necesitamos el Dataset de test\n",
    "df_test = pd.read_csv('../datasets/normal_test.csv')"
   ]
  },
  {
   "cell_type": "markdown",
   "id": "ae2ba0ff-52cc-46f2-b687-decb874c4999",
   "metadata": {},
   "source": [
    "## Preparar los datos de test\n",
    "Preparar X_test seleccionando solo las columnas usadas en entrenamiento y añadiendo el término de sesgo.\n",
    "\n",
    "Necesitaremos preparar los datos en el formato correcto para hacer las predicciones:"
   ]
  },
  {
   "cell_type": "code",
   "execution_count": 3,
   "id": "c272946f-5bd4-48b4-a119-4000329212ac",
   "metadata": {},
   "outputs": [
    {
     "name": "stdout",
     "output_type": "stream",
     "text": [
      "\n",
      "Forma de X_test: (400, 8)\n"
     ]
    }
   ],
   "source": [
    "# Preparar X_test (agregar columna de 1's para el término de sesgo)\n",
    "X_test = df_test[['Best Hand', 'Age', 'Herbology', 'Defense Against the Dark Arts',\n",
    "                  'Potions', 'Charms', 'Flying']]\n",
    "X_test = np.c_[np.ones(len(X_test)), X_test]\n",
    "X_test = np.array(X_test)\n",
    "\n",
    "print(\"\\nForma de X_test:\", X_test.shape)"
   ]
  },
  {
   "cell_type": "markdown",
   "id": "7c442e03-e704-46e8-9945-3552bc90607b",
   "metadata": {},
   "source": [
    "## Recuperar los pesos óptimos\n",
    "Ahora podemos usar la función predict que ya teníamos y los pesos óptimos (W_optimal) para hacer las predicciones."
   ]
  },
  {
   "cell_type": "code",
   "execution_count": 4,
   "id": "2993151e-cc2e-4190-b442-d0c251e72321",
   "metadata": {},
   "outputs": [
    {
     "name": "stdout",
     "output_type": "stream",
     "text": [
      "Forma de la matriz de pesos: (8, 4)\n"
     ]
    }
   ],
   "source": [
    "# Cargar los pesos desde el archivo JSON\n",
    "with open('../output/model_weights.json', 'r') as file:\n",
    "    W_optimal = np.array(json.load(file))\n",
    "\n",
    "print(\"Forma de la matriz de pesos:\", W_optimal.shape)"
   ]
  },
  {
   "cell_type": "markdown",
   "id": "8e93dcb8-961f-427b-839b-0c32ed4f7caf",
   "metadata": {
    "id": "QoZLQA-FYiBv"
   },
   "source": [
    "## Predicciones usando los pesos óptimos\n",
    "Ahora podemos usar la función predict que ya teníamos y los pesos óptimos (W_optimal) para hacer las predicciones."
   ]
  },
  {
   "cell_type": "code",
   "execution_count": 5,
   "id": "9ff643f8-26b5-47a8-8550-b03cec36f133",
   "metadata": {
    "colab": {
     "base_uri": "https://localhost:8080/"
    },
    "id": "5Mm3pyuwYzLb",
    "outputId": "6d7c8795-d5db-4304-9777-be91efc63f3d"
   },
   "outputs": [
    {
     "name": "stdout",
     "output_type": "stream",
     "text": [
      "\n",
      "Primeras 5 predicciones:\n",
      "Estudiante 1:\n",
      "Casa predicha: Hufflepuff\n",
      "Probabilidades: Gryffindor: 0.007, Hufflepuff: 0.985, Ravenclaw: 0.007, Slytherin: 0.001\n",
      "\n",
      "Estudiante 2:\n",
      "Casa predicha: Ravenclaw\n",
      "Probabilidades: Gryffindor: 0.012, Hufflepuff: 0.013, Ravenclaw: 0.938, Slytherin: 0.037\n",
      "\n",
      "Estudiante 3:\n",
      "Casa predicha: Gryffindor\n",
      "Probabilidades: Gryffindor: 0.997, Hufflepuff: 0.001, Ravenclaw: 0.001, Slytherin: 0.002\n",
      "\n",
      "Estudiante 4:\n",
      "Casa predicha: Hufflepuff\n",
      "Probabilidades: Gryffindor: 0.007, Hufflepuff: 0.966, Ravenclaw: 0.022, Slytherin: 0.005\n",
      "\n",
      "Estudiante 5:\n",
      "Casa predicha: Hufflepuff\n",
      "Probabilidades: Gryffindor: 0.025, Hufflepuff: 0.931, Ravenclaw: 0.033, Slytherin: 0.010\n",
      "\n"
     ]
    }
   ],
   "source": [
    "# Hacer predicciones usando los pesos óptimos del entrenamiento\n",
    "probabilities = predict(X_test, W_optimal)\n",
    "\n",
    "# Obtener la clase predicha (la casa con mayor probabilidad)\n",
    "predicted_houses = np.argmax(probabilities, axis=1)\n",
    "\n",
    "# Convertir los índices a nombres de casas\n",
    "house_names = ['Gryffindor', 'Hufflepuff', 'Ravenclaw', 'Slytherin']\n",
    "predictions = [house_names[idx] for idx in predicted_houses]\n",
    "\n",
    "# Mostrar algunas predicciones\n",
    "print(\"\\nPrimeras 5 predicciones:\")\n",
    "for i in range(5):\n",
    "    print(f\"Estudiante {i+1}:\")\n",
    "    print(f\"Casa predicha: {predictions[i]}\")\n",
    "    print(f\"Probabilidades: Gryffindor: {probabilities[i][0]:.3f}, Hufflepuff: {probabilities[i][1]:.3f}, \"\n",
    "          f\"Ravenclaw: {probabilities[i][2]:.3f}, Slytherin: {probabilities[i][3]:.3f}\\n\")"
   ]
  },
  {
   "cell_type": "markdown",
   "id": "0591a216-7635-4172-ba2a-b8270676bdd6",
   "metadata": {},
   "source": [
    "## Crear archivo `houses.csv` con las predicciones"
   ]
  },
  {
   "cell_type": "code",
   "execution_count": 6,
   "id": "8c8c4a77-75ab-448a-8a64-e1116c97aed7",
   "metadata": {
    "colab": {
     "base_uri": "https://localhost:8080/"
    },
    "id": "gEvjrLv4aj5Z",
    "outputId": "2ed9c0d7-c106-42d1-e522-26fc590468f9"
   },
   "outputs": [],
   "source": [
    "# Crear y guardar el archivo houses.csv\n",
    "predictions_df = pd.DataFrame({\n",
    "    'Index': range(len(predictions)),\n",
    "    'Hogwarts House': predictions\n",
    "})\n",
    "predictions_df.to_csv('../output/houses.csv', index=False)"
   ]
  },
  {
   "cell_type": "markdown",
   "id": "3948c13c-9ef2-4fef-9a7e-3f7876c95115",
   "metadata": {},
   "source": [
    "### Mostrar algunas predicciones"
   ]
  },
  {
   "cell_type": "code",
   "execution_count": 7,
   "id": "acead07d-c423-4765-898b-ccc65d351df4",
   "metadata": {},
   "outputs": [
    {
     "name": "stdout",
     "output_type": "stream",
     "text": [
      "\n",
      "Primeras predicciones:\n",
      "\n",
      "   Index Hogwarts House\n",
      "0      0     Hufflepuff\n",
      "1      1      Ravenclaw\n",
      "2      2     Gryffindor\n",
      "3      3     Hufflepuff\n",
      "4      4     Hufflepuff\n",
      "5      5      Slytherin\n",
      "\n",
      "Primeras líneas del archivo houses.csv\n",
      "\n",
      "Index,Hogwarts House\n",
      "0,Hufflepuff\n",
      "1,Ravenclaw\n",
      "2,Gryffindor\n",
      "3,Hufflepuff\n",
      "4,Hufflepuff\n",
      "5,Slytherin\n"
     ]
    }
   ],
   "source": [
    "# Verificar algunas predicciones\n",
    "print(\"\\nPrimeras predicciones:\\n\")\n",
    "print(predictions_df.head(6))\n",
    "\n",
    "# Verificar el formato del archivo creado\n",
    "print(\"\\nPrimeras líneas del archivo houses.csv\\n\")\n",
    "with open('../output/houses.csv', 'r') as file:\n",
    "    for i, line in enumerate(file):\n",
    "        if i < 7:\n",
    "            print(line.strip())  # strip() elimina los saltos de línea extra"
   ]
  }
 ],
 "metadata": {
  "kernelspec": {
   "display_name": "Python 3 (ipykernel)",
   "language": "python",
   "name": "python3"
  },
  "language_info": {
   "codemirror_mode": {
    "name": "ipython",
    "version": 3
   },
   "file_extension": ".py",
   "mimetype": "text/x-python",
   "name": "python",
   "nbconvert_exporter": "python",
   "pygments_lexer": "ipython3",
   "version": "3.13.1"
  }
 },
 "nbformat": 4,
 "nbformat_minor": 5
}
