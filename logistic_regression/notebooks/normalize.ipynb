{
 "cells": [
  {
   "cell_type": "markdown",
   "id": "48ecf608-b0ca-4ea6-8356-2905d17d7b24",
   "metadata": {},
   "source": [
    "# Normalize DataFrames\n",
    "Vamos a normalizar tanto los datos de entrenamiento 'train' como los de 'test'.\n",
    "\n",
    "| | original data | normalized data |\n",
    "|-------------------|---------------|-----------------|\n",
    "| training data | dataset_train.csv | normal_train.csv |\n",
    "| test data | dataset_test.csv | normal_test.csv \n",
    "\n",
    "Diferencias entre los datos de entrenamiento y de test originales:\n",
    "- Los datos de entrenamiento tienen 1600 registros y los de test 400 registros\n",
    "- Los datos de test tienen vacía la columna 'Hogwarts House' que es la columa objetivo de la clasificación.\n",
    "\n",
    "Trabajaremos con una versión reducida (lite5) que contiene:\n",
    "- Las características base (Best Hand, Age)\n",
    "- 5 asignaturas principales: Herbology, Defense Against the Dark Arts, Potions, Charms, y Flying\n",
    "- para los datos de entrenamiento también se incluyen las variables dummy de Hogwarts House "
   ]
  },
  {
   "cell_type": "code",
   "execution_count": 1,
   "id": "fb4bdbb1-af72-403b-af05-8c7009d5a50c",
   "metadata": {},
   "outputs": [],
   "source": [
    "# Importación de librerías necesarias\n",
    "import pandas as pd\n",
    "import numpy as np\n",
    "from datetime import datetime\n",
    "\n",
    "# Definición de las características que vamos a mantener\n",
    "BASE_FEATURES = ['Best Hand', 'Age']\n",
    "LITE5_COURSES = ['Herbology', 'Defense Against the Dark Arts',\n",
    "                 'Potions', 'Charms', 'Flying'\n",
    "]"
   ]
  },
  {
   "cell_type": "markdown",
   "id": "4724a530-c934-40b8-8b61-db270bb11635",
   "metadata": {},
   "source": [
    "## Lectura y preparación inicial de los datos\n",
    "\n",
    "Leemos los datasets originales y calculamos la edad a partir de la columna Birthday."
   ]
  },
  {
   "cell_type": "code",
   "execution_count": 2,
   "id": "8cbaec35-8a2a-45f3-9b8c-09e1c86341c3",
   "metadata": {},
   "outputs": [],
   "source": [
    "# Lectura de los datasets\n",
    "file_train = '../datasets/dataset_train.csv'\n",
    "file_test = '../datasets/dataset_test.csv'\n",
    "\n",
    "df_train = pd.read_csv(file_train, index_col=0)\n",
    "df_test = pd.read_csv(file_test, index_col=0)"
   ]
  },
  {
   "cell_type": "markdown",
   "id": "9c525d93-c547-41d7-a810-0638c64d3eb4",
   "metadata": {},
   "source": [
    "### Cálculo de la edad"
   ]
  },
  {
   "cell_type": "code",
   "execution_count": 3,
   "id": "32090f63-1a97-459c-87f0-bf0d2d648aea",
   "metadata": {},
   "outputs": [],
   "source": [
    "# Convertimos Birthday a datetime y calculamos Age para ambos datasets\n",
    "def calculate_age(df):\n",
    "    df['Birthday'] = pd.to_datetime(df['Birthday'])\n",
    "    reference_date = df['Birthday'].max()\n",
    "    df['Age'] = (reference_date - df['Birthday']).dt.days / 365.25\n",
    "    return df\n",
    "\n",
    "df_train = calculate_age(df_train)\n",
    "df_test = calculate_age(df_test)\n",
    "\n",
    "# Eliminamos las columnas que no necesitamos\n",
    "columns_to_drop = ['First Name', 'Last Name', 'Birthday']\n",
    "df_train = df_train.drop(columns=columns_to_drop)\n",
    "df_test = df_test.drop(columns=columns_to_drop)"
   ]
  },
  {
   "cell_type": "markdown",
   "id": "7e0b9649-7f17-4041-bf56-77a1787a7f12",
   "metadata": {},
   "source": [
    "### Convertimos 'Best Hand' a valores numéricos"
   ]
  },
  {
   "cell_type": "code",
   "execution_count": 4,
   "id": "7fd4ab33-82bc-45f9-aeb0-d395774c5279",
   "metadata": {},
   "outputs": [
    {
     "name": "stdout",
     "output_type": "stream",
     "text": [
      "Valores únicos en Best Hand (train): [0. 1.]\n",
      "Valores únicos en Best Hand (test): [1. 0.]\n"
     ]
    }
   ],
   "source": [
    "# Convertimos Best Hand a valores numéricos en ambos datasets\n",
    "hand_mapping = {'Left': 0, 'Right': 1}\n",
    "df_train['Best Hand'] = df_train['Best Hand'].map(hand_mapping)\n",
    "df_test['Best Hand'] = df_test['Best Hand'].map(hand_mapping)\n",
    "\n",
    "# Convertimos Best Hand a float en ambos datasets\n",
    "df_train['Best Hand'] = df_train['Best Hand'].astype(float)\n",
    "df_test['Best Hand'] = df_test['Best Hand'].astype(float)\n",
    "\n",
    "# Verificamos la conversión\n",
    "print(\"Valores únicos en Best Hand (train):\", df_train['Best Hand'].unique())\n",
    "print(\"Valores únicos en Best Hand (test):\", df_test['Best Hand'].unique())"
   ]
  },
  {
   "cell_type": "markdown",
   "id": "2218d158-7761-4814-960f-63bf1d3c8116",
   "metadata": {},
   "source": [
    "## Tratamiento específico para los datos de entrenamiento\n",
    "\n",
    "Para los datos de entrenamiento necesitamos hacer one-hot encoding de la columna 'Hogwarts House'."
   ]
  },
  {
   "cell_type": "code",
   "execution_count": 5,
   "id": "4fa9bc42-481f-4844-b7b3-bf5b8d67bd3f",
   "metadata": {},
   "outputs": [],
   "source": [
    "# One-hot encoding solo para los datos de entrenamiento\n",
    "df_train = pd.get_dummies(df_train, columns=['Hogwarts House'], prefix='House', dtype=float)"
   ]
  },
  {
   "cell_type": "code",
   "execution_count": 6,
   "id": "10ee655a-6cc3-4e65-a165-45f222dfbef0",
   "metadata": {},
   "outputs": [],
   "source": [
    "# Actualizamos BASE_FEATURES para incluir las columnas dummy de House\n",
    "HOUSE_FEATURES = ['House_Gryffindor', 'House_Hufflepuff', 'House_Ravenclaw', 'House_Slytherin']\n",
    "BASE_FEATURES = BASE_FEATURES + HOUSE_FEATURES"
   ]
  },
  {
   "cell_type": "markdown",
   "id": "3e7294ce-e660-4e68-b239-d250fc57ba4f",
   "metadata": {},
   "source": [
    "## Selección de características y normalización\n",
    "\n",
    "Seleccionamos solo las características de lite5 y normalizamos las columnas numéricas."
   ]
  },
  {
   "cell_type": "code",
   "execution_count": 7,
   "id": "1011b99e-1e64-4f2b-83d8-1d057bab9e37",
   "metadata": {},
   "outputs": [],
   "source": [
    "# Seleccionamos las columnas que queremos mantener\n",
    "df_train = df_train[LITE5_COURSES + BASE_FEATURES]\n",
    "df_test = df_test[LITE5_COURSES + ['Best Hand', 'Age']]  # Note que no incluimos HOUSE_FEATURES para test"
   ]
  },
  {
   "cell_type": "markdown",
   "id": "903ee0dc-880c-42fe-91da-d73a70fae1a2",
   "metadata": {},
   "source": [
    "### Eliminación de las filas con datos faltantes\n",
    "Se eliminan solo las filas de las características con las que se trabaja."
   ]
  },
  {
   "cell_type": "code",
   "execution_count": 8,
   "id": "8e14bfb8-0d1e-4989-b981-96df2dde16b4",
   "metadata": {},
   "outputs": [
    {
     "name": "stdout",
     "output_type": "stream",
     "text": [
      "El DataFrame train ha pasado de 1600 filas a 1508 filas. Se han eliminado 92 registros con datos faltantes.\n",
      "El DataFrame test ha pasado de 400 filas a 372 filas. Se han eliminado 28 registros con datos faltantes.\n"
     ]
    }
   ],
   "source": [
    "# Filas de los DataFrame previos a la eliminación de filas faltantes\n",
    "n_train = len(df_train)\n",
    "n_test = len(df_test)\n",
    "\n",
    "df_train = df_train.dropna()\n",
    "df_test = df_test.dropna()\n",
    "\n",
    "print(f\"El DataFrame train ha pasado de {n_train} filas a {len(df_train)} filas. Se han eliminado {n_train - len(df_train)} registros con datos faltantes.\")\n",
    "print(f\"El DataFrame test ha pasado de {n_test} filas a {len(df_test)} filas. Se han eliminado {n_test - len(df_test)} registros con datos faltantes.\")"
   ]
  },
  {
   "cell_type": "markdown",
   "id": "cee5b5fb-0a2f-4945-b645-6d66c0940351",
   "metadata": {},
   "source": [
    "### Función de Normalización"
   ]
  },
  {
   "cell_type": "code",
   "execution_count": 9,
   "id": "d98e1653-ed73-4247-9377-6b2dd66bf85d",
   "metadata": {},
   "outputs": [],
   "source": [
    "# Función de normalización\n",
    "def normalize(column):\n",
    "    mean = column.mean()\n",
    "    std = column.std()\n",
    "    return (column - mean) / std"
   ]
  },
  {
   "cell_type": "markdown",
   "id": "ac437e45-df6b-4bd6-9bbd-8e362bd48946",
   "metadata": {},
   "source": [
    "### Aplicación de la Normalización a ambos DataFrames"
   ]
  },
  {
   "cell_type": "code",
   "execution_count": 10,
   "id": "7764137c-2eda-4937-860b-bb7742c3e61d",
   "metadata": {},
   "outputs": [
    {
     "name": "stdout",
     "output_type": "stream",
     "text": [
      "Columnas normalizadas en train:\n",
      " ['Herbology', 'Defense Against the Dark Arts', 'Potions', 'Charms', 'Flying', 'Best Hand', 'Age', 'House_Gryffindor', 'House_Hufflepuff', 'House_Ravenclaw', 'House_Slytherin']\n",
      "\n",
      "Columnas normalizadas en test:\n",
      " ['Herbology', 'Defense Against the Dark Arts', 'Potions', 'Charms', 'Flying', 'Best Hand', 'Age']\n"
     ]
    }
   ],
   "source": [
    "# Para el dataset de entrenamiento\n",
    "train_columns_to_normalize = df_train.select_dtypes(include=['float64']).columns.tolist()\n",
    "df_train[train_columns_to_normalize] = df_train[train_columns_to_normalize].apply(normalize)\n",
    "\n",
    "# Para el dataset de test (que no incluye las columnas de House)\n",
    "test_columns_to_normalize = df_test.select_dtypes(include=['float64']).columns.tolist()\n",
    "df_test[test_columns_to_normalize] = df_test[test_columns_to_normalize].apply(normalize)\n",
    "\n",
    "# Verificamos las columnas normalizadas\n",
    "print(\"Columnas normalizadas en train:\\n\", train_columns_to_normalize)\n",
    "print(\"\\nColumnas normalizadas en test:\\n\", test_columns_to_normalize)"
   ]
  },
  {
   "cell_type": "code",
   "execution_count": 11,
   "id": "3b3dc758-e268-44e6-89e2-ffd49a261898",
   "metadata": {},
   "outputs": [
    {
     "name": "stdout",
     "output_type": "stream",
     "text": [
      "Dimensiones del dataset de entrenamiento: (1508, 11)\n",
      "Dimensiones del dataset de test: (372, 7)\n",
      "\n",
      "Columnas en el dataset de entrenamiento: ['Herbology', 'Defense Against the Dark Arts', 'Potions', 'Charms', 'Flying', 'Best Hand', 'Age', 'House_Gryffindor', 'House_Hufflepuff', 'House_Ravenclaw', 'House_Slytherin']\n",
      "\n",
      "Columnas en el dataset de test: ['Herbology', 'Defense Against the Dark Arts', 'Potions', 'Charms', 'Flying', 'Best Hand', 'Age']\n"
     ]
    }
   ],
   "source": [
    "# Guardado de los datasets normalizados\n",
    "df_train.to_csv('../datasets/normal_train.csv')\n",
    "df_test.to_csv('../datasets/normal_test.csv')\n",
    "\n",
    "print(\"Dimensiones del dataset de entrenamiento:\", df_train.shape)\n",
    "print(\"Dimensiones del dataset de test:\", df_test.shape)\n",
    "print(\"\\nColumnas en el dataset de entrenamiento:\", df_train.columns.tolist())\n",
    "print(\"\\nColumnas en el dataset de test:\", df_test.columns.tolist())"
   ]
  },
  {
   "cell_type": "code",
   "execution_count": null,
   "id": "23d28a21-a782-45a9-8ec4-712a405b10f0",
   "metadata": {},
   "outputs": [],
   "source": []
  }
 ],
 "metadata": {
  "kernelspec": {
   "display_name": "Python 3 (ipykernel)",
   "language": "python",
   "name": "python3"
  },
  "language_info": {
   "codemirror_mode": {
    "name": "ipython",
    "version": 3
   },
   "file_extension": ".py",
   "mimetype": "text/x-python",
   "name": "python",
   "nbconvert_exporter": "python",
   "pygments_lexer": "ipython3",
   "version": "3.12.2"
  }
 },
 "nbformat": 4,
 "nbformat_minor": 5
}
