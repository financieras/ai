{
 "cells": [
  {
   "cell_type": "markdown",
   "id": "af0a4dfd-335e-47a8-93b8-c86ce2167006",
   "metadata": {},
   "source": [
    "# Imputación de datos faltantes\n",
    "Vamos a completar datos faltantes en ambos Datasets.\n",
    "1. Dataset: dataset_train.csv\n",
    "   - Contiene 1600 registros que vamos a completar parcialmente\n",
    "   - Dividiendo los datos de 'Defense Against the Dark Arts' entre -100 se obtienen los datos de 'Astronomy', debido a su correlación perfecta.\n",
    "   - Esto nos permitirá recuperar la mayoría de los datos faltantes en 'Defense Against the Dark Arts'.\n",
    "   - El resto de datos faltantes no intentaremos recuperarlos y esos registros se eliminaran antes de entrar en la fase de entrenamiento.\n",
    "3. Dataset: dataset_test.csv\n",
    "   - Contiene 400 registros, vamos a completar todos los datos faltantes de las features elegidas.\n",
    "   - La columna de 'Defense Against the Dark Arts' se completa aprovechando su correlación perfecta con 'Astronomy'.\n",
    "   - El resto de datos faltantes se estimarán usando el algoritmo k-nearest neighbors (KNN), k vecinos más cercanos."
   ]
  },
  {
   "cell_type": "code",
   "execution_count": 2,
   "id": "0473386c-5b3e-407d-a853-cb1ae6178110",
   "metadata": {},
   "outputs": [],
   "source": [
    "import pandas as pd\n",
    "\n",
    "# Establecemos la ruta y leemos el archivo convirtiéndolo en un DataFrame\n",
    "file_train = '../datasets/dataset_train.csv'\n",
    "df_train = pd.read_csv(file_train, index_col=0)\n",
    "\n",
    "# Análogamente para los datos de test\n",
    "file_test = '../datasets/dataset_test.csv'\n",
    "df_test = pd.read_csv(file_test, index_col=0)"
   ]
  },
  {
   "cell_type": "markdown",
   "id": "905b47f8-ba46-4430-a1e6-26ac016b0f3d",
   "metadata": {},
   "source": [
    "## Imputación de datos faltantes usando 'Astronomy'\n",
    "Usamos la correlación perfecta r=-1 entre 'Astronomy' y 'Defense Against the Dark Arts' para realizar la imputación de los datos faltantes que se puedan imputar de 'Defense Against the Dark Arts' aprovechando esta característica.\n",
    "\n",
    "Lo único que hay que hacer es tomar el dato de 'Astronomy' y multiplicar por -0.01 para lograr conseguir el dato faltante de  'Defense Against the Dark Arts'."
   ]
  },
  {
   "cell_type": "code",
   "execution_count": 3,
   "id": "35e7d150-2ab1-4496-a716-6233496c8202",
   "metadata": {},
   "outputs": [
    {
     "name": "stdout",
     "output_type": "stream",
     "text": [
      "============= Para el DataFrame train =============\n",
      "Valores no nulos en Defense Against the Dark Arts:\n",
      "Antes de imputación: 1569/1600\n",
      "Después de imputación: 1600/1600\n",
      "\n",
      "Hemos recuperado 31 filas.\n",
      "\n",
      "============= Para el DataFrame test =============\n",
      "Valores no nulos en Defense Against the Dark Arts:\n",
      "Antes de imputación: 392/400\n",
      "Después de imputación: 399/400\n",
      "\n",
      "Hemos recuperado 7 filas.\n"
     ]
    }
   ],
   "source": [
    "# Imputar 'Defense Against the Dark Arts' usando 'Astronomy'\n",
    "\n",
    "def data_imputation_perfect_correlation(df):\n",
    "    # Calcular las filas totales\n",
    "    total = len(df)\n",
    "    \n",
    "    # Calcular las filas con datos no nulos antes de la imputación\n",
    "    n1 = df['Defense Against the Dark Arts'].count()\n",
    "    \n",
    "    # Crear máscara para identificar:\n",
    "    # 1. Valores nulos en Defense Against the Dark Arts\n",
    "    # 2. Valores no nulos en Astronomy\n",
    "    mask = (df['Defense Against the Dark Arts'].isna() & \n",
    "            df['Astronomy'].notna())\n",
    "    \n",
    "    # Imputar los valores usando la relación perfecta (Astronomy * -0.01)\n",
    "    df.loc[mask, 'Defense Against the Dark Arts'] = df.loc[mask, 'Astronomy'] * -0.01\n",
    "    \n",
    "    # Calcular las filas con datos no nulos después de la imputación\n",
    "    n2 = df['Defense Against the Dark Arts'].count()\n",
    "    \n",
    "    # Verificar el resultado\n",
    "    print(\"Valores no nulos en Defense Against the Dark Arts:\")\n",
    "    print(f\"Antes de imputación: {n1}/{total}\")\n",
    "    print(f\"Después de imputación: {n2}/{total}\")\n",
    "    \n",
    "    print(f\"\\nHemos recuperado {n2-n1} filas.\")\n",
    "\n",
    "# Aplicación a los dos DataFrame\n",
    "print(f\"{'='*13} Para el DataFrame train {'='*13}\")\n",
    "data_imputation_perfect_correlation(df_train)\n",
    "print()\n",
    "print(\"=\"*13, \"Para el DataFrame test\", \"=\"*13)\n",
    "data_imputation_perfect_correlation(df_test)"
   ]
  },
  {
   "cell_type": "code",
   "execution_count": 4,
   "id": "1cfce682-d2f8-4f35-aaf1-8ae9961c09f1",
   "metadata": {},
   "outputs": [
    {
     "name": "stdout",
     "output_type": "stream",
     "text": [
      "<class 'pandas.core.frame.DataFrame'>\n",
      "Index: 1600 entries, 0 to 1599\n",
      "Data columns (total 18 columns):\n",
      " #   Column                         Non-Null Count  Dtype  \n",
      "---  ------                         --------------  -----  \n",
      " 0   Hogwarts House                 1600 non-null   object \n",
      " 1   First Name                     1600 non-null   object \n",
      " 2   Last Name                      1600 non-null   object \n",
      " 3   Birthday                       1600 non-null   object \n",
      " 4   Best Hand                      1600 non-null   object \n",
      " 5   Arithmancy                     1566 non-null   float64\n",
      " 6   Astronomy                      1568 non-null   float64\n",
      " 7   Herbology                      1567 non-null   float64\n",
      " 8   Defense Against the Dark Arts  1600 non-null   float64\n",
      " 9   Divination                     1561 non-null   float64\n",
      " 10  Muggle Studies                 1565 non-null   float64\n",
      " 11  Ancient Runes                  1565 non-null   float64\n",
      " 12  History of Magic               1557 non-null   float64\n",
      " 13  Transfiguration                1566 non-null   float64\n",
      " 14  Potions                        1570 non-null   float64\n",
      " 15  Care of Magical Creatures      1560 non-null   float64\n",
      " 16  Charms                         1600 non-null   float64\n",
      " 17  Flying                         1600 non-null   float64\n",
      "dtypes: float64(13), object(5)\n",
      "memory usage: 237.5+ KB\n"
     ]
    }
   ],
   "source": [
    "df_train.info()"
   ]
  },
  {
   "cell_type": "code",
   "execution_count": 5,
   "id": "ddb5134a-f95d-45c8-8f7b-67d5be9c3abb",
   "metadata": {},
   "outputs": [
    {
     "name": "stdout",
     "output_type": "stream",
     "text": [
      "<class 'pandas.core.frame.DataFrame'>\n",
      "Index: 400 entries, 0 to 399\n",
      "Data columns (total 18 columns):\n",
      " #   Column                         Non-Null Count  Dtype  \n",
      "---  ------                         --------------  -----  \n",
      " 0   Hogwarts House                 0 non-null      float64\n",
      " 1   First Name                     400 non-null    object \n",
      " 2   Last Name                      400 non-null    object \n",
      " 3   Birthday                       400 non-null    object \n",
      " 4   Best Hand                      400 non-null    object \n",
      " 5   Arithmancy                     387 non-null    float64\n",
      " 6   Astronomy                      387 non-null    float64\n",
      " 7   Herbology                      389 non-null    float64\n",
      " 8   Defense Against the Dark Arts  399 non-null    float64\n",
      " 9   Divination                     394 non-null    float64\n",
      " 10  Muggle Studies                 390 non-null    float64\n",
      " 11  Ancient Runes                  392 non-null    float64\n",
      " 12  History of Magic               389 non-null    float64\n",
      " 13  Transfiguration                389 non-null    float64\n",
      " 14  Potions                        390 non-null    float64\n",
      " 15  Care of Magical Creatures      392 non-null    float64\n",
      " 16  Charms                         400 non-null    float64\n",
      " 17  Flying                         400 non-null    float64\n",
      "dtypes: float64(14), object(4)\n",
      "memory usage: 59.4+ KB\n"
     ]
    }
   ],
   "source": [
    "df_test.info()"
   ]
  },
  {
   "cell_type": "markdown",
   "id": "0e9b9785-afb7-417d-b136-8e466b34f787",
   "metadata": {},
   "source": [
    "## Eliminación de 'Astronomy'"
   ]
  },
  {
   "cell_type": "code",
   "execution_count": 6,
   "id": "7280b4c1-efe9-44c9-854b-766c7ddf3f6c",
   "metadata": {},
   "outputs": [],
   "source": [
    "# Eliminar la columna 'Astronomy' después de usarla para la imputación\n",
    "df_train = df_train.drop('Astronomy', axis=1)\n",
    "df_test = df_test.drop('Astronomy', axis=1)"
   ]
  },
  {
   "cell_type": "markdown",
   "id": "b2a78a63-fb04-413b-be16-9cda0bf18dcf",
   "metadata": {},
   "source": [
    "## Imputación de los datos de 'test' con el algoritmo de los k-vecinos más próximos (KNN)\n",
    "Imputación de datos faltantes con KNN usando solo filas completas"
   ]
  },
  {
   "cell_type": "markdown",
   "id": "5bae1850-8947-41d7-982c-2abc7e40572b",
   "metadata": {},
   "source": [
    "### 1. Preparación de los datos"
   ]
  },
  {
   "cell_type": "code",
   "execution_count": null,
   "id": "32ec2139-fd9a-4143-ad90-f545101bf6ad",
   "metadata": {},
   "outputs": [],
   "source": []
  }
 ],
 "metadata": {
  "kernelspec": {
   "display_name": "Python 3 (ipykernel)",
   "language": "python",
   "name": "python3"
  },
  "language_info": {
   "codemirror_mode": {
    "name": "ipython",
    "version": 3
   },
   "file_extension": ".py",
   "mimetype": "text/x-python",
   "name": "python",
   "nbconvert_exporter": "python",
   "pygments_lexer": "ipython3",
   "version": "3.12.2"
  }
 },
 "nbformat": 4,
 "nbformat_minor": 5
}
