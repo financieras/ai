{
 "cells": [
  {
   "cell_type": "markdown",
   "id": "af0a4dfd-335e-47a8-93b8-c86ce2167006",
   "metadata": {},
   "source": [
    "# Imputación de datos faltantes\n",
    "Vamos a completar datos faltantes en ambos Datasets.\n",
    "1. Dataset: dataset_train.csv\n",
    "   - Contiene 1600 registros que vamos a completar parcialmente\n",
    "   - Dividiendo los datos de 'Defense Against the Dark Arts' entre -100 se obtienen los datos de 'Astronomy', debido a su correlación perfecta.\n",
    "   - Esto nos permitirá recuperar la mayoría de los datos faltantes en 'Defense Against the Dark Arts'.\n",
    "   - El resto de datos faltantes no intentaremos recuperarlos y esos registros se eliminaran antes de entrar en la fase de entrenamiento.\n",
    "3. Dataset: dataset_test.csv\n",
    "   - Contiene 400 registros, vamos a completar todos los datos faltantes de las features elegidas.\n",
    "   - La columna de 'Defense Against the Dark Arts' se completa aprovechando su correlación perfecta con 'Astronomy'.\n",
    "   - El resto de datos faltantes se estimarán usando el algoritmo k-nearest neighbors (KNN), k vecinos más cercanos."
   ]
  },
  {
   "cell_type": "code",
   "execution_count": null,
   "id": "0473386c-5b3e-407d-a853-cb1ae6178110",
   "metadata": {},
   "outputs": [],
   "source": []
  }
 ],
 "metadata": {
  "kernelspec": {
   "display_name": "Python 3 (ipykernel)",
   "language": "python",
   "name": "python3"
  },
  "language_info": {
   "codemirror_mode": {
    "name": "ipython",
    "version": 3
   },
   "file_extension": ".py",
   "mimetype": "text/x-python",
   "name": "python",
   "nbconvert_exporter": "python",
   "pygments_lexer": "ipython3",
   "version": "3.12.2"
  }
 },
 "nbformat": 4,
 "nbformat_minor": 5
}
