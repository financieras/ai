{
 "cells": [
  {
   "cell_type": "code",
   "execution_count": 1,
   "id": "d518687c-769b-43b6-85f0-6ae99daab448",
   "metadata": {},
   "outputs": [],
   "source": [
    "import pandas as pd\n",
    "import matplotlib.pyplot as plt\n",
    "import seaborn as sns"
   ]
  },
  {
   "cell_type": "markdown",
   "id": "e559e870-5ae3-48b1-bdcf-a80de9496d53",
   "metadata": {},
   "source": [
    "Generates and saves a histogram visualization comparing score distributions across Hogwarts houses\n",
    "for each course. The visualization helps identify which courses have homogeneous or heterogeneous\n",
    "distributions among houses.\n",
    "\n",
    "The function:\n",
    "- Reads preprocessed data from CSV\n",
    "- Creates a 4x3 subplot grid for 12 courses\n",
    "- Generates overlapping histograms for each house in each course\n",
    "- Uses different colors for each house\n",
    "- Saves the resulting visualization as a PNG file\n",
    "\n",
    "Analysis shows that:\n",
    "1. Care of Magical Creatures has the most homogeneous distribution\n",
    "2. Some courses like Potions show clear differences between houses\n",
    "3. Arithmancy shows slight variations but maintains general uniformity\n",
    "\n",
    "The output is saved as 'histogram.png' in the output folder."
   ]
  },
  {
   "cell_type": "code",
   "execution_count": 4,
   "id": "5e6058cd",
   "metadata": {},
   "outputs": [],
   "source": [
    "# Establecemos la ruta y leemos el archivo convirtiéndolo en un DataFrame\n",
    "file_train = '../datasets/dataset_train.csv'\n",
    "df_train = pd.read_csv(file_train, index_col=0)"
   ]
  },
  {
   "cell_type": "code",
   "execution_count": 5,
   "id": "2098d0b5",
   "metadata": {},
   "outputs": [
    {
     "data": {
      "text/plain": [
       "Index(['Arithmancy', 'Astronomy', 'Herbology', 'Defense Against the Dark Arts',\n",
       "       'Divination', 'Muggle Studies', 'Ancient Runes', 'History of Magic',\n",
       "       'Transfiguration', 'Potions', 'Care of Magical Creatures', 'Charms',\n",
       "       'Flying'],\n",
       "      dtype='object')"
      ]
     },
     "execution_count": 5,
     "metadata": {},
     "output_type": "execute_result"
    }
   ],
   "source": [
    "# Get list of course columns (excluding non-course columns)\n",
    "courses = df_train.select_dtypes(include=['float64']).columns\n",
    "courses"
   ]
  },
  {
   "cell_type": "code",
   "execution_count": 6,
   "id": "75e02a47",
   "metadata": {},
   "outputs": [
    {
     "data": {
      "text/plain": [
       "Index(['Arithmancy', 'Herbology', 'Defense Against the Dark Arts',\n",
       "       'Divination', 'Muggle Studies', 'Ancient Runes', 'History of Magic',\n",
       "       'Transfiguration', 'Potions', 'Care of Magical Creatures', 'Charms',\n",
       "       'Flying'],\n",
       "      dtype='object')"
      ]
     },
     "execution_count": 6,
     "metadata": {},
     "output_type": "execute_result"
    }
   ],
   "source": [
    "import json\n",
    "import sys\n",
    "sys.path.append('..')\n",
    "\n",
    "# Leer el archivo JSON\n",
    "with open('../output/colum_to_drop.json', 'r') as file:\n",
    "    data = json.load(file)\n",
    "    \n",
    "# Obtener la columna a eliminar\n",
    "column_to_drop = data['column_to_drop']\n",
    "\n",
    "# Eliminar la columna del Index\n",
    "courses = courses.drop(column_to_drop)\n",
    "courses"
   ]
  },
  {
   "cell_type": "code",
   "execution_count": null,
   "id": "adee599a-d4bb-4ba6-854c-782ace5325e6",
   "metadata": {},
   "outputs": [],
   "source": [
    "# Create a figure with subplots for each course\n",
    "fig = plt.figure(figsize=(20, 15))\n",
    "fig.suptitle('Distribution of Scores by House for Each Course', fontsize=16)\n",
    "\n",
    "# Create a subplot for each course\n",
    "for idx, course in enumerate(courses, 1):\n",
    "    plt.subplot(4, 3, idx)\n",
    "    \n",
    "    # Create histogram for current course\n",
    "    sns.histplot(data=df_train, x=course, hue='Hogwarts House', \n",
    "                bins=20, alpha=0.5, multiple=\"layer\")\n",
    "    \n",
    "    plt.title(course)\n",
    "    plt.xlabel('Score')\n",
    "    plt.ylabel('Count')\n",
    "    \n",
    "    # Rotate x-axis labels for better readability\n",
    "    plt.xticks(rotation=45)\n",
    "    \n",
    "    # Only show legend for the first subplot to avoid redundancy\n",
    "    if idx != 1:\n",
    "        plt.legend([],[], frameon=False)\n",
    "\n",
    "# Adjust layout to prevent overlap\n",
    "plt.tight_layout()\n",
    "\n",
    "# Save the plot\n",
    "plt.savefig('../output/histogram.png')\n",
    "plt.show()\n",
    "plt.close()\n",
    "\n",
    "print(\"\\nThe histogram graph has been saved in the 'output' folder.\")"
   ]
  },
  {
   "cell_type": "markdown",
   "id": "5cfff729",
   "metadata": {},
   "source": [
    "## Question: Which Hogwarts course has a homogeneous score distribution between all four houses?\n",
    "\n",
    "Answer to the question:\n",
    "\n",
    "We can discard bimodal histograms and focus on the following three options:\n",
    "\n",
    "1. **`Arithmancy`**\n",
    "- Shows considerably overlapped distribution\n",
    "- However, `Hufflepuff` (red) shows a slight tendency towards higher scores\n",
    "- `Ravenclaw` (blue) has slightly lower concentration at the central peak\n",
    "\n",
    "2. **`Potions`**\n",
    "- Although there is overlap, the distributions are quite dispersed\n",
    "- Clear differences can be seen between houses\n",
    "- `Slytherin` (green) tends to have higher scores\n",
    "- Distributions are wider and less uniform between houses\n",
    "\n",
    "3. **`Care of Magical Creatures`**\n",
    "- Shows the most uniform overlap of the three\n",
    "- Peaks for all houses are practically at the same point\n",
    "- Distribution shapes are very similar for all houses\n",
    "- Dispersion (distribution width) is very similar for all houses\n",
    "- It's difficult to distinguish significant differences between houses\n",
    "\n",
    "**Final Result**\n",
    "- The most uniform distribution is **`Care of Magical Creatures`**\n",
    "- This course shows the most balanced and similar distribution across all houses, with very similar scoring patterns regardless of student house affiliation"
   ]
  }
 ],
 "metadata": {
  "kernelspec": {
   "display_name": "Python 3 (ipykernel)",
   "language": "python",
   "name": "python3"
  },
  "language_info": {
   "codemirror_mode": {
    "name": "ipython",
    "version": 3
   },
   "file_extension": ".py",
   "mimetype": "text/x-python",
   "name": "python",
   "nbconvert_exporter": "python",
   "pygments_lexer": "ipython3",
   "version": "3.12.2"
  }
 },
 "nbformat": 4,
 "nbformat_minor": 5
}
