{
 "cells": [
  {
   "cell_type": "code",
   "execution_count": null,
   "id": "d518687c-769b-43b6-85f0-6ae99daab448",
   "metadata": {},
   "outputs": [],
   "source": [
    "import pandas as pd\n",
    "import matplotlib.pyplot as plt\n",
    "import seaborn as sns"
   ]
  },
  {
   "cell_type": "markdown",
   "id": "e559e870-5ae3-48b1-bdcf-a80de9496d53",
   "metadata": {},
   "source": [
    "Generates and saves a histogram visualization comparing score distributions across Hogwarts houses\n",
    "for each course. The visualization helps identify which courses have homogeneous or heterogeneous\n",
    "distributions among houses.\n",
    "\n",
    "The function:\n",
    "- Reads preprocessed data from CSV\n",
    "- Creates a 4x3 subplot grid for 12 courses\n",
    "- Generates overlapping histograms for each house in each course\n",
    "- Uses different colors for each house\n",
    "- Saves the resulting visualization as a PNG file\n",
    "\n",
    "Analysis shows that:\n",
    "1. Care of Magical Creatures has the most homogeneous distribution\n",
    "2. Some courses like Potions show clear differences between houses\n",
    "3. Arithmancy shows slight variations but maintains general uniformity\n",
    "\n",
    "The output is saved as 'histogram.png' in the output folder."
   ]
  },
  {
   "cell_type": "code",
   "execution_count": null,
   "id": "adee599a-d4bb-4ba6-854c-782ace5325e6",
   "metadata": {},
   "outputs": [],
   "source": [
    "def generate_histogram():\n",
    "    # Read the dataset\n",
    "    df = pd.read_csv('../datasets/dataset_train')\n",
    "    \n",
    "    # Get list of course columns (excluding non-course columns)\n",
    "    courses = df.select_dtypes(include=['float64']).columns\n",
    "\n",
    "    # Create a figure with subplots for each course\n",
    "    fig = plt.figure(figsize=(20, 15))\n",
    "    fig.suptitle('Distribution of Scores by House for Each Course', fontsize=16)\n",
    "    \n",
    "    # Create a subplot for each course\n",
    "    for idx, course in enumerate(courses, 1):\n",
    "        plt.subplot(4, 3, idx)\n",
    "        \n",
    "        # Create histogram for current course\n",
    "        sns.histplot(data=df, x=course, hue='Hogwarts House', \n",
    "                    bins=20, alpha=0.5, multiple=\"layer\")\n",
    "        \n",
    "        plt.title(course)\n",
    "        plt.xlabel('Score')\n",
    "        plt.ylabel('Count')\n",
    "        \n",
    "        # Rotate x-axis labels for better readability\n",
    "        plt.xticks(rotation=45)\n",
    "        \n",
    "        # Only show legend for the first subplot to avoid redundancy\n",
    "        if idx != 1:\n",
    "            plt.legend([],[], frameon=False)\n",
    "    \n",
    "    # Adjust layout to prevent overlap\n",
    "    plt.tight_layout()\n",
    "    \n",
    "    # Save the plot\n",
    "    plt.savefig('../output/histogram.png')\n",
    "    plt.close()\n",
    "\n",
    "    print(\"\\nThe histogram graph has been saved in the 'output' folder.\")\n",
    "\n",
    "    print(\"\\nQuestion:\\nWhich Hogwarts course has a homogeneous score distribution between all four houses?\\n\")\n",
    "\n",
    "    print('''Answer to the question:\n",
    "\n",
    "    We can discard bimodal histograms and focus on the following three options:\n",
    "\n",
    "    1. **`Arithmancy`**\n",
    "    - Shows considerably overlapped distribution\n",
    "    - However, `Hufflepuff` (red) shows a slight tendency towards higher scores\n",
    "    - `Ravenclaw` (blue) has slightly lower concentration at the central peak\n",
    "\n",
    "    2. **`Potions`**\n",
    "    - Although there is overlap, the distributions are quite dispersed\n",
    "    - Clear differences can be seen between houses\n",
    "    - `Slytherin` (green) tends to have higher scores\n",
    "    - Distributions are wider and less uniform between houses\n",
    "\n",
    "    3. **`Care of Magical Creatures`**\n",
    "    - Shows the most uniform overlap of the three\n",
    "    - Peaks for all houses are practically at the same point\n",
    "    - Distribution shapes are very similar for all houses\n",
    "    - Dispersion (distribution width) is very similar for all houses\n",
    "    - It's difficult to distinguish significant differences between houses\n",
    "\n",
    "    **Final Result**\n",
    "    - The most uniform distribution is **`Care of Magical Creatures`**\n",
    "    - This course shows the most balanced and similar distribution across all houses, with very similar scoring patterns regardless of student house affiliation\n",
    "    ''')"
   ]
  },
  {
   "cell_type": "code",
   "execution_count": null,
   "id": "15f4ecc4-e1b6-42b9-a864-eb12624d16a6",
   "metadata": {},
   "outputs": [],
   "source": [
    "if __name__ == \"__main__\":\n",
    "    generate_histogram()"
   ]
  }
 ],
 "metadata": {
  "kernelspec": {
   "display_name": "Python [conda env:env]",
   "language": "python",
   "name": "conda-env-env-py"
  },
  "language_info": {
   "codemirror_mode": {
    "name": "ipython",
    "version": 3
   },
   "file_extension": ".py",
   "mimetype": "text/x-python",
   "name": "python",
   "nbconvert_exporter": "python",
   "pygments_lexer": "ipython3",
   "version": "3.12.8"
  }
 },
 "nbformat": 4,
 "nbformat_minor": 5
}
