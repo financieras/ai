{
  "nbformat": 4,
  "nbformat_minor": 0,
  "metadata": {
    "colab": {
      "provenance": [],
      "authorship_tag": "ABX9TyNfv+4e9JE0HDXccPtrCcbu",
      "include_colab_link": true
    },
    "kernelspec": {
      "name": "python3",
      "display_name": "Python 3"
    },
    "language_info": {
      "name": "python"
    }
  },
  "cells": [
    {
      "cell_type": "markdown",
      "metadata": {
        "id": "view-in-github",
        "colab_type": "text"
      },
      "source": [
        "<a href=\"https://colab.research.google.com/github/financieras/ai/blob/main/logistic_regression/notebooks/main.ipynb\" target=\"_parent\"><img src=\"https://colab.research.google.com/assets/colab-badge.svg\" alt=\"Open In Colab\"/></a>"
      ]
    },
    {
      "cell_type": "markdown",
      "source": [
        "# Logistic Regression"
      ],
      "metadata": {
        "id": "IzRXAT4X2h46"
      }
    },
    {
      "cell_type": "markdown",
      "source": [
        "## Estructura del proyecto\n",
        "\n",
        "### datasets/\n",
        "- dataset_train.csv\n",
        "- dataset_test.csv\n",
        "\n",
        "### notebooks/\n",
        "0. main.ipynb\n",
        "1. exploratory.ipynb\n",
        "2. describe.ipynb\n",
        "3. histogram.ipynb\n",
        "4. scatter_plot.ipynb\n",
        "5. pair_plot.ipynb\n",
        "6. normalize.ipynb\n",
        "7. logreg_train.ipynb\n",
        "8. logreg_predict.ipynb\n",
        "\n",
        "### outputs/\n",
        "- correlation_heatmap.png\n",
        "- houses.csv\n",
        "\n",
        "### scripts/\n",
        "- ft_functions.py\n",
        "\n",
        "\n"
      ],
      "metadata": {
        "id": "cs_wUWRWzVHC"
      }
    }
  ]
}