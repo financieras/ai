{
 "cells": [
  {
   "cell_type": "markdown",
   "metadata": {
    "id": "IzRXAT4X2h46"
   },
   "source": [
    "# Logistic Regression"
   ]
  },
  {
   "cell_type": "markdown",
   "metadata": {
    "id": "cs_wUWRWzVHC"
   },
   "source": [
    "## Estructura del proyecto\n",
    "\n",
    "### datasets/\n",
    "- dataset_train.csv\n",
    "- dataset_test.csv\n",
    "\n",
    "### notebooks/\n",
    "0. main.ipynb\n",
    "1. exploratory.ipynb\n",
    "2. describe.ipynb\n",
    "3. histogram.ipynb\n",
    "4. scatter_plot.ipynb\n",
    "5. pair_plot.ipynb\n",
    "6. complete_data.ipynb\n",
    "7. normalize.ipynb\n",
    "8. logreg_train.ipynb\n",
    "9. logreg_predict.ipynb\n",
    "\n",
    "### src/\n",
    "- ft_functions.py\n",
    "\n",
    "### output/\n",
    "- correlation_heatmap.png\n",
    "- houses.csv"
   ]
  },
  {
   "cell_type": "markdown",
   "metadata": {},
   "source": [
    "## Contenido de los Notebooks"
   ]
  },
  {
   "cell_type": "markdown",
   "metadata": {},
   "source": [
    "### 1. exploratory.ipynb\n",
    "1. Introducción: Explica que el proyecto es de Regresión Logística para clasificación multinomial.\n",
    "2. Datos de entrada: Se mencionan dos conjuntos de datos (dataset_train.csv y dataset_test.csv).\n",
    "3. Carga de datos: Se usa pandas para leer los archivos y convertirlos en DataFrame.\n",
    "4. Estructura de los datos: Se analizan los datasets con df_train.info() y df_test.info().\n",
    "5. Exploración inicial: Se revisan valores nulos y categorías únicas en variables nominales.\n",
    "6. Análisis de correlaciones: Se genera un mapa de calor para visualizar la relación entre variables numéricas."
   ]
  },
  {
   "cell_type": "markdown",
   "metadata": {},
   "source": [
    "### 2. describe.ipynb\n",
    "1. Introducción: Explica que el Notebook realiza análisis estadístico descriptivo sobre los datos de entrenamiento.\n",
    "2. Verificación del directorio: Se usa `os` para mostrar la ubicación actual del script.\n",
    "3. Configuración del entorno: Se modifica el `sys.path` para importar funciones desde `src.ft_functions`.\n",
    "4. Cálculo de métricas: Se define `calculate_metrics(df)` para obtener estadísticas de columnas numéricas.\n",
    "5. Impresión de métricas: Se implementa `print_metrics_table(metrics)` para mostrar resultados en una tabla.\n",
    "6. Análisis del dataset: `analyze_dataset()` carga los datos y ejecuta los cálculos estadísticos."
   ]
  },
  {
   "cell_type": "markdown",
   "metadata": {},
   "source": [
    "### 3. histogram.ipynb\n",
    "1. Introducción: Genera y guarda un histograma comparando las distribuciones de puntuaciones entre las casas de Hogwarts para cada curso.\n",
    "2. Carga de datos: Se lee el archivo `dataset_train.csv` y se convierte en un DataFrame de Pandas.\n",
    "3. Selección de cursos: Se identifican las columnas correspondientes a los cursos dentro del DataFrame.\n",
    "4. Configuración del entorno: Se importa `sys` y se ajusta `sys.path` para incluir directorios superiores.\n",
    "5. Creación de gráficos: Se genera una figura con subgráficos para cada curso, mostrando la distribución de puntuaciones por casa.\n",
    "6. Análisis de homogeneidad: Se responde a la pregunta sobre qué curso tiene una distribución homogénea entre todas las casas."
   ]
  },
  {
   "cell_type": "markdown",
   "metadata": {},
   "source": [
    "### 4. scatter_plot.ipynb\n",
    "1. Lee el archivo `dataset_train.csv` y se convierte en DataFrame de Pandas.\n",
    "2. Se seleccionan las columnas que representan las materias (cursos)\n",
    "3. Se elimina una columna específica del dataset basándose en un archivo JSON (`colum_to_drop.json`)\n",
    "4. Calcular la matriz de correlación entre todas las materias, encontrando las dos materias con la correlación más alta en valor absoluto\n",
    "5. Se eliminan las filas que contienen valores nulos en el dataframe.\n",
    "6. Se crea un gráfico de dispersión (scatter plot) de las dos materias con la correlación más alta. Se añade una línea de tendencia y el coeficiente de correlación.\n",
    "7. Muestra y guarda el gráfico en el archivo 'scatter_plot.png'."
   ]
  },
  {
   "cell_type": "markdown",
   "metadata": {},
   "source": [
    "### 5. pair_plot.ipynb\n",
    "1. Lee el archivo 'dataset_train.csv' y lo convierte en un DataFrame de pandas.\n",
    "3. Selecciona las columnas que representan los cursos (materias) del DataFrame.\n",
    "4. Elimina una columna específica basándose en un archivo JSON ('colum_to_drop.json').\n",
    "5. Elimina las filas con datos incompletos del DataFrame.\n",
    "6. Crea un 'pair plot' utilizando `seaborn`, que muestra la distribución de cada variable y las relaciones entre pares de variables.\n",
    "7. Incluye un análisis de las visualizaciones, destacando qué cursos muestran mejor separación entre las casas y cuáles serían más útiles para el modelo de regresión logística.\n",
    "8. Menciona específicamente que cursos como 'Defense Against the Dark Arts', 'Herbology', 'Potions', 'Charms' y 'Flying' muestran buena separación entre casas.\n",
    "9. Identifica los cursos que muestran mayor superposición y serían menos útiles para el modelo, como 'History of Magic', 'Muggle Studies','Ancient Runes', 'Arithmancy'."
   ]
  },
  {
   "cell_type": "markdown",
   "metadata": {},
   "source": [
    "### 6. complete_data.ipynb"
   ]
  },
  {
   "cell_type": "markdown",
   "metadata": {},
   "source": [
    "### 7. normalize.ipynb"
   ]
  },
  {
   "cell_type": "markdown",
   "metadata": {},
   "source": [
    "### 8. logreg_train.ipynb"
   ]
  },
  {
   "cell_type": "markdown",
   "metadata": {},
   "source": [
    "### 9. logreg_predict.ipynb"
   ]
  }
 ],
 "metadata": {
  "colab": {
   "authorship_tag": "ABX9TyNfv+4e9JE0HDXccPtrCcbu",
   "include_colab_link": true,
   "provenance": []
  },
  "kernelspec": {
   "display_name": "Python 3 (ipykernel)",
   "language": "python",
   "name": "python3"
  },
  "language_info": {
   "codemirror_mode": {
    "name": "ipython",
    "version": 3
   },
   "file_extension": ".py",
   "mimetype": "text/x-python",
   "name": "python",
   "nbconvert_exporter": "python",
   "pygments_lexer": "ipython3",
   "version": "3.13.1"
  }
 },
 "nbformat": 4,
 "nbformat_minor": 4
}
