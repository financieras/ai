{
 "cells": [
  {
   "cell_type": "markdown",
   "metadata": {
    "id": "IzRXAT4X2h46"
   },
   "source": [
    "# Logistic Regression"
   ]
  },
  {
   "cell_type": "markdown",
   "metadata": {
    "id": "cs_wUWRWzVHC"
   },
   "source": [
    "## Estructura del proyecto\n",
    "\n",
    "### datasets/\n",
    "- dataset_train.csv\n",
    "- dataset_test.csv\n",
    "\n",
    "### notebooks/\n",
    "0. main.ipynb\n",
    "1. exploratory.ipynb\n",
    "2. describe.ipynb\n",
    "3. histogram.ipynb\n",
    "4. scatter_plot.ipynb\n",
    "5. pair_plot.ipynb\n",
    "6. normalize.ipynb\n",
    "7. logreg_train.ipynb\n",
    "8. logreg_predict.ipynb\n",
    "\n",
    "### outputs/\n",
    "- correlation_heatmap.png\n",
    "- houses.csv\n",
    "\n",
    "### scripts/\n",
    "- ft_functions.py\n",
    "\n",
    "\n"
   ]
  },
  {
   "cell_type": "code",
   "execution_count": null,
   "metadata": {},
   "outputs": [],
   "source": []
  }
 ],
 "metadata": {
  "colab": {
   "authorship_tag": "ABX9TyNfv+4e9JE0HDXccPtrCcbu",
   "include_colab_link": true,
   "provenance": []
  },
  "kernelspec": {
   "display_name": "Python 3 (ipykernel)",
   "language": "python",
   "name": "python3"
  },
  "language_info": {
   "codemirror_mode": {
    "name": "ipython",
    "version": 3
   },
   "file_extension": ".py",
   "mimetype": "text/x-python",
   "name": "python",
   "nbconvert_exporter": "python",
   "pygments_lexer": "ipython3",
   "version": "3.12.2"
  }
 },
 "nbformat": 4,
 "nbformat_minor": 4
}
